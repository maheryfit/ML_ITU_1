{
 "cells": [
  {
   "metadata": {},
   "cell_type": "markdown",
   "source": [
    "# Arbre de décision et Forêt aléatoire\n",
    "## Partie 1 – Chargement & Exploration\n",
    "1. Chargez le jeu de données Titanic. A chez les 5 premières lignes et les types de données. Que\n",
    "remarquez-vous ?"
   ],
   "id": "358f5c3bc7a21db0"
  },
  {
   "metadata": {
    "ExecuteTime": {
     "end_time": "2025-06-25T09:34:56.327087Z",
     "start_time": "2025-06-25T09:34:56.323951Z"
    }
   },
   "cell_type": "code",
   "source": [
    "import numpy as np\n",
    "import pandas as pd"
   ],
   "id": "initial_id",
   "outputs": [],
   "execution_count": 50
  },
  {
   "metadata": {
    "ExecuteTime": {
     "end_time": "2025-06-25T09:34:56.400511Z",
     "start_time": "2025-06-25T09:34:56.392956Z"
    }
   },
   "cell_type": "code",
   "source": "df = pd.read_csv(\"titanic/train.csv\")",
   "id": "39799d71de2a5e09",
   "outputs": [],
   "execution_count": 51
  },
  {
   "metadata": {
    "ExecuteTime": {
     "end_time": "2025-06-25T09:34:56.530039Z",
     "start_time": "2025-06-25T09:34:56.510133Z"
    }
   },
   "cell_type": "code",
   "source": "df.head(5)",
   "id": "ee6f9c45df4f37c3",
   "outputs": [
    {
     "data": {
      "text/plain": [
       "   PassengerId  Survived  Pclass  \\\n",
       "0            1         0       3   \n",
       "1            2         1       1   \n",
       "2            3         1       3   \n",
       "3            4         1       1   \n",
       "4            5         0       3   \n",
       "\n",
       "                                                Name     Sex   Age  SibSp  \\\n",
       "0                            Braund, Mr. Owen Harris    male  22.0      1   \n",
       "1  Cumings, Mrs. John Bradley (Florence Briggs Th...  female  38.0      1   \n",
       "2                             Heikkinen, Miss. Laina  female  26.0      0   \n",
       "3       Futrelle, Mrs. Jacques Heath (Lily May Peel)  female  35.0      1   \n",
       "4                           Allen, Mr. William Henry    male  35.0      0   \n",
       "\n",
       "   Parch            Ticket     Fare Cabin Embarked  \n",
       "0      0         A/5 21171   7.2500   NaN        S  \n",
       "1      0          PC 17599  71.2833   C85        C  \n",
       "2      0  STON/O2. 3101282   7.9250   NaN        S  \n",
       "3      0            113803  53.1000  C123        S  \n",
       "4      0            373450   8.0500   NaN        S  "
      ],
      "text/html": [
       "<div>\n",
       "<style scoped>\n",
       "    .dataframe tbody tr th:only-of-type {\n",
       "        vertical-align: middle;\n",
       "    }\n",
       "\n",
       "    .dataframe tbody tr th {\n",
       "        vertical-align: top;\n",
       "    }\n",
       "\n",
       "    .dataframe thead th {\n",
       "        text-align: right;\n",
       "    }\n",
       "</style>\n",
       "<table border=\"1\" class=\"dataframe\">\n",
       "  <thead>\n",
       "    <tr style=\"text-align: right;\">\n",
       "      <th></th>\n",
       "      <th>PassengerId</th>\n",
       "      <th>Survived</th>\n",
       "      <th>Pclass</th>\n",
       "      <th>Name</th>\n",
       "      <th>Sex</th>\n",
       "      <th>Age</th>\n",
       "      <th>SibSp</th>\n",
       "      <th>Parch</th>\n",
       "      <th>Ticket</th>\n",
       "      <th>Fare</th>\n",
       "      <th>Cabin</th>\n",
       "      <th>Embarked</th>\n",
       "    </tr>\n",
       "  </thead>\n",
       "  <tbody>\n",
       "    <tr>\n",
       "      <th>0</th>\n",
       "      <td>1</td>\n",
       "      <td>0</td>\n",
       "      <td>3</td>\n",
       "      <td>Braund, Mr. Owen Harris</td>\n",
       "      <td>male</td>\n",
       "      <td>22.0</td>\n",
       "      <td>1</td>\n",
       "      <td>0</td>\n",
       "      <td>A/5 21171</td>\n",
       "      <td>7.2500</td>\n",
       "      <td>NaN</td>\n",
       "      <td>S</td>\n",
       "    </tr>\n",
       "    <tr>\n",
       "      <th>1</th>\n",
       "      <td>2</td>\n",
       "      <td>1</td>\n",
       "      <td>1</td>\n",
       "      <td>Cumings, Mrs. John Bradley (Florence Briggs Th...</td>\n",
       "      <td>female</td>\n",
       "      <td>38.0</td>\n",
       "      <td>1</td>\n",
       "      <td>0</td>\n",
       "      <td>PC 17599</td>\n",
       "      <td>71.2833</td>\n",
       "      <td>C85</td>\n",
       "      <td>C</td>\n",
       "    </tr>\n",
       "    <tr>\n",
       "      <th>2</th>\n",
       "      <td>3</td>\n",
       "      <td>1</td>\n",
       "      <td>3</td>\n",
       "      <td>Heikkinen, Miss. Laina</td>\n",
       "      <td>female</td>\n",
       "      <td>26.0</td>\n",
       "      <td>0</td>\n",
       "      <td>0</td>\n",
       "      <td>STON/O2. 3101282</td>\n",
       "      <td>7.9250</td>\n",
       "      <td>NaN</td>\n",
       "      <td>S</td>\n",
       "    </tr>\n",
       "    <tr>\n",
       "      <th>3</th>\n",
       "      <td>4</td>\n",
       "      <td>1</td>\n",
       "      <td>1</td>\n",
       "      <td>Futrelle, Mrs. Jacques Heath (Lily May Peel)</td>\n",
       "      <td>female</td>\n",
       "      <td>35.0</td>\n",
       "      <td>1</td>\n",
       "      <td>0</td>\n",
       "      <td>113803</td>\n",
       "      <td>53.1000</td>\n",
       "      <td>C123</td>\n",
       "      <td>S</td>\n",
       "    </tr>\n",
       "    <tr>\n",
       "      <th>4</th>\n",
       "      <td>5</td>\n",
       "      <td>0</td>\n",
       "      <td>3</td>\n",
       "      <td>Allen, Mr. William Henry</td>\n",
       "      <td>male</td>\n",
       "      <td>35.0</td>\n",
       "      <td>0</td>\n",
       "      <td>0</td>\n",
       "      <td>373450</td>\n",
       "      <td>8.0500</td>\n",
       "      <td>NaN</td>\n",
       "      <td>S</td>\n",
       "    </tr>\n",
       "  </tbody>\n",
       "</table>\n",
       "</div>"
      ]
     },
     "execution_count": 52,
     "metadata": {},
     "output_type": "execute_result"
    }
   ],
   "execution_count": 52
  },
  {
   "metadata": {},
   "cell_type": "markdown",
   "source": "2. Combien y a-t-il de passagers au total ? Combien de survivants ? Calculez les proportions.",
   "id": "956b00699b5bd84"
  },
  {
   "metadata": {
    "ExecuteTime": {
     "end_time": "2025-06-25T09:34:56.765716Z",
     "start_time": "2025-06-25T09:34:56.753358Z"
    }
   },
   "cell_type": "code",
   "source": "df.info()",
   "id": "75f939bbfc682d9a",
   "outputs": [
    {
     "name": "stdout",
     "output_type": "stream",
     "text": [
      "<class 'pandas.core.frame.DataFrame'>\n",
      "RangeIndex: 891 entries, 0 to 890\n",
      "Data columns (total 12 columns):\n",
      " #   Column       Non-Null Count  Dtype  \n",
      "---  ------       --------------  -----  \n",
      " 0   PassengerId  891 non-null    int64  \n",
      " 1   Survived     891 non-null    int64  \n",
      " 2   Pclass       891 non-null    int64  \n",
      " 3   Name         891 non-null    object \n",
      " 4   Sex          891 non-null    object \n",
      " 5   Age          714 non-null    float64\n",
      " 6   SibSp        891 non-null    int64  \n",
      " 7   Parch        891 non-null    int64  \n",
      " 8   Ticket       891 non-null    object \n",
      " 9   Fare         891 non-null    float64\n",
      " 10  Cabin        204 non-null    object \n",
      " 11  Embarked     889 non-null    object \n",
      "dtypes: float64(2), int64(5), object(5)\n",
      "memory usage: 83.7+ KB\n"
     ]
    }
   ],
   "execution_count": 53
  },
  {
   "metadata": {
    "ExecuteTime": {
     "end_time": "2025-06-25T09:34:57.038458Z",
     "start_time": "2025-06-25T09:34:57.032193Z"
    }
   },
   "cell_type": "code",
   "source": "df.shape[0]",
   "id": "c81fedd56f2fc371",
   "outputs": [
    {
     "data": {
      "text/plain": [
       "891"
      ]
     },
     "execution_count": 54,
     "metadata": {},
     "output_type": "execute_result"
    }
   ],
   "execution_count": 54
  },
  {
   "metadata": {
    "ExecuteTime": {
     "end_time": "2025-06-25T09:34:57.168532Z",
     "start_time": "2025-06-25T09:34:57.159650Z"
    }
   },
   "cell_type": "code",
   "source": [
    "# Survivant\n",
    "survivant = df[df['Survived'] == 1]\n",
    "mort = df[df['Survived'] == 0]\n",
    "print(\"Survivant: \", survivant.shape[0], \"Pourcentage: \", (survivant.shape[0] / df.shape[0]) * 100)"
   ],
   "id": "d96032f01e29191c",
   "outputs": [
    {
     "name": "stdout",
     "output_type": "stream",
     "text": [
      "Survivant:  342 Pourcentage:  38.38383838383838\n"
     ]
    }
   ],
   "execution_count": 55
  },
  {
   "metadata": {},
   "cell_type": "markdown",
   "source": [
    "3. Identiez les colonnes avec des valeurs manquantes. Pour chaque colonne concernée, indiquez le\n",
    "nombre et le pourcentage de valeurs manquantes."
   ],
   "id": "5433932998fc2323"
  },
  {
   "metadata": {
    "ExecuteTime": {
     "end_time": "2025-06-25T09:34:57.320088Z",
     "start_time": "2025-06-25T09:34:57.288840Z"
    }
   },
   "cell_type": "code",
   "source": "df.describe()",
   "id": "aa70b9a749758f6d",
   "outputs": [
    {
     "data": {
      "text/plain": [
       "       PassengerId    Survived      Pclass         Age       SibSp  \\\n",
       "count   891.000000  891.000000  891.000000  714.000000  891.000000   \n",
       "mean    446.000000    0.383838    2.308642   29.699118    0.523008   \n",
       "std     257.353842    0.486592    0.836071   14.526497    1.102743   \n",
       "min       1.000000    0.000000    1.000000    0.420000    0.000000   \n",
       "25%     223.500000    0.000000    2.000000   20.125000    0.000000   \n",
       "50%     446.000000    0.000000    3.000000   28.000000    0.000000   \n",
       "75%     668.500000    1.000000    3.000000   38.000000    1.000000   \n",
       "max     891.000000    1.000000    3.000000   80.000000    8.000000   \n",
       "\n",
       "            Parch        Fare  \n",
       "count  891.000000  891.000000  \n",
       "mean     0.381594   32.204208  \n",
       "std      0.806057   49.693429  \n",
       "min      0.000000    0.000000  \n",
       "25%      0.000000    7.910400  \n",
       "50%      0.000000   14.454200  \n",
       "75%      0.000000   31.000000  \n",
       "max      6.000000  512.329200  "
      ],
      "text/html": [
       "<div>\n",
       "<style scoped>\n",
       "    .dataframe tbody tr th:only-of-type {\n",
       "        vertical-align: middle;\n",
       "    }\n",
       "\n",
       "    .dataframe tbody tr th {\n",
       "        vertical-align: top;\n",
       "    }\n",
       "\n",
       "    .dataframe thead th {\n",
       "        text-align: right;\n",
       "    }\n",
       "</style>\n",
       "<table border=\"1\" class=\"dataframe\">\n",
       "  <thead>\n",
       "    <tr style=\"text-align: right;\">\n",
       "      <th></th>\n",
       "      <th>PassengerId</th>\n",
       "      <th>Survived</th>\n",
       "      <th>Pclass</th>\n",
       "      <th>Age</th>\n",
       "      <th>SibSp</th>\n",
       "      <th>Parch</th>\n",
       "      <th>Fare</th>\n",
       "    </tr>\n",
       "  </thead>\n",
       "  <tbody>\n",
       "    <tr>\n",
       "      <th>count</th>\n",
       "      <td>891.000000</td>\n",
       "      <td>891.000000</td>\n",
       "      <td>891.000000</td>\n",
       "      <td>714.000000</td>\n",
       "      <td>891.000000</td>\n",
       "      <td>891.000000</td>\n",
       "      <td>891.000000</td>\n",
       "    </tr>\n",
       "    <tr>\n",
       "      <th>mean</th>\n",
       "      <td>446.000000</td>\n",
       "      <td>0.383838</td>\n",
       "      <td>2.308642</td>\n",
       "      <td>29.699118</td>\n",
       "      <td>0.523008</td>\n",
       "      <td>0.381594</td>\n",
       "      <td>32.204208</td>\n",
       "    </tr>\n",
       "    <tr>\n",
       "      <th>std</th>\n",
       "      <td>257.353842</td>\n",
       "      <td>0.486592</td>\n",
       "      <td>0.836071</td>\n",
       "      <td>14.526497</td>\n",
       "      <td>1.102743</td>\n",
       "      <td>0.806057</td>\n",
       "      <td>49.693429</td>\n",
       "    </tr>\n",
       "    <tr>\n",
       "      <th>min</th>\n",
       "      <td>1.000000</td>\n",
       "      <td>0.000000</td>\n",
       "      <td>1.000000</td>\n",
       "      <td>0.420000</td>\n",
       "      <td>0.000000</td>\n",
       "      <td>0.000000</td>\n",
       "      <td>0.000000</td>\n",
       "    </tr>\n",
       "    <tr>\n",
       "      <th>25%</th>\n",
       "      <td>223.500000</td>\n",
       "      <td>0.000000</td>\n",
       "      <td>2.000000</td>\n",
       "      <td>20.125000</td>\n",
       "      <td>0.000000</td>\n",
       "      <td>0.000000</td>\n",
       "      <td>7.910400</td>\n",
       "    </tr>\n",
       "    <tr>\n",
       "      <th>50%</th>\n",
       "      <td>446.000000</td>\n",
       "      <td>0.000000</td>\n",
       "      <td>3.000000</td>\n",
       "      <td>28.000000</td>\n",
       "      <td>0.000000</td>\n",
       "      <td>0.000000</td>\n",
       "      <td>14.454200</td>\n",
       "    </tr>\n",
       "    <tr>\n",
       "      <th>75%</th>\n",
       "      <td>668.500000</td>\n",
       "      <td>1.000000</td>\n",
       "      <td>3.000000</td>\n",
       "      <td>38.000000</td>\n",
       "      <td>1.000000</td>\n",
       "      <td>0.000000</td>\n",
       "      <td>31.000000</td>\n",
       "    </tr>\n",
       "    <tr>\n",
       "      <th>max</th>\n",
       "      <td>891.000000</td>\n",
       "      <td>1.000000</td>\n",
       "      <td>3.000000</td>\n",
       "      <td>80.000000</td>\n",
       "      <td>8.000000</td>\n",
       "      <td>6.000000</td>\n",
       "      <td>512.329200</td>\n",
       "    </tr>\n",
       "  </tbody>\n",
       "</table>\n",
       "</div>"
      ]
     },
     "execution_count": 56,
     "metadata": {},
     "output_type": "execute_result"
    }
   ],
   "execution_count": 56
  },
  {
   "metadata": {
    "ExecuteTime": {
     "end_time": "2025-06-25T09:34:57.477753Z",
     "start_time": "2025-06-25T09:34:57.469869Z"
    }
   },
   "cell_type": "code",
   "source": "df.isnull().sum()",
   "id": "9ae541be48af7c16",
   "outputs": [
    {
     "data": {
      "text/plain": [
       "PassengerId      0\n",
       "Survived         0\n",
       "Pclass           0\n",
       "Name             0\n",
       "Sex              0\n",
       "Age            177\n",
       "SibSp            0\n",
       "Parch            0\n",
       "Ticket           0\n",
       "Fare             0\n",
       "Cabin          687\n",
       "Embarked         2\n",
       "dtype: int64"
      ]
     },
     "execution_count": 57,
     "metadata": {},
     "output_type": "execute_result"
    }
   ],
   "execution_count": 57
  },
  {
   "metadata": {},
   "cell_type": "markdown",
   "source": [
    "## Partie 2 – Nettoyage & Préparation\n",
    "4. Imputez les valeurs manquantes : Age par la médiane, Embarked par la modalité la plus fréquente."
   ],
   "id": "14bfcf3eaf2be07b"
  },
  {
   "metadata": {
    "ExecuteTime": {
     "end_time": "2025-06-25T09:34:57.751813Z",
     "start_time": "2025-06-25T09:34:57.744755Z"
    }
   },
   "cell_type": "code",
   "source": [
    "df['Age'] = df['Age'].fillna(df['Age'].median())\n",
    "df['Embarked'] = df['Embarked'].fillna(df['Embarked'].mode()[0])"
   ],
   "id": "1d49ca9efb2f96ec",
   "outputs": [],
   "execution_count": 58
  },
  {
   "metadata": {
    "ExecuteTime": {
     "end_time": "2025-06-25T09:34:58.011974Z",
     "start_time": "2025-06-25T09:34:57.994014Z"
    }
   },
   "cell_type": "code",
   "source": "df",
   "id": "2bed64ba127ee712",
   "outputs": [
    {
     "data": {
      "text/plain": [
       "     PassengerId  Survived  Pclass  \\\n",
       "0              1         0       3   \n",
       "1              2         1       1   \n",
       "2              3         1       3   \n",
       "3              4         1       1   \n",
       "4              5         0       3   \n",
       "..           ...       ...     ...   \n",
       "886          887         0       2   \n",
       "887          888         1       1   \n",
       "888          889         0       3   \n",
       "889          890         1       1   \n",
       "890          891         0       3   \n",
       "\n",
       "                                                  Name     Sex   Age  SibSp  \\\n",
       "0                              Braund, Mr. Owen Harris    male  22.0      1   \n",
       "1    Cumings, Mrs. John Bradley (Florence Briggs Th...  female  38.0      1   \n",
       "2                               Heikkinen, Miss. Laina  female  26.0      0   \n",
       "3         Futrelle, Mrs. Jacques Heath (Lily May Peel)  female  35.0      1   \n",
       "4                             Allen, Mr. William Henry    male  35.0      0   \n",
       "..                                                 ...     ...   ...    ...   \n",
       "886                              Montvila, Rev. Juozas    male  27.0      0   \n",
       "887                       Graham, Miss. Margaret Edith  female  19.0      0   \n",
       "888           Johnston, Miss. Catherine Helen \"Carrie\"  female  28.0      1   \n",
       "889                              Behr, Mr. Karl Howell    male  26.0      0   \n",
       "890                                Dooley, Mr. Patrick    male  32.0      0   \n",
       "\n",
       "     Parch            Ticket     Fare Cabin Embarked  \n",
       "0        0         A/5 21171   7.2500   NaN        S  \n",
       "1        0          PC 17599  71.2833   C85        C  \n",
       "2        0  STON/O2. 3101282   7.9250   NaN        S  \n",
       "3        0            113803  53.1000  C123        S  \n",
       "4        0            373450   8.0500   NaN        S  \n",
       "..     ...               ...      ...   ...      ...  \n",
       "886      0            211536  13.0000   NaN        S  \n",
       "887      0            112053  30.0000   B42        S  \n",
       "888      2        W./C. 6607  23.4500   NaN        S  \n",
       "889      0            111369  30.0000  C148        C  \n",
       "890      0            370376   7.7500   NaN        Q  \n",
       "\n",
       "[891 rows x 12 columns]"
      ],
      "text/html": [
       "<div>\n",
       "<style scoped>\n",
       "    .dataframe tbody tr th:only-of-type {\n",
       "        vertical-align: middle;\n",
       "    }\n",
       "\n",
       "    .dataframe tbody tr th {\n",
       "        vertical-align: top;\n",
       "    }\n",
       "\n",
       "    .dataframe thead th {\n",
       "        text-align: right;\n",
       "    }\n",
       "</style>\n",
       "<table border=\"1\" class=\"dataframe\">\n",
       "  <thead>\n",
       "    <tr style=\"text-align: right;\">\n",
       "      <th></th>\n",
       "      <th>PassengerId</th>\n",
       "      <th>Survived</th>\n",
       "      <th>Pclass</th>\n",
       "      <th>Name</th>\n",
       "      <th>Sex</th>\n",
       "      <th>Age</th>\n",
       "      <th>SibSp</th>\n",
       "      <th>Parch</th>\n",
       "      <th>Ticket</th>\n",
       "      <th>Fare</th>\n",
       "      <th>Cabin</th>\n",
       "      <th>Embarked</th>\n",
       "    </tr>\n",
       "  </thead>\n",
       "  <tbody>\n",
       "    <tr>\n",
       "      <th>0</th>\n",
       "      <td>1</td>\n",
       "      <td>0</td>\n",
       "      <td>3</td>\n",
       "      <td>Braund, Mr. Owen Harris</td>\n",
       "      <td>male</td>\n",
       "      <td>22.0</td>\n",
       "      <td>1</td>\n",
       "      <td>0</td>\n",
       "      <td>A/5 21171</td>\n",
       "      <td>7.2500</td>\n",
       "      <td>NaN</td>\n",
       "      <td>S</td>\n",
       "    </tr>\n",
       "    <tr>\n",
       "      <th>1</th>\n",
       "      <td>2</td>\n",
       "      <td>1</td>\n",
       "      <td>1</td>\n",
       "      <td>Cumings, Mrs. John Bradley (Florence Briggs Th...</td>\n",
       "      <td>female</td>\n",
       "      <td>38.0</td>\n",
       "      <td>1</td>\n",
       "      <td>0</td>\n",
       "      <td>PC 17599</td>\n",
       "      <td>71.2833</td>\n",
       "      <td>C85</td>\n",
       "      <td>C</td>\n",
       "    </tr>\n",
       "    <tr>\n",
       "      <th>2</th>\n",
       "      <td>3</td>\n",
       "      <td>1</td>\n",
       "      <td>3</td>\n",
       "      <td>Heikkinen, Miss. Laina</td>\n",
       "      <td>female</td>\n",
       "      <td>26.0</td>\n",
       "      <td>0</td>\n",
       "      <td>0</td>\n",
       "      <td>STON/O2. 3101282</td>\n",
       "      <td>7.9250</td>\n",
       "      <td>NaN</td>\n",
       "      <td>S</td>\n",
       "    </tr>\n",
       "    <tr>\n",
       "      <th>3</th>\n",
       "      <td>4</td>\n",
       "      <td>1</td>\n",
       "      <td>1</td>\n",
       "      <td>Futrelle, Mrs. Jacques Heath (Lily May Peel)</td>\n",
       "      <td>female</td>\n",
       "      <td>35.0</td>\n",
       "      <td>1</td>\n",
       "      <td>0</td>\n",
       "      <td>113803</td>\n",
       "      <td>53.1000</td>\n",
       "      <td>C123</td>\n",
       "      <td>S</td>\n",
       "    </tr>\n",
       "    <tr>\n",
       "      <th>4</th>\n",
       "      <td>5</td>\n",
       "      <td>0</td>\n",
       "      <td>3</td>\n",
       "      <td>Allen, Mr. William Henry</td>\n",
       "      <td>male</td>\n",
       "      <td>35.0</td>\n",
       "      <td>0</td>\n",
       "      <td>0</td>\n",
       "      <td>373450</td>\n",
       "      <td>8.0500</td>\n",
       "      <td>NaN</td>\n",
       "      <td>S</td>\n",
       "    </tr>\n",
       "    <tr>\n",
       "      <th>...</th>\n",
       "      <td>...</td>\n",
       "      <td>...</td>\n",
       "      <td>...</td>\n",
       "      <td>...</td>\n",
       "      <td>...</td>\n",
       "      <td>...</td>\n",
       "      <td>...</td>\n",
       "      <td>...</td>\n",
       "      <td>...</td>\n",
       "      <td>...</td>\n",
       "      <td>...</td>\n",
       "      <td>...</td>\n",
       "    </tr>\n",
       "    <tr>\n",
       "      <th>886</th>\n",
       "      <td>887</td>\n",
       "      <td>0</td>\n",
       "      <td>2</td>\n",
       "      <td>Montvila, Rev. Juozas</td>\n",
       "      <td>male</td>\n",
       "      <td>27.0</td>\n",
       "      <td>0</td>\n",
       "      <td>0</td>\n",
       "      <td>211536</td>\n",
       "      <td>13.0000</td>\n",
       "      <td>NaN</td>\n",
       "      <td>S</td>\n",
       "    </tr>\n",
       "    <tr>\n",
       "      <th>887</th>\n",
       "      <td>888</td>\n",
       "      <td>1</td>\n",
       "      <td>1</td>\n",
       "      <td>Graham, Miss. Margaret Edith</td>\n",
       "      <td>female</td>\n",
       "      <td>19.0</td>\n",
       "      <td>0</td>\n",
       "      <td>0</td>\n",
       "      <td>112053</td>\n",
       "      <td>30.0000</td>\n",
       "      <td>B42</td>\n",
       "      <td>S</td>\n",
       "    </tr>\n",
       "    <tr>\n",
       "      <th>888</th>\n",
       "      <td>889</td>\n",
       "      <td>0</td>\n",
       "      <td>3</td>\n",
       "      <td>Johnston, Miss. Catherine Helen \"Carrie\"</td>\n",
       "      <td>female</td>\n",
       "      <td>28.0</td>\n",
       "      <td>1</td>\n",
       "      <td>2</td>\n",
       "      <td>W./C. 6607</td>\n",
       "      <td>23.4500</td>\n",
       "      <td>NaN</td>\n",
       "      <td>S</td>\n",
       "    </tr>\n",
       "    <tr>\n",
       "      <th>889</th>\n",
       "      <td>890</td>\n",
       "      <td>1</td>\n",
       "      <td>1</td>\n",
       "      <td>Behr, Mr. Karl Howell</td>\n",
       "      <td>male</td>\n",
       "      <td>26.0</td>\n",
       "      <td>0</td>\n",
       "      <td>0</td>\n",
       "      <td>111369</td>\n",
       "      <td>30.0000</td>\n",
       "      <td>C148</td>\n",
       "      <td>C</td>\n",
       "    </tr>\n",
       "    <tr>\n",
       "      <th>890</th>\n",
       "      <td>891</td>\n",
       "      <td>0</td>\n",
       "      <td>3</td>\n",
       "      <td>Dooley, Mr. Patrick</td>\n",
       "      <td>male</td>\n",
       "      <td>32.0</td>\n",
       "      <td>0</td>\n",
       "      <td>0</td>\n",
       "      <td>370376</td>\n",
       "      <td>7.7500</td>\n",
       "      <td>NaN</td>\n",
       "      <td>Q</td>\n",
       "    </tr>\n",
       "  </tbody>\n",
       "</table>\n",
       "<p>891 rows × 12 columns</p>\n",
       "</div>"
      ]
     },
     "execution_count": 59,
     "metadata": {},
     "output_type": "execute_result"
    }
   ],
   "execution_count": 59
  },
  {
   "metadata": {},
   "cell_type": "markdown",
   "source": "6. Créez une nouvelle variable Title à partir de Name. Est-ce une variable informative ? Visualisez sa distribution.",
   "id": "e39dca682f9c5c98"
  },
  {
   "metadata": {
    "ExecuteTime": {
     "end_time": "2025-06-25T09:34:58.175677Z",
     "start_time": "2025-06-25T09:34:58.169694Z"
    }
   },
   "cell_type": "code",
   "source": "df['Title'] = df['Name'].apply(lambda x: x.split(',')[1].strip().split('.')[0])",
   "id": "3e91ae133d8800a5",
   "outputs": [],
   "execution_count": 60
  },
  {
   "metadata": {
    "ExecuteTime": {
     "end_time": "2025-06-25T09:34:58.325811Z",
     "start_time": "2025-06-25T09:34:58.303202Z"
    }
   },
   "cell_type": "code",
   "source": "df",
   "id": "d465014d179667d0",
   "outputs": [
    {
     "data": {
      "text/plain": [
       "     PassengerId  Survived  Pclass  \\\n",
       "0              1         0       3   \n",
       "1              2         1       1   \n",
       "2              3         1       3   \n",
       "3              4         1       1   \n",
       "4              5         0       3   \n",
       "..           ...       ...     ...   \n",
       "886          887         0       2   \n",
       "887          888         1       1   \n",
       "888          889         0       3   \n",
       "889          890         1       1   \n",
       "890          891         0       3   \n",
       "\n",
       "                                                  Name     Sex   Age  SibSp  \\\n",
       "0                              Braund, Mr. Owen Harris    male  22.0      1   \n",
       "1    Cumings, Mrs. John Bradley (Florence Briggs Th...  female  38.0      1   \n",
       "2                               Heikkinen, Miss. Laina  female  26.0      0   \n",
       "3         Futrelle, Mrs. Jacques Heath (Lily May Peel)  female  35.0      1   \n",
       "4                             Allen, Mr. William Henry    male  35.0      0   \n",
       "..                                                 ...     ...   ...    ...   \n",
       "886                              Montvila, Rev. Juozas    male  27.0      0   \n",
       "887                       Graham, Miss. Margaret Edith  female  19.0      0   \n",
       "888           Johnston, Miss. Catherine Helen \"Carrie\"  female  28.0      1   \n",
       "889                              Behr, Mr. Karl Howell    male  26.0      0   \n",
       "890                                Dooley, Mr. Patrick    male  32.0      0   \n",
       "\n",
       "     Parch            Ticket     Fare Cabin Embarked Title  \n",
       "0        0         A/5 21171   7.2500   NaN        S    Mr  \n",
       "1        0          PC 17599  71.2833   C85        C   Mrs  \n",
       "2        0  STON/O2. 3101282   7.9250   NaN        S  Miss  \n",
       "3        0            113803  53.1000  C123        S   Mrs  \n",
       "4        0            373450   8.0500   NaN        S    Mr  \n",
       "..     ...               ...      ...   ...      ...   ...  \n",
       "886      0            211536  13.0000   NaN        S   Rev  \n",
       "887      0            112053  30.0000   B42        S  Miss  \n",
       "888      2        W./C. 6607  23.4500   NaN        S  Miss  \n",
       "889      0            111369  30.0000  C148        C    Mr  \n",
       "890      0            370376   7.7500   NaN        Q    Mr  \n",
       "\n",
       "[891 rows x 13 columns]"
      ],
      "text/html": [
       "<div>\n",
       "<style scoped>\n",
       "    .dataframe tbody tr th:only-of-type {\n",
       "        vertical-align: middle;\n",
       "    }\n",
       "\n",
       "    .dataframe tbody tr th {\n",
       "        vertical-align: top;\n",
       "    }\n",
       "\n",
       "    .dataframe thead th {\n",
       "        text-align: right;\n",
       "    }\n",
       "</style>\n",
       "<table border=\"1\" class=\"dataframe\">\n",
       "  <thead>\n",
       "    <tr style=\"text-align: right;\">\n",
       "      <th></th>\n",
       "      <th>PassengerId</th>\n",
       "      <th>Survived</th>\n",
       "      <th>Pclass</th>\n",
       "      <th>Name</th>\n",
       "      <th>Sex</th>\n",
       "      <th>Age</th>\n",
       "      <th>SibSp</th>\n",
       "      <th>Parch</th>\n",
       "      <th>Ticket</th>\n",
       "      <th>Fare</th>\n",
       "      <th>Cabin</th>\n",
       "      <th>Embarked</th>\n",
       "      <th>Title</th>\n",
       "    </tr>\n",
       "  </thead>\n",
       "  <tbody>\n",
       "    <tr>\n",
       "      <th>0</th>\n",
       "      <td>1</td>\n",
       "      <td>0</td>\n",
       "      <td>3</td>\n",
       "      <td>Braund, Mr. Owen Harris</td>\n",
       "      <td>male</td>\n",
       "      <td>22.0</td>\n",
       "      <td>1</td>\n",
       "      <td>0</td>\n",
       "      <td>A/5 21171</td>\n",
       "      <td>7.2500</td>\n",
       "      <td>NaN</td>\n",
       "      <td>S</td>\n",
       "      <td>Mr</td>\n",
       "    </tr>\n",
       "    <tr>\n",
       "      <th>1</th>\n",
       "      <td>2</td>\n",
       "      <td>1</td>\n",
       "      <td>1</td>\n",
       "      <td>Cumings, Mrs. John Bradley (Florence Briggs Th...</td>\n",
       "      <td>female</td>\n",
       "      <td>38.0</td>\n",
       "      <td>1</td>\n",
       "      <td>0</td>\n",
       "      <td>PC 17599</td>\n",
       "      <td>71.2833</td>\n",
       "      <td>C85</td>\n",
       "      <td>C</td>\n",
       "      <td>Mrs</td>\n",
       "    </tr>\n",
       "    <tr>\n",
       "      <th>2</th>\n",
       "      <td>3</td>\n",
       "      <td>1</td>\n",
       "      <td>3</td>\n",
       "      <td>Heikkinen, Miss. Laina</td>\n",
       "      <td>female</td>\n",
       "      <td>26.0</td>\n",
       "      <td>0</td>\n",
       "      <td>0</td>\n",
       "      <td>STON/O2. 3101282</td>\n",
       "      <td>7.9250</td>\n",
       "      <td>NaN</td>\n",
       "      <td>S</td>\n",
       "      <td>Miss</td>\n",
       "    </tr>\n",
       "    <tr>\n",
       "      <th>3</th>\n",
       "      <td>4</td>\n",
       "      <td>1</td>\n",
       "      <td>1</td>\n",
       "      <td>Futrelle, Mrs. Jacques Heath (Lily May Peel)</td>\n",
       "      <td>female</td>\n",
       "      <td>35.0</td>\n",
       "      <td>1</td>\n",
       "      <td>0</td>\n",
       "      <td>113803</td>\n",
       "      <td>53.1000</td>\n",
       "      <td>C123</td>\n",
       "      <td>S</td>\n",
       "      <td>Mrs</td>\n",
       "    </tr>\n",
       "    <tr>\n",
       "      <th>4</th>\n",
       "      <td>5</td>\n",
       "      <td>0</td>\n",
       "      <td>3</td>\n",
       "      <td>Allen, Mr. William Henry</td>\n",
       "      <td>male</td>\n",
       "      <td>35.0</td>\n",
       "      <td>0</td>\n",
       "      <td>0</td>\n",
       "      <td>373450</td>\n",
       "      <td>8.0500</td>\n",
       "      <td>NaN</td>\n",
       "      <td>S</td>\n",
       "      <td>Mr</td>\n",
       "    </tr>\n",
       "    <tr>\n",
       "      <th>...</th>\n",
       "      <td>...</td>\n",
       "      <td>...</td>\n",
       "      <td>...</td>\n",
       "      <td>...</td>\n",
       "      <td>...</td>\n",
       "      <td>...</td>\n",
       "      <td>...</td>\n",
       "      <td>...</td>\n",
       "      <td>...</td>\n",
       "      <td>...</td>\n",
       "      <td>...</td>\n",
       "      <td>...</td>\n",
       "      <td>...</td>\n",
       "    </tr>\n",
       "    <tr>\n",
       "      <th>886</th>\n",
       "      <td>887</td>\n",
       "      <td>0</td>\n",
       "      <td>2</td>\n",
       "      <td>Montvila, Rev. Juozas</td>\n",
       "      <td>male</td>\n",
       "      <td>27.0</td>\n",
       "      <td>0</td>\n",
       "      <td>0</td>\n",
       "      <td>211536</td>\n",
       "      <td>13.0000</td>\n",
       "      <td>NaN</td>\n",
       "      <td>S</td>\n",
       "      <td>Rev</td>\n",
       "    </tr>\n",
       "    <tr>\n",
       "      <th>887</th>\n",
       "      <td>888</td>\n",
       "      <td>1</td>\n",
       "      <td>1</td>\n",
       "      <td>Graham, Miss. Margaret Edith</td>\n",
       "      <td>female</td>\n",
       "      <td>19.0</td>\n",
       "      <td>0</td>\n",
       "      <td>0</td>\n",
       "      <td>112053</td>\n",
       "      <td>30.0000</td>\n",
       "      <td>B42</td>\n",
       "      <td>S</td>\n",
       "      <td>Miss</td>\n",
       "    </tr>\n",
       "    <tr>\n",
       "      <th>888</th>\n",
       "      <td>889</td>\n",
       "      <td>0</td>\n",
       "      <td>3</td>\n",
       "      <td>Johnston, Miss. Catherine Helen \"Carrie\"</td>\n",
       "      <td>female</td>\n",
       "      <td>28.0</td>\n",
       "      <td>1</td>\n",
       "      <td>2</td>\n",
       "      <td>W./C. 6607</td>\n",
       "      <td>23.4500</td>\n",
       "      <td>NaN</td>\n",
       "      <td>S</td>\n",
       "      <td>Miss</td>\n",
       "    </tr>\n",
       "    <tr>\n",
       "      <th>889</th>\n",
       "      <td>890</td>\n",
       "      <td>1</td>\n",
       "      <td>1</td>\n",
       "      <td>Behr, Mr. Karl Howell</td>\n",
       "      <td>male</td>\n",
       "      <td>26.0</td>\n",
       "      <td>0</td>\n",
       "      <td>0</td>\n",
       "      <td>111369</td>\n",
       "      <td>30.0000</td>\n",
       "      <td>C148</td>\n",
       "      <td>C</td>\n",
       "      <td>Mr</td>\n",
       "    </tr>\n",
       "    <tr>\n",
       "      <th>890</th>\n",
       "      <td>891</td>\n",
       "      <td>0</td>\n",
       "      <td>3</td>\n",
       "      <td>Dooley, Mr. Patrick</td>\n",
       "      <td>male</td>\n",
       "      <td>32.0</td>\n",
       "      <td>0</td>\n",
       "      <td>0</td>\n",
       "      <td>370376</td>\n",
       "      <td>7.7500</td>\n",
       "      <td>NaN</td>\n",
       "      <td>Q</td>\n",
       "      <td>Mr</td>\n",
       "    </tr>\n",
       "  </tbody>\n",
       "</table>\n",
       "<p>891 rows × 13 columns</p>\n",
       "</div>"
      ]
     },
     "execution_count": 61,
     "metadata": {},
     "output_type": "execute_result"
    }
   ],
   "execution_count": 61
  },
  {
   "metadata": {},
   "cell_type": "markdown",
   "source": "5. Supprimez les colonnes inutiles : PassengerId, Name, Ticket, Cabin. Justiez ce choix.",
   "id": "c32db370470fdda0"
  },
  {
   "metadata": {
    "ExecuteTime": {
     "end_time": "2025-06-25T09:34:58.553915Z",
     "start_time": "2025-06-25T09:34:58.548560Z"
    }
   },
   "cell_type": "code",
   "source": [
    "columns_to_drop = [\"PassengerId\", \"Name\", \"Ticket\", \"Cabin\"]\n",
    "df = df.drop(columns_to_drop, axis=1)"
   ],
   "id": "8080c08ad39cc09f",
   "outputs": [],
   "execution_count": 62
  },
  {
   "metadata": {
    "ExecuteTime": {
     "end_time": "2025-06-25T09:53:00.908211Z",
     "start_time": "2025-06-25T09:53:00.866968Z"
    }
   },
   "cell_type": "code",
   "source": "df",
   "id": "b1cfe6807cca39ae",
   "outputs": [
    {
     "data": {
      "text/plain": [
       "     Survived  Pclass     Sex   Age  SibSp  Parch     Fare Embarked Title\n",
       "0           0       3    male  22.0      1      0   7.2500        S    Mr\n",
       "1           1       1  female  38.0      1      0  71.2833        C   Mrs\n",
       "2           1       3  female  26.0      0      0   7.9250        S  Miss\n",
       "3           1       1  female  35.0      1      0  53.1000        S   Mrs\n",
       "4           0       3    male  35.0      0      0   8.0500        S    Mr\n",
       "..        ...     ...     ...   ...    ...    ...      ...      ...   ...\n",
       "886         0       2    male  27.0      0      0  13.0000        S   Rev\n",
       "887         1       1  female  19.0      0      0  30.0000        S  Miss\n",
       "888         0       3  female  28.0      1      2  23.4500        S  Miss\n",
       "889         1       1    male  26.0      0      0  30.0000        C    Mr\n",
       "890         0       3    male  32.0      0      0   7.7500        Q    Mr\n",
       "\n",
       "[891 rows x 9 columns]"
      ],
      "text/html": [
       "<div>\n",
       "<style scoped>\n",
       "    .dataframe tbody tr th:only-of-type {\n",
       "        vertical-align: middle;\n",
       "    }\n",
       "\n",
       "    .dataframe tbody tr th {\n",
       "        vertical-align: top;\n",
       "    }\n",
       "\n",
       "    .dataframe thead th {\n",
       "        text-align: right;\n",
       "    }\n",
       "</style>\n",
       "<table border=\"1\" class=\"dataframe\">\n",
       "  <thead>\n",
       "    <tr style=\"text-align: right;\">\n",
       "      <th></th>\n",
       "      <th>Survived</th>\n",
       "      <th>Pclass</th>\n",
       "      <th>Sex</th>\n",
       "      <th>Age</th>\n",
       "      <th>SibSp</th>\n",
       "      <th>Parch</th>\n",
       "      <th>Fare</th>\n",
       "      <th>Embarked</th>\n",
       "      <th>Title</th>\n",
       "    </tr>\n",
       "  </thead>\n",
       "  <tbody>\n",
       "    <tr>\n",
       "      <th>0</th>\n",
       "      <td>0</td>\n",
       "      <td>3</td>\n",
       "      <td>male</td>\n",
       "      <td>22.0</td>\n",
       "      <td>1</td>\n",
       "      <td>0</td>\n",
       "      <td>7.2500</td>\n",
       "      <td>S</td>\n",
       "      <td>Mr</td>\n",
       "    </tr>\n",
       "    <tr>\n",
       "      <th>1</th>\n",
       "      <td>1</td>\n",
       "      <td>1</td>\n",
       "      <td>female</td>\n",
       "      <td>38.0</td>\n",
       "      <td>1</td>\n",
       "      <td>0</td>\n",
       "      <td>71.2833</td>\n",
       "      <td>C</td>\n",
       "      <td>Mrs</td>\n",
       "    </tr>\n",
       "    <tr>\n",
       "      <th>2</th>\n",
       "      <td>1</td>\n",
       "      <td>3</td>\n",
       "      <td>female</td>\n",
       "      <td>26.0</td>\n",
       "      <td>0</td>\n",
       "      <td>0</td>\n",
       "      <td>7.9250</td>\n",
       "      <td>S</td>\n",
       "      <td>Miss</td>\n",
       "    </tr>\n",
       "    <tr>\n",
       "      <th>3</th>\n",
       "      <td>1</td>\n",
       "      <td>1</td>\n",
       "      <td>female</td>\n",
       "      <td>35.0</td>\n",
       "      <td>1</td>\n",
       "      <td>0</td>\n",
       "      <td>53.1000</td>\n",
       "      <td>S</td>\n",
       "      <td>Mrs</td>\n",
       "    </tr>\n",
       "    <tr>\n",
       "      <th>4</th>\n",
       "      <td>0</td>\n",
       "      <td>3</td>\n",
       "      <td>male</td>\n",
       "      <td>35.0</td>\n",
       "      <td>0</td>\n",
       "      <td>0</td>\n",
       "      <td>8.0500</td>\n",
       "      <td>S</td>\n",
       "      <td>Mr</td>\n",
       "    </tr>\n",
       "    <tr>\n",
       "      <th>...</th>\n",
       "      <td>...</td>\n",
       "      <td>...</td>\n",
       "      <td>...</td>\n",
       "      <td>...</td>\n",
       "      <td>...</td>\n",
       "      <td>...</td>\n",
       "      <td>...</td>\n",
       "      <td>...</td>\n",
       "      <td>...</td>\n",
       "    </tr>\n",
       "    <tr>\n",
       "      <th>886</th>\n",
       "      <td>0</td>\n",
       "      <td>2</td>\n",
       "      <td>male</td>\n",
       "      <td>27.0</td>\n",
       "      <td>0</td>\n",
       "      <td>0</td>\n",
       "      <td>13.0000</td>\n",
       "      <td>S</td>\n",
       "      <td>Rev</td>\n",
       "    </tr>\n",
       "    <tr>\n",
       "      <th>887</th>\n",
       "      <td>1</td>\n",
       "      <td>1</td>\n",
       "      <td>female</td>\n",
       "      <td>19.0</td>\n",
       "      <td>0</td>\n",
       "      <td>0</td>\n",
       "      <td>30.0000</td>\n",
       "      <td>S</td>\n",
       "      <td>Miss</td>\n",
       "    </tr>\n",
       "    <tr>\n",
       "      <th>888</th>\n",
       "      <td>0</td>\n",
       "      <td>3</td>\n",
       "      <td>female</td>\n",
       "      <td>28.0</td>\n",
       "      <td>1</td>\n",
       "      <td>2</td>\n",
       "      <td>23.4500</td>\n",
       "      <td>S</td>\n",
       "      <td>Miss</td>\n",
       "    </tr>\n",
       "    <tr>\n",
       "      <th>889</th>\n",
       "      <td>1</td>\n",
       "      <td>1</td>\n",
       "      <td>male</td>\n",
       "      <td>26.0</td>\n",
       "      <td>0</td>\n",
       "      <td>0</td>\n",
       "      <td>30.0000</td>\n",
       "      <td>C</td>\n",
       "      <td>Mr</td>\n",
       "    </tr>\n",
       "    <tr>\n",
       "      <th>890</th>\n",
       "      <td>0</td>\n",
       "      <td>3</td>\n",
       "      <td>male</td>\n",
       "      <td>32.0</td>\n",
       "      <td>0</td>\n",
       "      <td>0</td>\n",
       "      <td>7.7500</td>\n",
       "      <td>Q</td>\n",
       "      <td>Mr</td>\n",
       "    </tr>\n",
       "  </tbody>\n",
       "</table>\n",
       "<p>891 rows × 9 columns</p>\n",
       "</div>"
      ]
     },
     "execution_count": 114,
     "metadata": {},
     "output_type": "execute_result"
    }
   ],
   "execution_count": 114
  },
  {
   "metadata": {
    "ExecuteTime": {
     "end_time": "2025-06-25T09:34:58.899398Z",
     "start_time": "2025-06-25T09:34:58.889773Z"
    }
   },
   "cell_type": "code",
   "source": "df['Title'].describe()",
   "id": "483839304c9ec5aa",
   "outputs": [
    {
     "data": {
      "text/plain": [
       "count     891\n",
       "unique     17\n",
       "top        Mr\n",
       "freq      517\n",
       "Name: Title, dtype: object"
      ]
     },
     "execution_count": 64,
     "metadata": {},
     "output_type": "execute_result"
    }
   ],
   "execution_count": 64
  },
  {
   "metadata": {
    "ExecuteTime": {
     "end_time": "2025-06-25T09:34:59.158249Z",
     "start_time": "2025-06-25T09:34:59.151773Z"
    }
   },
   "cell_type": "code",
   "source": "df['Title'].value_counts()",
   "id": "68d402b699a7be07",
   "outputs": [
    {
     "data": {
      "text/plain": [
       "Title\n",
       "Mr              517\n",
       "Miss            182\n",
       "Mrs             125\n",
       "Master           40\n",
       "Dr                7\n",
       "Rev               6\n",
       "Col               2\n",
       "Mlle              2\n",
       "Major             2\n",
       "Ms                1\n",
       "Mme               1\n",
       "Don               1\n",
       "Lady              1\n",
       "Sir               1\n",
       "Capt              1\n",
       "the Countess      1\n",
       "Jonkheer          1\n",
       "Name: count, dtype: int64"
      ]
     },
     "execution_count": 65,
     "metadata": {},
     "output_type": "execute_result"
    }
   ],
   "execution_count": 65
  },
  {
   "metadata": {},
   "cell_type": "markdown",
   "source": [
    "## Partie 3 – Encodage & Prétraitement\n",
    "7. Encodez les variables catégorielles (Sex, Embarked, Title) à l’aide de LabelEncoder ou\n",
    "OneHotEncoder. Testez les deux méthodes.\n"
   ],
   "id": "1f50fadb42a54ee0"
  },
  {
   "metadata": {
    "ExecuteTime": {
     "end_time": "2025-06-25T09:34:59.431644Z",
     "start_time": "2025-06-25T09:34:59.424625Z"
    }
   },
   "cell_type": "code",
   "source": [
    "def label_encoding(dataframe, column):\n",
    "    # LabelEncoder\n",
    "    from sklearn.preprocessing import LabelEncoder\n",
    "    value = list(dataframe[column].unique())\n",
    "    label = LabelEncoder()\n",
    "    label.fit(value)\n",
    "    dataframe[f\"{column}_LabelEncoder\"] = label.fit_transform(dataframe[column])\n",
    "    return dataframe\n",
    "\n",
    "def one_hot_encoding(dataframe, column):\n",
    "    # OneHotEncoder\n",
    "    from sklearn.preprocessing import OneHotEncoder\n",
    "    one_hot = OneHotEncoder(handle_unknown='ignore', drop='first', sparse_output=False)\n",
    "    one_hot_value = one_hot.fit_transform(dataframe[column].to_frame())\n",
    "    one_hot_data = pd.DataFrame(one_hot_value, columns=one_hot.get_feature_names_out([column]))\n",
    "    return pd.concat([dataframe.drop(column, axis = 1), one_hot_data], axis=1)\n",
    "\n",
    "def encode(dataframe, columns):\n",
    "    new_dataframe = dataframe.copy()\n",
    "    for column in columns:\n",
    "        new_dataframe = label_encoding(new_dataframe, column)\n",
    "        new_dataframe = one_hot_encoding(new_dataframe, column)\n",
    "    return new_dataframe"
   ],
   "id": "29fb7389bda038cc",
   "outputs": [],
   "execution_count": 66
  },
  {
   "metadata": {
    "ExecuteTime": {
     "end_time": "2025-06-25T09:34:59.688269Z",
     "start_time": "2025-06-25T09:34:59.666777Z"
    }
   },
   "cell_type": "code",
   "source": "df_encoded = encode(df, ['Title', 'Embarked', 'Sex'])",
   "id": "42124c116412e7bd",
   "outputs": [],
   "execution_count": 67
  },
  {
   "metadata": {
    "ExecuteTime": {
     "end_time": "2025-06-25T09:34:59.835767Z",
     "start_time": "2025-06-25T09:34:59.808367Z"
    }
   },
   "cell_type": "code",
   "source": "df_encoded",
   "id": "7c9f93547a8a4edb",
   "outputs": [
    {
     "data": {
      "text/plain": [
       "     Survived  Pclass   Age  SibSp  Parch     Fare  Title_LabelEncoder  \\\n",
       "0           0       3  22.0      1      0   7.2500                  11   \n",
       "1           1       1  38.0      1      0  71.2833                  12   \n",
       "2           1       3  26.0      0      0   7.9250                   8   \n",
       "3           1       1  35.0      1      0  53.1000                  12   \n",
       "4           0       3  35.0      0      0   8.0500                  11   \n",
       "..        ...     ...   ...    ...    ...      ...                 ...   \n",
       "886         0       2  27.0      0      0  13.0000                  14   \n",
       "887         1       1  19.0      0      0  30.0000                   8   \n",
       "888         0       3  28.0      1      2  23.4500                   8   \n",
       "889         1       1  26.0      0      0  30.0000                  11   \n",
       "890         0       3  32.0      0      0   7.7500                  11   \n",
       "\n",
       "     Title_Col  Title_Don  Title_Dr  ...  Title_Mrs  Title_Ms  Title_Rev  \\\n",
       "0          0.0        0.0       0.0  ...        0.0       0.0        0.0   \n",
       "1          0.0        0.0       0.0  ...        1.0       0.0        0.0   \n",
       "2          0.0        0.0       0.0  ...        0.0       0.0        0.0   \n",
       "3          0.0        0.0       0.0  ...        1.0       0.0        0.0   \n",
       "4          0.0        0.0       0.0  ...        0.0       0.0        0.0   \n",
       "..         ...        ...       ...  ...        ...       ...        ...   \n",
       "886        0.0        0.0       0.0  ...        0.0       0.0        1.0   \n",
       "887        0.0        0.0       0.0  ...        0.0       0.0        0.0   \n",
       "888        0.0        0.0       0.0  ...        0.0       0.0        0.0   \n",
       "889        0.0        0.0       0.0  ...        0.0       0.0        0.0   \n",
       "890        0.0        0.0       0.0  ...        0.0       0.0        0.0   \n",
       "\n",
       "     Title_Sir  Title_the Countess  Embarked_LabelEncoder  Embarked_Q  \\\n",
       "0          0.0                 0.0                      2         0.0   \n",
       "1          0.0                 0.0                      0         0.0   \n",
       "2          0.0                 0.0                      2         0.0   \n",
       "3          0.0                 0.0                      2         0.0   \n",
       "4          0.0                 0.0                      2         0.0   \n",
       "..         ...                 ...                    ...         ...   \n",
       "886        0.0                 0.0                      2         0.0   \n",
       "887        0.0                 0.0                      2         0.0   \n",
       "888        0.0                 0.0                      2         0.0   \n",
       "889        0.0                 0.0                      0         0.0   \n",
       "890        0.0                 0.0                      1         1.0   \n",
       "\n",
       "     Embarked_S  Sex_LabelEncoder  Sex_male  \n",
       "0           1.0                 1       1.0  \n",
       "1           0.0                 0       0.0  \n",
       "2           1.0                 0       0.0  \n",
       "3           1.0                 0       0.0  \n",
       "4           1.0                 1       1.0  \n",
       "..          ...               ...       ...  \n",
       "886         1.0                 1       1.0  \n",
       "887         1.0                 0       0.0  \n",
       "888         1.0                 0       0.0  \n",
       "889         0.0                 1       1.0  \n",
       "890         0.0                 1       1.0  \n",
       "\n",
       "[891 rows x 28 columns]"
      ],
      "text/html": [
       "<div>\n",
       "<style scoped>\n",
       "    .dataframe tbody tr th:only-of-type {\n",
       "        vertical-align: middle;\n",
       "    }\n",
       "\n",
       "    .dataframe tbody tr th {\n",
       "        vertical-align: top;\n",
       "    }\n",
       "\n",
       "    .dataframe thead th {\n",
       "        text-align: right;\n",
       "    }\n",
       "</style>\n",
       "<table border=\"1\" class=\"dataframe\">\n",
       "  <thead>\n",
       "    <tr style=\"text-align: right;\">\n",
       "      <th></th>\n",
       "      <th>Survived</th>\n",
       "      <th>Pclass</th>\n",
       "      <th>Age</th>\n",
       "      <th>SibSp</th>\n",
       "      <th>Parch</th>\n",
       "      <th>Fare</th>\n",
       "      <th>Title_LabelEncoder</th>\n",
       "      <th>Title_Col</th>\n",
       "      <th>Title_Don</th>\n",
       "      <th>Title_Dr</th>\n",
       "      <th>...</th>\n",
       "      <th>Title_Mrs</th>\n",
       "      <th>Title_Ms</th>\n",
       "      <th>Title_Rev</th>\n",
       "      <th>Title_Sir</th>\n",
       "      <th>Title_the Countess</th>\n",
       "      <th>Embarked_LabelEncoder</th>\n",
       "      <th>Embarked_Q</th>\n",
       "      <th>Embarked_S</th>\n",
       "      <th>Sex_LabelEncoder</th>\n",
       "      <th>Sex_male</th>\n",
       "    </tr>\n",
       "  </thead>\n",
       "  <tbody>\n",
       "    <tr>\n",
       "      <th>0</th>\n",
       "      <td>0</td>\n",
       "      <td>3</td>\n",
       "      <td>22.0</td>\n",
       "      <td>1</td>\n",
       "      <td>0</td>\n",
       "      <td>7.2500</td>\n",
       "      <td>11</td>\n",
       "      <td>0.0</td>\n",
       "      <td>0.0</td>\n",
       "      <td>0.0</td>\n",
       "      <td>...</td>\n",
       "      <td>0.0</td>\n",
       "      <td>0.0</td>\n",
       "      <td>0.0</td>\n",
       "      <td>0.0</td>\n",
       "      <td>0.0</td>\n",
       "      <td>2</td>\n",
       "      <td>0.0</td>\n",
       "      <td>1.0</td>\n",
       "      <td>1</td>\n",
       "      <td>1.0</td>\n",
       "    </tr>\n",
       "    <tr>\n",
       "      <th>1</th>\n",
       "      <td>1</td>\n",
       "      <td>1</td>\n",
       "      <td>38.0</td>\n",
       "      <td>1</td>\n",
       "      <td>0</td>\n",
       "      <td>71.2833</td>\n",
       "      <td>12</td>\n",
       "      <td>0.0</td>\n",
       "      <td>0.0</td>\n",
       "      <td>0.0</td>\n",
       "      <td>...</td>\n",
       "      <td>1.0</td>\n",
       "      <td>0.0</td>\n",
       "      <td>0.0</td>\n",
       "      <td>0.0</td>\n",
       "      <td>0.0</td>\n",
       "      <td>0</td>\n",
       "      <td>0.0</td>\n",
       "      <td>0.0</td>\n",
       "      <td>0</td>\n",
       "      <td>0.0</td>\n",
       "    </tr>\n",
       "    <tr>\n",
       "      <th>2</th>\n",
       "      <td>1</td>\n",
       "      <td>3</td>\n",
       "      <td>26.0</td>\n",
       "      <td>0</td>\n",
       "      <td>0</td>\n",
       "      <td>7.9250</td>\n",
       "      <td>8</td>\n",
       "      <td>0.0</td>\n",
       "      <td>0.0</td>\n",
       "      <td>0.0</td>\n",
       "      <td>...</td>\n",
       "      <td>0.0</td>\n",
       "      <td>0.0</td>\n",
       "      <td>0.0</td>\n",
       "      <td>0.0</td>\n",
       "      <td>0.0</td>\n",
       "      <td>2</td>\n",
       "      <td>0.0</td>\n",
       "      <td>1.0</td>\n",
       "      <td>0</td>\n",
       "      <td>0.0</td>\n",
       "    </tr>\n",
       "    <tr>\n",
       "      <th>3</th>\n",
       "      <td>1</td>\n",
       "      <td>1</td>\n",
       "      <td>35.0</td>\n",
       "      <td>1</td>\n",
       "      <td>0</td>\n",
       "      <td>53.1000</td>\n",
       "      <td>12</td>\n",
       "      <td>0.0</td>\n",
       "      <td>0.0</td>\n",
       "      <td>0.0</td>\n",
       "      <td>...</td>\n",
       "      <td>1.0</td>\n",
       "      <td>0.0</td>\n",
       "      <td>0.0</td>\n",
       "      <td>0.0</td>\n",
       "      <td>0.0</td>\n",
       "      <td>2</td>\n",
       "      <td>0.0</td>\n",
       "      <td>1.0</td>\n",
       "      <td>0</td>\n",
       "      <td>0.0</td>\n",
       "    </tr>\n",
       "    <tr>\n",
       "      <th>4</th>\n",
       "      <td>0</td>\n",
       "      <td>3</td>\n",
       "      <td>35.0</td>\n",
       "      <td>0</td>\n",
       "      <td>0</td>\n",
       "      <td>8.0500</td>\n",
       "      <td>11</td>\n",
       "      <td>0.0</td>\n",
       "      <td>0.0</td>\n",
       "      <td>0.0</td>\n",
       "      <td>...</td>\n",
       "      <td>0.0</td>\n",
       "      <td>0.0</td>\n",
       "      <td>0.0</td>\n",
       "      <td>0.0</td>\n",
       "      <td>0.0</td>\n",
       "      <td>2</td>\n",
       "      <td>0.0</td>\n",
       "      <td>1.0</td>\n",
       "      <td>1</td>\n",
       "      <td>1.0</td>\n",
       "    </tr>\n",
       "    <tr>\n",
       "      <th>...</th>\n",
       "      <td>...</td>\n",
       "      <td>...</td>\n",
       "      <td>...</td>\n",
       "      <td>...</td>\n",
       "      <td>...</td>\n",
       "      <td>...</td>\n",
       "      <td>...</td>\n",
       "      <td>...</td>\n",
       "      <td>...</td>\n",
       "      <td>...</td>\n",
       "      <td>...</td>\n",
       "      <td>...</td>\n",
       "      <td>...</td>\n",
       "      <td>...</td>\n",
       "      <td>...</td>\n",
       "      <td>...</td>\n",
       "      <td>...</td>\n",
       "      <td>...</td>\n",
       "      <td>...</td>\n",
       "      <td>...</td>\n",
       "      <td>...</td>\n",
       "    </tr>\n",
       "    <tr>\n",
       "      <th>886</th>\n",
       "      <td>0</td>\n",
       "      <td>2</td>\n",
       "      <td>27.0</td>\n",
       "      <td>0</td>\n",
       "      <td>0</td>\n",
       "      <td>13.0000</td>\n",
       "      <td>14</td>\n",
       "      <td>0.0</td>\n",
       "      <td>0.0</td>\n",
       "      <td>0.0</td>\n",
       "      <td>...</td>\n",
       "      <td>0.0</td>\n",
       "      <td>0.0</td>\n",
       "      <td>1.0</td>\n",
       "      <td>0.0</td>\n",
       "      <td>0.0</td>\n",
       "      <td>2</td>\n",
       "      <td>0.0</td>\n",
       "      <td>1.0</td>\n",
       "      <td>1</td>\n",
       "      <td>1.0</td>\n",
       "    </tr>\n",
       "    <tr>\n",
       "      <th>887</th>\n",
       "      <td>1</td>\n",
       "      <td>1</td>\n",
       "      <td>19.0</td>\n",
       "      <td>0</td>\n",
       "      <td>0</td>\n",
       "      <td>30.0000</td>\n",
       "      <td>8</td>\n",
       "      <td>0.0</td>\n",
       "      <td>0.0</td>\n",
       "      <td>0.0</td>\n",
       "      <td>...</td>\n",
       "      <td>0.0</td>\n",
       "      <td>0.0</td>\n",
       "      <td>0.0</td>\n",
       "      <td>0.0</td>\n",
       "      <td>0.0</td>\n",
       "      <td>2</td>\n",
       "      <td>0.0</td>\n",
       "      <td>1.0</td>\n",
       "      <td>0</td>\n",
       "      <td>0.0</td>\n",
       "    </tr>\n",
       "    <tr>\n",
       "      <th>888</th>\n",
       "      <td>0</td>\n",
       "      <td>3</td>\n",
       "      <td>28.0</td>\n",
       "      <td>1</td>\n",
       "      <td>2</td>\n",
       "      <td>23.4500</td>\n",
       "      <td>8</td>\n",
       "      <td>0.0</td>\n",
       "      <td>0.0</td>\n",
       "      <td>0.0</td>\n",
       "      <td>...</td>\n",
       "      <td>0.0</td>\n",
       "      <td>0.0</td>\n",
       "      <td>0.0</td>\n",
       "      <td>0.0</td>\n",
       "      <td>0.0</td>\n",
       "      <td>2</td>\n",
       "      <td>0.0</td>\n",
       "      <td>1.0</td>\n",
       "      <td>0</td>\n",
       "      <td>0.0</td>\n",
       "    </tr>\n",
       "    <tr>\n",
       "      <th>889</th>\n",
       "      <td>1</td>\n",
       "      <td>1</td>\n",
       "      <td>26.0</td>\n",
       "      <td>0</td>\n",
       "      <td>0</td>\n",
       "      <td>30.0000</td>\n",
       "      <td>11</td>\n",
       "      <td>0.0</td>\n",
       "      <td>0.0</td>\n",
       "      <td>0.0</td>\n",
       "      <td>...</td>\n",
       "      <td>0.0</td>\n",
       "      <td>0.0</td>\n",
       "      <td>0.0</td>\n",
       "      <td>0.0</td>\n",
       "      <td>0.0</td>\n",
       "      <td>0</td>\n",
       "      <td>0.0</td>\n",
       "      <td>0.0</td>\n",
       "      <td>1</td>\n",
       "      <td>1.0</td>\n",
       "    </tr>\n",
       "    <tr>\n",
       "      <th>890</th>\n",
       "      <td>0</td>\n",
       "      <td>3</td>\n",
       "      <td>32.0</td>\n",
       "      <td>0</td>\n",
       "      <td>0</td>\n",
       "      <td>7.7500</td>\n",
       "      <td>11</td>\n",
       "      <td>0.0</td>\n",
       "      <td>0.0</td>\n",
       "      <td>0.0</td>\n",
       "      <td>...</td>\n",
       "      <td>0.0</td>\n",
       "      <td>0.0</td>\n",
       "      <td>0.0</td>\n",
       "      <td>0.0</td>\n",
       "      <td>0.0</td>\n",
       "      <td>1</td>\n",
       "      <td>1.0</td>\n",
       "      <td>0.0</td>\n",
       "      <td>1</td>\n",
       "      <td>1.0</td>\n",
       "    </tr>\n",
       "  </tbody>\n",
       "</table>\n",
       "<p>891 rows × 28 columns</p>\n",
       "</div>"
      ]
     },
     "execution_count": 68,
     "metadata": {},
     "output_type": "execute_result"
    }
   ],
   "execution_count": 68
  },
  {
   "metadata": {},
   "cell_type": "markdown",
   "source": "8. Standardisez Age et Fare avec StandardScaler. Pourquoi cette étape peut-elle être utile même avec des arbres ?",
   "id": "506e2a2b6bb8e750"
  },
  {
   "metadata": {
    "ExecuteTime": {
     "end_time": "2025-06-25T09:35:00.014732Z",
     "start_time": "2025-06-25T09:34:59.976758Z"
    }
   },
   "cell_type": "code",
   "source": [
    "from sklearn.preprocessing import StandardScaler\n",
    "standard_scaler = StandardScaler()\n",
    "# Age\n",
    "df_encoded['Age'] = standard_scaler.fit_transform(df_encoded['Age'].to_frame())\n",
    "# Fare\n",
    "df_encoded['Fare'] = standard_scaler.fit_transform(df_encoded['Fare'].to_frame())\n",
    "df_encoded"
   ],
   "id": "148b634876b06878",
   "outputs": [
    {
     "data": {
      "text/plain": [
       "     Survived  Pclass       Age  SibSp  Parch      Fare  Title_LabelEncoder  \\\n",
       "0           0       3 -0.565736      1      0 -0.502445                  11   \n",
       "1           1       1  0.663861      1      0  0.786845                  12   \n",
       "2           1       3 -0.258337      0      0 -0.488854                   8   \n",
       "3           1       1  0.433312      1      0  0.420730                  12   \n",
       "4           0       3  0.433312      0      0 -0.486337                  11   \n",
       "..        ...     ...       ...    ...    ...       ...                 ...   \n",
       "886         0       2 -0.181487      0      0 -0.386671                  14   \n",
       "887         1       1 -0.796286      0      0 -0.044381                   8   \n",
       "888         0       3 -0.104637      1      2 -0.176263                   8   \n",
       "889         1       1 -0.258337      0      0 -0.044381                  11   \n",
       "890         0       3  0.202762      0      0 -0.492378                  11   \n",
       "\n",
       "     Title_Col  Title_Don  Title_Dr  ...  Title_Mrs  Title_Ms  Title_Rev  \\\n",
       "0          0.0        0.0       0.0  ...        0.0       0.0        0.0   \n",
       "1          0.0        0.0       0.0  ...        1.0       0.0        0.0   \n",
       "2          0.0        0.0       0.0  ...        0.0       0.0        0.0   \n",
       "3          0.0        0.0       0.0  ...        1.0       0.0        0.0   \n",
       "4          0.0        0.0       0.0  ...        0.0       0.0        0.0   \n",
       "..         ...        ...       ...  ...        ...       ...        ...   \n",
       "886        0.0        0.0       0.0  ...        0.0       0.0        1.0   \n",
       "887        0.0        0.0       0.0  ...        0.0       0.0        0.0   \n",
       "888        0.0        0.0       0.0  ...        0.0       0.0        0.0   \n",
       "889        0.0        0.0       0.0  ...        0.0       0.0        0.0   \n",
       "890        0.0        0.0       0.0  ...        0.0       0.0        0.0   \n",
       "\n",
       "     Title_Sir  Title_the Countess  Embarked_LabelEncoder  Embarked_Q  \\\n",
       "0          0.0                 0.0                      2         0.0   \n",
       "1          0.0                 0.0                      0         0.0   \n",
       "2          0.0                 0.0                      2         0.0   \n",
       "3          0.0                 0.0                      2         0.0   \n",
       "4          0.0                 0.0                      2         0.0   \n",
       "..         ...                 ...                    ...         ...   \n",
       "886        0.0                 0.0                      2         0.0   \n",
       "887        0.0                 0.0                      2         0.0   \n",
       "888        0.0                 0.0                      2         0.0   \n",
       "889        0.0                 0.0                      0         0.0   \n",
       "890        0.0                 0.0                      1         1.0   \n",
       "\n",
       "     Embarked_S  Sex_LabelEncoder  Sex_male  \n",
       "0           1.0                 1       1.0  \n",
       "1           0.0                 0       0.0  \n",
       "2           1.0                 0       0.0  \n",
       "3           1.0                 0       0.0  \n",
       "4           1.0                 1       1.0  \n",
       "..          ...               ...       ...  \n",
       "886         1.0                 1       1.0  \n",
       "887         1.0                 0       0.0  \n",
       "888         1.0                 0       0.0  \n",
       "889         0.0                 1       1.0  \n",
       "890         0.0                 1       1.0  \n",
       "\n",
       "[891 rows x 28 columns]"
      ],
      "text/html": [
       "<div>\n",
       "<style scoped>\n",
       "    .dataframe tbody tr th:only-of-type {\n",
       "        vertical-align: middle;\n",
       "    }\n",
       "\n",
       "    .dataframe tbody tr th {\n",
       "        vertical-align: top;\n",
       "    }\n",
       "\n",
       "    .dataframe thead th {\n",
       "        text-align: right;\n",
       "    }\n",
       "</style>\n",
       "<table border=\"1\" class=\"dataframe\">\n",
       "  <thead>\n",
       "    <tr style=\"text-align: right;\">\n",
       "      <th></th>\n",
       "      <th>Survived</th>\n",
       "      <th>Pclass</th>\n",
       "      <th>Age</th>\n",
       "      <th>SibSp</th>\n",
       "      <th>Parch</th>\n",
       "      <th>Fare</th>\n",
       "      <th>Title_LabelEncoder</th>\n",
       "      <th>Title_Col</th>\n",
       "      <th>Title_Don</th>\n",
       "      <th>Title_Dr</th>\n",
       "      <th>...</th>\n",
       "      <th>Title_Mrs</th>\n",
       "      <th>Title_Ms</th>\n",
       "      <th>Title_Rev</th>\n",
       "      <th>Title_Sir</th>\n",
       "      <th>Title_the Countess</th>\n",
       "      <th>Embarked_LabelEncoder</th>\n",
       "      <th>Embarked_Q</th>\n",
       "      <th>Embarked_S</th>\n",
       "      <th>Sex_LabelEncoder</th>\n",
       "      <th>Sex_male</th>\n",
       "    </tr>\n",
       "  </thead>\n",
       "  <tbody>\n",
       "    <tr>\n",
       "      <th>0</th>\n",
       "      <td>0</td>\n",
       "      <td>3</td>\n",
       "      <td>-0.565736</td>\n",
       "      <td>1</td>\n",
       "      <td>0</td>\n",
       "      <td>-0.502445</td>\n",
       "      <td>11</td>\n",
       "      <td>0.0</td>\n",
       "      <td>0.0</td>\n",
       "      <td>0.0</td>\n",
       "      <td>...</td>\n",
       "      <td>0.0</td>\n",
       "      <td>0.0</td>\n",
       "      <td>0.0</td>\n",
       "      <td>0.0</td>\n",
       "      <td>0.0</td>\n",
       "      <td>2</td>\n",
       "      <td>0.0</td>\n",
       "      <td>1.0</td>\n",
       "      <td>1</td>\n",
       "      <td>1.0</td>\n",
       "    </tr>\n",
       "    <tr>\n",
       "      <th>1</th>\n",
       "      <td>1</td>\n",
       "      <td>1</td>\n",
       "      <td>0.663861</td>\n",
       "      <td>1</td>\n",
       "      <td>0</td>\n",
       "      <td>0.786845</td>\n",
       "      <td>12</td>\n",
       "      <td>0.0</td>\n",
       "      <td>0.0</td>\n",
       "      <td>0.0</td>\n",
       "      <td>...</td>\n",
       "      <td>1.0</td>\n",
       "      <td>0.0</td>\n",
       "      <td>0.0</td>\n",
       "      <td>0.0</td>\n",
       "      <td>0.0</td>\n",
       "      <td>0</td>\n",
       "      <td>0.0</td>\n",
       "      <td>0.0</td>\n",
       "      <td>0</td>\n",
       "      <td>0.0</td>\n",
       "    </tr>\n",
       "    <tr>\n",
       "      <th>2</th>\n",
       "      <td>1</td>\n",
       "      <td>3</td>\n",
       "      <td>-0.258337</td>\n",
       "      <td>0</td>\n",
       "      <td>0</td>\n",
       "      <td>-0.488854</td>\n",
       "      <td>8</td>\n",
       "      <td>0.0</td>\n",
       "      <td>0.0</td>\n",
       "      <td>0.0</td>\n",
       "      <td>...</td>\n",
       "      <td>0.0</td>\n",
       "      <td>0.0</td>\n",
       "      <td>0.0</td>\n",
       "      <td>0.0</td>\n",
       "      <td>0.0</td>\n",
       "      <td>2</td>\n",
       "      <td>0.0</td>\n",
       "      <td>1.0</td>\n",
       "      <td>0</td>\n",
       "      <td>0.0</td>\n",
       "    </tr>\n",
       "    <tr>\n",
       "      <th>3</th>\n",
       "      <td>1</td>\n",
       "      <td>1</td>\n",
       "      <td>0.433312</td>\n",
       "      <td>1</td>\n",
       "      <td>0</td>\n",
       "      <td>0.420730</td>\n",
       "      <td>12</td>\n",
       "      <td>0.0</td>\n",
       "      <td>0.0</td>\n",
       "      <td>0.0</td>\n",
       "      <td>...</td>\n",
       "      <td>1.0</td>\n",
       "      <td>0.0</td>\n",
       "      <td>0.0</td>\n",
       "      <td>0.0</td>\n",
       "      <td>0.0</td>\n",
       "      <td>2</td>\n",
       "      <td>0.0</td>\n",
       "      <td>1.0</td>\n",
       "      <td>0</td>\n",
       "      <td>0.0</td>\n",
       "    </tr>\n",
       "    <tr>\n",
       "      <th>4</th>\n",
       "      <td>0</td>\n",
       "      <td>3</td>\n",
       "      <td>0.433312</td>\n",
       "      <td>0</td>\n",
       "      <td>0</td>\n",
       "      <td>-0.486337</td>\n",
       "      <td>11</td>\n",
       "      <td>0.0</td>\n",
       "      <td>0.0</td>\n",
       "      <td>0.0</td>\n",
       "      <td>...</td>\n",
       "      <td>0.0</td>\n",
       "      <td>0.0</td>\n",
       "      <td>0.0</td>\n",
       "      <td>0.0</td>\n",
       "      <td>0.0</td>\n",
       "      <td>2</td>\n",
       "      <td>0.0</td>\n",
       "      <td>1.0</td>\n",
       "      <td>1</td>\n",
       "      <td>1.0</td>\n",
       "    </tr>\n",
       "    <tr>\n",
       "      <th>...</th>\n",
       "      <td>...</td>\n",
       "      <td>...</td>\n",
       "      <td>...</td>\n",
       "      <td>...</td>\n",
       "      <td>...</td>\n",
       "      <td>...</td>\n",
       "      <td>...</td>\n",
       "      <td>...</td>\n",
       "      <td>...</td>\n",
       "      <td>...</td>\n",
       "      <td>...</td>\n",
       "      <td>...</td>\n",
       "      <td>...</td>\n",
       "      <td>...</td>\n",
       "      <td>...</td>\n",
       "      <td>...</td>\n",
       "      <td>...</td>\n",
       "      <td>...</td>\n",
       "      <td>...</td>\n",
       "      <td>...</td>\n",
       "      <td>...</td>\n",
       "    </tr>\n",
       "    <tr>\n",
       "      <th>886</th>\n",
       "      <td>0</td>\n",
       "      <td>2</td>\n",
       "      <td>-0.181487</td>\n",
       "      <td>0</td>\n",
       "      <td>0</td>\n",
       "      <td>-0.386671</td>\n",
       "      <td>14</td>\n",
       "      <td>0.0</td>\n",
       "      <td>0.0</td>\n",
       "      <td>0.0</td>\n",
       "      <td>...</td>\n",
       "      <td>0.0</td>\n",
       "      <td>0.0</td>\n",
       "      <td>1.0</td>\n",
       "      <td>0.0</td>\n",
       "      <td>0.0</td>\n",
       "      <td>2</td>\n",
       "      <td>0.0</td>\n",
       "      <td>1.0</td>\n",
       "      <td>1</td>\n",
       "      <td>1.0</td>\n",
       "    </tr>\n",
       "    <tr>\n",
       "      <th>887</th>\n",
       "      <td>1</td>\n",
       "      <td>1</td>\n",
       "      <td>-0.796286</td>\n",
       "      <td>0</td>\n",
       "      <td>0</td>\n",
       "      <td>-0.044381</td>\n",
       "      <td>8</td>\n",
       "      <td>0.0</td>\n",
       "      <td>0.0</td>\n",
       "      <td>0.0</td>\n",
       "      <td>...</td>\n",
       "      <td>0.0</td>\n",
       "      <td>0.0</td>\n",
       "      <td>0.0</td>\n",
       "      <td>0.0</td>\n",
       "      <td>0.0</td>\n",
       "      <td>2</td>\n",
       "      <td>0.0</td>\n",
       "      <td>1.0</td>\n",
       "      <td>0</td>\n",
       "      <td>0.0</td>\n",
       "    </tr>\n",
       "    <tr>\n",
       "      <th>888</th>\n",
       "      <td>0</td>\n",
       "      <td>3</td>\n",
       "      <td>-0.104637</td>\n",
       "      <td>1</td>\n",
       "      <td>2</td>\n",
       "      <td>-0.176263</td>\n",
       "      <td>8</td>\n",
       "      <td>0.0</td>\n",
       "      <td>0.0</td>\n",
       "      <td>0.0</td>\n",
       "      <td>...</td>\n",
       "      <td>0.0</td>\n",
       "      <td>0.0</td>\n",
       "      <td>0.0</td>\n",
       "      <td>0.0</td>\n",
       "      <td>0.0</td>\n",
       "      <td>2</td>\n",
       "      <td>0.0</td>\n",
       "      <td>1.0</td>\n",
       "      <td>0</td>\n",
       "      <td>0.0</td>\n",
       "    </tr>\n",
       "    <tr>\n",
       "      <th>889</th>\n",
       "      <td>1</td>\n",
       "      <td>1</td>\n",
       "      <td>-0.258337</td>\n",
       "      <td>0</td>\n",
       "      <td>0</td>\n",
       "      <td>-0.044381</td>\n",
       "      <td>11</td>\n",
       "      <td>0.0</td>\n",
       "      <td>0.0</td>\n",
       "      <td>0.0</td>\n",
       "      <td>...</td>\n",
       "      <td>0.0</td>\n",
       "      <td>0.0</td>\n",
       "      <td>0.0</td>\n",
       "      <td>0.0</td>\n",
       "      <td>0.0</td>\n",
       "      <td>0</td>\n",
       "      <td>0.0</td>\n",
       "      <td>0.0</td>\n",
       "      <td>1</td>\n",
       "      <td>1.0</td>\n",
       "    </tr>\n",
       "    <tr>\n",
       "      <th>890</th>\n",
       "      <td>0</td>\n",
       "      <td>3</td>\n",
       "      <td>0.202762</td>\n",
       "      <td>0</td>\n",
       "      <td>0</td>\n",
       "      <td>-0.492378</td>\n",
       "      <td>11</td>\n",
       "      <td>0.0</td>\n",
       "      <td>0.0</td>\n",
       "      <td>0.0</td>\n",
       "      <td>...</td>\n",
       "      <td>0.0</td>\n",
       "      <td>0.0</td>\n",
       "      <td>0.0</td>\n",
       "      <td>0.0</td>\n",
       "      <td>0.0</td>\n",
       "      <td>1</td>\n",
       "      <td>1.0</td>\n",
       "      <td>0.0</td>\n",
       "      <td>1</td>\n",
       "      <td>1.0</td>\n",
       "    </tr>\n",
       "  </tbody>\n",
       "</table>\n",
       "<p>891 rows × 28 columns</p>\n",
       "</div>"
      ]
     },
     "execution_count": 69,
     "metadata": {},
     "output_type": "execute_result"
    }
   ],
   "execution_count": 69
  },
  {
   "metadata": {},
   "cell_type": "markdown",
   "source": "9. Divisez le dataset en X et y. Cible = Survived. Faites un train_test_split (70/30) avec random_state=42.",
   "id": "a0e9a67ab22cdfcb"
  },
  {
   "metadata": {
    "ExecuteTime": {
     "end_time": "2025-06-25T09:35:00.214088Z",
     "start_time": "2025-06-25T09:35:00.205681Z"
    }
   },
   "cell_type": "code",
   "source": [
    "from sklearn.model_selection import train_test_split\n",
    "y = df_encoded['Survived']\n",
    "x_use = df_encoded.drop(['Survived', \"Sex_LabelEncoder\"], axis=1)\n",
    "x_train, x_test, y_train, y_test = train_test_split(x_use, y, test_size=0.4, random_state=42)"
   ],
   "id": "3dbf61fcc3db0a81",
   "outputs": [],
   "execution_count": 70
  },
  {
   "metadata": {},
   "cell_type": "markdown",
   "source": [
    "## Partie 4 – Visualisation & Analyse Exploratoire\n",
    "10. Affichez la heatmap des corrélations. Quelles sont les variables les plus corrélées avec Survived ?\n"
   ],
   "id": "7736bd68b18e72"
  },
  {
   "metadata": {
    "ExecuteTime": {
     "end_time": "2025-06-25T09:35:00.463914Z",
     "start_time": "2025-06-25T09:35:00.448073Z"
    }
   },
   "cell_type": "code",
   "source": [
    "correlation = df_encoded.corr()\n",
    "correlation_y = correlation[\"Survived\"].abs().sort_values()\n",
    "strong_corr = correlation_y[(correlation_y > 0.3) & (correlation_y < 0.98)]\n",
    "strong_corr = df_encoded[strong_corr.index].corr()\n",
    "features = [column for column in list(strong_corr.index) if column != \"Sex_LabelEncoder\"]\n",
    "df_encoded[features].corr()"
   ],
   "id": "840afae60445cf11",
   "outputs": [
    {
     "data": {
      "text/plain": [
       "            Title_Miss    Pclass  Title_Mrs  Sex_male  Title_Mr\n",
       "Title_Miss    1.000000 -0.000576  -0.204670 -0.686808 -0.595692\n",
       "Pclass       -0.000576  1.000000  -0.149209  0.131900  0.142698\n",
       "Title_Mrs    -0.204670 -0.149209   1.000000 -0.547600 -0.474952\n",
       "Sex_male     -0.686808  0.131900  -0.547600  1.000000  0.867334\n",
       "Title_Mr     -0.595692  0.142698  -0.474952  0.867334  1.000000"
      ],
      "text/html": [
       "<div>\n",
       "<style scoped>\n",
       "    .dataframe tbody tr th:only-of-type {\n",
       "        vertical-align: middle;\n",
       "    }\n",
       "\n",
       "    .dataframe tbody tr th {\n",
       "        vertical-align: top;\n",
       "    }\n",
       "\n",
       "    .dataframe thead th {\n",
       "        text-align: right;\n",
       "    }\n",
       "</style>\n",
       "<table border=\"1\" class=\"dataframe\">\n",
       "  <thead>\n",
       "    <tr style=\"text-align: right;\">\n",
       "      <th></th>\n",
       "      <th>Title_Miss</th>\n",
       "      <th>Pclass</th>\n",
       "      <th>Title_Mrs</th>\n",
       "      <th>Sex_male</th>\n",
       "      <th>Title_Mr</th>\n",
       "    </tr>\n",
       "  </thead>\n",
       "  <tbody>\n",
       "    <tr>\n",
       "      <th>Title_Miss</th>\n",
       "      <td>1.000000</td>\n",
       "      <td>-0.000576</td>\n",
       "      <td>-0.204670</td>\n",
       "      <td>-0.686808</td>\n",
       "      <td>-0.595692</td>\n",
       "    </tr>\n",
       "    <tr>\n",
       "      <th>Pclass</th>\n",
       "      <td>-0.000576</td>\n",
       "      <td>1.000000</td>\n",
       "      <td>-0.149209</td>\n",
       "      <td>0.131900</td>\n",
       "      <td>0.142698</td>\n",
       "    </tr>\n",
       "    <tr>\n",
       "      <th>Title_Mrs</th>\n",
       "      <td>-0.204670</td>\n",
       "      <td>-0.149209</td>\n",
       "      <td>1.000000</td>\n",
       "      <td>-0.547600</td>\n",
       "      <td>-0.474952</td>\n",
       "    </tr>\n",
       "    <tr>\n",
       "      <th>Sex_male</th>\n",
       "      <td>-0.686808</td>\n",
       "      <td>0.131900</td>\n",
       "      <td>-0.547600</td>\n",
       "      <td>1.000000</td>\n",
       "      <td>0.867334</td>\n",
       "    </tr>\n",
       "    <tr>\n",
       "      <th>Title_Mr</th>\n",
       "      <td>-0.595692</td>\n",
       "      <td>0.142698</td>\n",
       "      <td>-0.474952</td>\n",
       "      <td>0.867334</td>\n",
       "      <td>1.000000</td>\n",
       "    </tr>\n",
       "  </tbody>\n",
       "</table>\n",
       "</div>"
      ]
     },
     "execution_count": 71,
     "metadata": {},
     "output_type": "execute_result"
    }
   ],
   "execution_count": 71
  },
  {
   "metadata": {
    "ExecuteTime": {
     "end_time": "2025-06-25T09:35:00.687449Z",
     "start_time": "2025-06-25T09:35:00.680527Z"
    }
   },
   "cell_type": "code",
   "source": "strong_corr.var().sort_values()",
   "id": "b4a0965147b88efa",
   "outputs": [
    {
     "data": {
      "text/plain": [
       "Pclass              0.162840\n",
       "Title_Mrs           0.349432\n",
       "Title_Miss          0.422044\n",
       "Title_Mr            0.512258\n",
       "Sex_male            0.604427\n",
       "Sex_LabelEncoder    0.604427\n",
       "dtype: float64"
      ]
     },
     "execution_count": 72,
     "metadata": {},
     "output_type": "execute_result"
    }
   ],
   "execution_count": 72
  },
  {
   "metadata": {
    "ExecuteTime": {
     "end_time": "2025-06-25T09:35:01.155912Z",
     "start_time": "2025-06-25T09:35:00.892Z"
    }
   },
   "cell_type": "code",
   "source": [
    "import seaborn as sns\n",
    "sns.heatmap(df_encoded[features].corr())"
   ],
   "id": "5fb647202a6fa1d5",
   "outputs": [
    {
     "data": {
      "text/plain": [
       "<Axes: >"
      ]
     },
     "execution_count": 73,
     "metadata": {},
     "output_type": "execute_result"
    },
    {
     "data": {
      "text/plain": [
       "<Figure size 640x480 with 2 Axes>"
      ],
      "image/png": "[encoded data removed]"
     },
     "metadata": {},
     "output_type": "display_data"
    }
   ],
   "execution_count": 73
  },
  {
   "metadata": {},
   "cell_type": "markdown",
   "source": "11. Réalisez des barplots de survie par Sex, Pclass, Embarked, et Title. Qu’en concluez-vous ?",
   "id": "184c9f30022bc62d"
  },
  {
   "metadata": {
    "ExecuteTime": {
     "end_time": "2025-06-25T09:35:01.579636Z",
     "start_time": "2025-06-25T09:35:01.435170Z"
    }
   },
   "cell_type": "code",
   "source": "df.groupby('Sex').sum().plot(y='Survived', rot=0, kind=\"bar\")",
   "id": "5909942e43002314",
   "outputs": [
    {
     "data": {
      "text/plain": [
       "<Axes: xlabel='Sex'>"
      ]
     },
     "execution_count": 74,
     "metadata": {},
     "output_type": "execute_result"
    },
    {
     "data": {
      "text/plain": [
       "<Figure size 640x480 with 1 Axes>"
      ],
      "image/png": "[encoded data removed]"
     },
     "metadata": {},
     "output_type": "display_data"
    }
   ],
   "execution_count": 74
  },
  {
   "metadata": {
    "ExecuteTime": {
     "end_time": "2025-06-25T09:35:01.859184Z",
     "start_time": "2025-06-25T09:35:01.698889Z"
    }
   },
   "cell_type": "code",
   "source": "df.groupby('Pclass').sum().plot(y='Survived', rot=0, kind=\"bar\")",
   "id": "60fddc76caa2cd22",
   "outputs": [
    {
     "data": {
      "text/plain": [
       "<Axes: xlabel='Pclass'>"
      ]
     },
     "execution_count": 75,
     "metadata": {},
     "output_type": "execute_result"
    },
    {
     "data": {
      "text/plain": [
       "<Figure size 640x480 with 1 Axes>"
      ],
      "image/png": "[encoded data removed]"
     },
     "metadata": {},
     "output_type": "display_data"
    }
   ],
   "execution_count": 75
  },
  {
   "metadata": {
    "ExecuteTime": {
     "end_time": "2025-06-25T09:35:02.069931Z",
     "start_time": "2025-06-25T09:35:01.930073Z"
    }
   },
   "cell_type": "code",
   "source": "df.groupby('Embarked').sum().plot(y='Survived', rot=0, kind=\"bar\")",
   "id": "2c7a5cf5574eef2",
   "outputs": [
    {
     "data": {
      "text/plain": [
       "<Axes: xlabel='Embarked'>"
      ]
     },
     "execution_count": 76,
     "metadata": {},
     "output_type": "execute_result"
    },
    {
     "data": {
      "text/plain": [
       "<Figure size 640x480 with 1 Axes>"
      ],
      "image/png": "[encoded data removed]"
     },
     "metadata": {},
     "output_type": "display_data"
    }
   ],
   "execution_count": 76
  },
  {
   "metadata": {
    "ExecuteTime": {
     "end_time": "2025-06-25T09:35:02.357345Z",
     "start_time": "2025-06-25T09:35:02.133432Z"
    }
   },
   "cell_type": "code",
   "source": "df.groupby('Title').sum().plot(y='Survived', rot=4, kind=\"bar\")",
   "id": "67b62e0f2acab724",
   "outputs": [
    {
     "data": {
      "text/plain": [
       "<Axes: xlabel='Title'>"
      ]
     },
     "execution_count": 77,
     "metadata": {},
     "output_type": "execute_result"
    },
    {
     "data": {
      "text/plain": [
       "<Figure size 640x480 with 1 Axes>"
      ],
      "image/png": "[encoded data removed]"
     },
     "metadata": {},
     "output_type": "display_data"
    }
   ],
   "execution_count": 77
  },
  {
   "metadata": {},
   "cell_type": "markdown",
   "source": [
    "## Partie 5 – Arbre de Décision\n",
    "12. Entraînez un DecisionTreeClassifier (max_depth=4). Affichez l’arbre avec plot_tree ou graphviz.\n"
   ],
   "id": "e6a8aef4e4d0f649"
  },
  {
   "metadata": {
    "ExecuteTime": {
     "end_time": "2025-06-25T09:35:02.434347Z",
     "start_time": "2025-06-25T09:35:02.428549Z"
    }
   },
   "cell_type": "code",
   "source": [
    "from sklearn.tree import DecisionTreeClassifier, plot_tree, export_graphviz\n",
    "decision_tree = DecisionTreeClassifier(max_depth=4)\n",
    "tree_classify = decision_tree.fit(x_train, y_train)"
   ],
   "id": "42090626d282b9d6",
   "outputs": [],
   "execution_count": 78
  },
  {
   "metadata": {
    "ExecuteTime": {
     "end_time": "2025-06-25T09:35:03.584760Z",
     "start_time": "2025-06-25T09:35:02.546744Z"
    }
   },
   "cell_type": "code",
   "source": [
    "# Affichage avec plot_tree\n",
    "plot_tree(tree_classify)"
   ],
   "id": "7d175a35f53a21b0",
   "outputs": [
    {
     "data": {
      "text/plain": [
       "[Text(0.5089285714285714, 0.9, 'x[25] <= 0.5\\ngini = 0.469\\nsamples = 534\\nvalue = [333, 201]'),\n",
       " Text(0.2857142857142857, 0.7, 'x[0] <= 2.5\\ngini = 0.38\\nsamples = 188\\nvalue = [48.0, 140.0]'),\n",
       " Text(0.39732142857142855, 0.8, 'True  '),\n",
       " Text(0.14285714285714285, 0.5, 'x[1] <= -2.064\\ngini = 0.059\\nsamples = 99\\nvalue = [3, 96]'),\n",
       " Text(0.07142857142857142, 0.3, 'x[3] <= 1.5\\ngini = 0.5\\nsamples = 2\\nvalue = [1, 1]'),\n",
       " Text(0.03571428571428571, 0.1, 'gini = 0.0\\nsamples = 1\\nvalue = [0, 1]'),\n",
       " Text(0.10714285714285714, 0.1, 'gini = 0.0\\nsamples = 1\\nvalue = [1, 0]'),\n",
       " Text(0.21428571428571427, 0.3, 'x[1] <= 1.548\\ngini = 0.04\\nsamples = 97\\nvalue = [2, 95]'),\n",
       " Text(0.17857142857142858, 0.1, 'gini = 0.023\\nsamples = 86\\nvalue = [1, 85]'),\n",
       " Text(0.25, 0.1, 'gini = 0.165\\nsamples = 11\\nvalue = [1, 10]'),\n",
       " Text(0.42857142857142855, 0.5, 'x[4] <= -0.178\\ngini = 0.5\\nsamples = 89\\nvalue = [45, 44]'),\n",
       " Text(0.35714285714285715, 0.3, 'x[4] <= -0.349\\ngini = 0.484\\nsamples = 73\\nvalue = [30, 43]'),\n",
       " Text(0.32142857142857145, 0.1, 'gini = 0.5\\nsamples = 53\\nvalue = [26, 27]'),\n",
       " Text(0.39285714285714285, 0.1, 'gini = 0.32\\nsamples = 20\\nvalue = [4, 16]'),\n",
       " Text(0.5, 0.3, 'x[1] <= -1.718\\ngini = 0.117\\nsamples = 16\\nvalue = [15, 1]'),\n",
       " Text(0.4642857142857143, 0.1, 'gini = 0.444\\nsamples = 3\\nvalue = [2, 1]'),\n",
       " Text(0.5357142857142857, 0.1, 'gini = 0.0\\nsamples = 13\\nvalue = [13, 0]'),\n",
       " Text(0.7321428571428571, 0.7, 'x[1] <= -1.987\\ngini = 0.29\\nsamples = 346\\nvalue = [285, 61]'),\n",
       " Text(0.6205357142857142, 0.8, '  False'),\n",
       " Text(0.6071428571428571, 0.5, 'x[2] <= 3.0\\ngini = 0.355\\nsamples = 13\\nvalue = [3, 10]'),\n",
       " Text(0.5714285714285714, 0.3, 'gini = 0.0\\nsamples = 9\\nvalue = [0, 9]'),\n",
       " Text(0.6428571428571429, 0.3, 'x[1] <= -2.064\\ngini = 0.375\\nsamples = 4\\nvalue = [3, 1]'),\n",
       " Text(0.6071428571428571, 0.1, 'gini = 0.0\\nsamples = 3\\nvalue = [3, 0]'),\n",
       " Text(0.6785714285714286, 0.1, 'gini = 0.0\\nsamples = 1\\nvalue = [0, 1]'),\n",
       " Text(0.8571428571428571, 0.5, 'x[0] <= 1.5\\ngini = 0.259\\nsamples = 333\\nvalue = [282, 51]'),\n",
       " Text(0.7857142857142857, 0.3, 'x[4] <= 7.157\\ngini = 0.422\\nsamples = 66\\nvalue = [46, 20]'),\n",
       " Text(0.75, 0.1, 'gini = 0.404\\nsamples = 64\\nvalue = [46, 18]'),\n",
       " Text(0.8214285714285714, 0.1, 'gini = 0.0\\nsamples = 2\\nvalue = [0, 2]'),\n",
       " Text(0.9285714285714286, 0.3, 'x[22] <= 0.5\\ngini = 0.205\\nsamples = 267\\nvalue = [236, 31]'),\n",
       " Text(0.8928571428571429, 0.1, 'gini = 0.337\\nsamples = 28\\nvalue = [22, 6]'),\n",
       " Text(0.9642857142857143, 0.1, 'gini = 0.187\\nsamples = 239\\nvalue = [214, 25]')]"
      ]
     },
     "execution_count": 79,
     "metadata": {},
     "output_type": "execute_result"
    },
    {
     "data": {
      "text/plain": [
       "<Figure size 640x480 with 1 Axes>"
      ],
      "image/png": "[encoded data removed]"
     },
     "metadata": {},
     "output_type": "display_data"
    }
   ],
   "execution_count": 79
  },
  {
   "metadata": {
    "ExecuteTime": {
     "end_time": "2025-06-25T09:35:03.680919Z",
     "start_time": "2025-06-25T09:35:03.662232Z"
    }
   },
   "cell_type": "code",
   "source": "dot_data = export_graphviz(tree_classify, feature_names= x_train.columns, out_file=\"tree.dot\", filled=True)",
   "id": "155378dc41a01dd8",
   "outputs": [],
   "execution_count": 80
  },
  {
   "metadata": {},
   "cell_type": "markdown",
   "source": [
    "13. Évaluez le modèle avec :\n",
    "+ Accuracy\n",
    "+ Précision\n",
    "+ Rappel\n",
    "+ F1-score\n",
    "+ Matrice de confusion\n",
    "+ Courbe ROC\n"
   ],
   "id": "ff775e18b4694c78"
  },
  {
   "metadata": {
    "ExecuteTime": {
     "end_time": "2025-06-25T09:35:03.815543Z",
     "start_time": "2025-06-25T09:35:03.806388Z"
    }
   },
   "cell_type": "code",
   "source": [
    "from sklearn.metrics import accuracy_score, precision_score, recall_score, f1_score, RocCurveDisplay, confusion_matrix\n",
    "# Accuracy\n",
    "accuracy_score(tree_classify.predict(x_test), y_test)"
   ],
   "id": "2eb3a19a4dd6f538",
   "outputs": [
    {
     "data": {
      "text/plain": [
       "0.7983193277310925"
      ]
     },
     "execution_count": 81,
     "metadata": {},
     "output_type": "execute_result"
    }
   ],
   "execution_count": 81
  },
  {
   "metadata": {
    "ExecuteTime": {
     "end_time": "2025-06-25T09:35:03.961756Z",
     "start_time": "2025-06-25T09:35:03.949196Z"
    }
   },
   "cell_type": "code",
   "source": [
    "# Précision score\n",
    "precision_score(tree_classify.predict(x_test), y_test)"
   ],
   "id": "f30427b5ed5b6fa9",
   "outputs": [
    {
     "data": {
      "text/plain": [
       "0.6666666666666666"
      ]
     },
     "execution_count": 82,
     "metadata": {},
     "output_type": "execute_result"
    }
   ],
   "execution_count": 82
  },
  {
   "metadata": {
    "ExecuteTime": {
     "end_time": "2025-06-25T09:35:04.076997Z",
     "start_time": "2025-06-25T09:35:04.067491Z"
    }
   },
   "cell_type": "code",
   "source": [
    "# Rappel\n",
    "recall_score(tree_classify.predict(x_test), y_test)"
   ],
   "id": "8e09c3fe3e506593",
   "outputs": [
    {
     "data": {
      "text/plain": [
       "0.7899159663865546"
      ]
     },
     "execution_count": 83,
     "metadata": {},
     "output_type": "execute_result"
    }
   ],
   "execution_count": 83
  },
  {
   "metadata": {
    "ExecuteTime": {
     "end_time": "2025-06-25T09:35:04.206577Z",
     "start_time": "2025-06-25T09:35:04.197167Z"
    }
   },
   "cell_type": "code",
   "source": [
    "# F1 score\n",
    "f1_score(tree_classify.predict(x_test), y_test)"
   ],
   "id": "244dc0dc3051917e",
   "outputs": [
    {
     "data": {
      "text/plain": [
       "0.7230769230769231"
      ]
     },
     "execution_count": 84,
     "metadata": {},
     "output_type": "execute_result"
    }
   ],
   "execution_count": 84
  },
  {
   "metadata": {
    "ExecuteTime": {
     "end_time": "2025-06-25T09:35:04.353873Z",
     "start_time": "2025-06-25T09:35:04.341937Z"
    }
   },
   "cell_type": "code",
   "source": [
    "# Matrix de confusion\n",
    "confusion_matrix(tree_classify.predict(x_test), y_test)"
   ],
   "id": "e0e55859d8a8c0f4",
   "outputs": [
    {
     "data": {
      "text/plain": [
       "array([[191,  47],\n",
       "       [ 25,  94]])"
      ]
     },
     "execution_count": 85,
     "metadata": {},
     "output_type": "execute_result"
    }
   ],
   "execution_count": 85
  },
  {
   "metadata": {},
   "cell_type": "markdown",
   "source": [
    "## Partie 6 – Random Forest\n",
    "14. Entraînez une RandomForestClassifier avec 100 arbres. Même split que précédemment.\n"
   ],
   "id": "93adacebf125ce84"
  },
  {
   "metadata": {
    "ExecuteTime": {
     "end_time": "2025-06-25T09:35:04.758816Z",
     "start_time": "2025-06-25T09:35:04.553460Z"
    }
   },
   "cell_type": "code",
   "source": [
    "from sklearn.ensemble import RandomForestClassifier\n",
    "random_forest = RandomForestClassifier(n_estimators=100)\n",
    "forest_classify = random_forest.fit(x_train, y_train)\n"
   ],
   "id": "b1f093eb50bd133d",
   "outputs": [],
   "execution_count": 86
  },
  {
   "metadata": {},
   "cell_type": "markdown",
   "source": "15. Comparez les performances de la Random Forest avec l’arbre de décision sur toutes les métriques.\n",
   "id": "823747d79e679db"
  },
  {
   "metadata": {
    "ExecuteTime": {
     "end_time": "2025-06-25T09:35:04.936453Z",
     "start_time": "2025-06-25T09:35:04.909859Z"
    }
   },
   "cell_type": "code",
   "source": [
    "# Accuracy\n",
    "accuracy_score(forest_classify.predict(x_test), y_test)"
   ],
   "id": "baa828ce5c933f9f",
   "outputs": [
    {
     "data": {
      "text/plain": [
       "0.7843137254901961"
      ]
     },
     "execution_count": 87,
     "metadata": {},
     "output_type": "execute_result"
    }
   ],
   "execution_count": 87
  },
  {
   "metadata": {
    "ExecuteTime": {
     "end_time": "2025-06-25T09:35:05.144978Z",
     "start_time": "2025-06-25T09:35:05.113187Z"
    }
   },
   "cell_type": "code",
   "source": [
    "# Précision score\n",
    "precision_score(forest_classify.predict(x_test), y_test)"
   ],
   "id": "4a8314815b5eb77e",
   "outputs": [
    {
     "data": {
      "text/plain": [
       "0.7163120567375887"
      ]
     },
     "execution_count": 88,
     "metadata": {},
     "output_type": "execute_result"
    }
   ],
   "execution_count": 88
  },
  {
   "metadata": {
    "ExecuteTime": {
     "end_time": "2025-06-25T09:35:05.282323Z",
     "start_time": "2025-06-25T09:35:05.259420Z"
    }
   },
   "cell_type": "code",
   "source": [
    "# Rappel\n",
    "recall_score(forest_classify.predict(x_test), y_test)"
   ],
   "id": "6e3e8ff4b2ed008e",
   "outputs": [
    {
     "data": {
      "text/plain": [
       "0.7318840579710145"
      ]
     },
     "execution_count": 89,
     "metadata": {},
     "output_type": "execute_result"
    }
   ],
   "execution_count": 89
  },
  {
   "metadata": {
    "ExecuteTime": {
     "end_time": "2025-06-25T09:35:05.442713Z",
     "start_time": "2025-06-25T09:35:05.414368Z"
    }
   },
   "cell_type": "code",
   "source": [
    "# F1 score\n",
    "f1_score(forest_classify.predict(x_test), y_test)"
   ],
   "id": "d80523dad6d00fcd",
   "outputs": [
    {
     "data": {
      "text/plain": [
       "0.7240143369175627"
      ]
     },
     "execution_count": 90,
     "metadata": {},
     "output_type": "execute_result"
    }
   ],
   "execution_count": 90
  },
  {
   "metadata": {
    "ExecuteTime": {
     "end_time": "2025-06-25T09:35:05.566384Z",
     "start_time": "2025-06-25T09:35:05.540720Z"
    }
   },
   "cell_type": "code",
   "source": [
    "# Matrix de confusion\n",
    "confusion_matrix(forest_classify.predict(x_test), y_test)"
   ],
   "id": "69cf3c0377fe4445",
   "outputs": [
    {
     "data": {
      "text/plain": [
       "array([[179,  40],\n",
       "       [ 37, 101]])"
      ]
     },
     "execution_count": 91,
     "metadata": {},
     "output_type": "execute_result"
    }
   ],
   "execution_count": 91
  },
  {
   "metadata": {},
   "cell_type": "markdown",
   "source": "16. Affichez feature_importances_. Quelles sont les 3 variables les plus importantes ?\n",
   "id": "4e2ff7597f57d2a4"
  },
  {
   "metadata": {
    "ExecuteTime": {
     "end_time": "2025-06-25T09:35:05.743245Z",
     "start_time": "2025-06-25T09:35:05.726351Z"
    }
   },
   "cell_type": "code",
   "source": "pd.Series(forest_classify.feature_importances_, index=x_train.columns).sort_values(ascending=False)",
   "id": "70b39e4686bab869",
   "outputs": [
    {
     "data": {
      "text/plain": [
       "Fare                     0.228326\n",
       "Age                      0.210693\n",
       "Title_Mr                 0.110020\n",
       "Sex_male                 0.109952\n",
       "Pclass                   0.074248\n",
       "Title_LabelEncoder       0.060714\n",
       "SibSp                    0.052819\n",
       "Parch                    0.037158\n",
       "Title_Mrs                0.032376\n",
       "Embarked_LabelEncoder    0.024527\n",
       "Title_Miss               0.021521\n",
       "Embarked_S               0.012874\n",
       "Embarked_Q               0.009012\n",
       "Title_Master             0.006227\n",
       "Title_Rev                0.005186\n",
       "Title_Dr                 0.002329\n",
       "Title_Col                0.000916\n",
       "Title_Ms                 0.000296\n",
       "Title_Lady               0.000289\n",
       "Title_the Countess       0.000283\n",
       "Title_Mlle               0.000206\n",
       "Title_Mme                0.000029\n",
       "Title_Jonkheer           0.000000\n",
       "Title_Don                0.000000\n",
       "Title_Major              0.000000\n",
       "Title_Sir                0.000000\n",
       "dtype: float64"
      ]
     },
     "execution_count": 92,
     "metadata": {},
     "output_type": "execute_result"
    }
   ],
   "execution_count": 92
  },
  {
   "metadata": {},
   "cell_type": "markdown",
   "source": [
    "## Partie 7 – Analyse & Optimisation\n",
    "17. Faites varier max_depth entre 1 et 10 pour l’arbre. Tracez l’évolution de l’accuracy en train/test."
   ],
   "id": "cde06b1b4831a8bd"
  },
  {
   "metadata": {
    "ExecuteTime": {
     "end_time": "2025-06-25T09:35:06.179578Z",
     "start_time": "2025-06-25T09:35:05.938509Z"
    }
   },
   "cell_type": "code",
   "source": [
    "x_acc = []\n",
    "y_acc = []\n",
    "for i in range (1, 11):\n",
    "    x_acc.append(i)\n",
    "    print(f\"For max_depth {i}\")\n",
    "    decision_tree_2 = DecisionTreeClassifier(max_depth=i)\n",
    "    tree_classify_2 = decision_tree_2.fit(x_train, y_train)\n",
    "    # Accuracy\n",
    "    acc = accuracy_score(tree_classify_2.predict(x_test), y_test)\n",
    "    print(\"Accuracy\", acc)\n",
    "    y_acc.append(acc)\n",
    "    # Précision score\n",
    "    print(\"Précision score\", precision_score(tree_classify_2.predict(x_test), y_test))\n",
    "    # Rappel\n",
    "    print(\"Rappel\", recall_score(tree_classify_2.predict(x_test), y_test))\n",
    "    # F1 score\n",
    "    print(\"F1 score\", f1_score(tree_classify_2.predict(x_test), y_test))\n",
    "    # Matrix de confusion\n",
    "    print(\"Matrix de confusion\", confusion_matrix(tree_classify_2.predict(x_test), y_test))\n",
    "    print(\"=======================================================================\")"
   ],
   "id": "ca48d730f08d2420",
   "outputs": [
    {
     "name": "stdout",
     "output_type": "stream",
     "text": [
      "For max_depth 1\n",
      "Accuracy 0.773109243697479\n",
      "Précision score 0.6595744680851063\n",
      "Rappel 0.7380952380952381\n",
      "F1 score 0.6966292134831461\n",
      "Matrix de confusion [[183  48]\n",
      " [ 33  93]]\n",
      "=======================================================================\n",
      "For max_depth 2\n",
      "Accuracy 0.773109243697479\n",
      "Précision score 0.48226950354609927\n",
      "Rappel 0.8947368421052632\n",
      "F1 score 0.6267281105990783\n",
      "Matrix de confusion [[208  73]\n",
      " [  8  68]]\n",
      "=======================================================================\n",
      "For max_depth 3\n",
      "Accuracy 0.7983193277310925\n",
      "Précision score 0.6666666666666666\n",
      "Rappel 0.7899159663865546\n",
      "F1 score 0.7230769230769231\n",
      "Matrix de confusion [[191  47]\n",
      " [ 25  94]]\n",
      "=======================================================================\n",
      "For max_depth 4\n",
      "Accuracy 0.7983193277310925\n",
      "Précision score 0.6666666666666666\n",
      "Rappel 0.7899159663865546\n",
      "F1 score 0.7230769230769231\n",
      "Matrix de confusion [[191  47]\n",
      " [ 25  94]]\n",
      "=======================================================================\n",
      "For max_depth 5\n",
      "Accuracy 0.742296918767507\n",
      "Précision score 0.5390070921985816\n",
      "Rappel 0.7378640776699029\n",
      "F1 score 0.6229508196721312\n",
      "Matrix de confusion [[189  65]\n",
      " [ 27  76]]\n",
      "=======================================================================\n",
      "For max_depth 6\n",
      "Accuracy 0.7478991596638656\n",
      "Précision score 0.5815602836879432\n",
      "Rappel 0.7256637168141593\n",
      "F1 score 0.6456692913385826\n",
      "Matrix de confusion [[185  59]\n",
      " [ 31  82]]\n",
      "=======================================================================\n",
      "For max_depth 7\n",
      "Accuracy 0.7478991596638656\n",
      "Précision score 0.574468085106383\n",
      "Rappel 0.7297297297297297\n",
      "F1 score 0.6428571428571429\n",
      "Matrix de confusion [[186  60]\n",
      " [ 30  81]]\n",
      "=======================================================================\n",
      "For max_depth 8\n",
      "Accuracy 0.7450980392156863\n",
      "Précision score 0.5886524822695035\n",
      "Rappel 0.7155172413793104\n",
      "F1 score 0.6459143968871596\n",
      "Matrix de confusion [[183  58]\n",
      " [ 33  83]]\n",
      "=======================================================================\n",
      "For max_depth 9\n",
      "Accuracy 0.7647058823529411\n",
      "Précision score 0.6879432624113475\n",
      "Rappel 0.708029197080292\n",
      "F1 score 0.697841726618705\n",
      "Matrix de confusion [[176  44]\n",
      " [ 40  97]]\n",
      "=======================================================================\n",
      "For max_depth 10\n",
      "Accuracy 0.7591036414565826\n",
      "Précision score 0.6666666666666666\n",
      "Rappel 0.706766917293233\n",
      "F1 score 0.6861313868613139\n",
      "Matrix de confusion [[177  47]\n",
      " [ 39  94]]\n",
      "=======================================================================\n"
     ]
    }
   ],
   "execution_count": 93
  },
  {
   "metadata": {
    "ExecuteTime": {
     "end_time": "2025-06-25T09:35:06.595303Z",
     "start_time": "2025-06-25T09:35:06.374031Z"
    }
   },
   "cell_type": "code",
   "source": [
    "import matplotlib.pyplot as plt\n",
    "plt.xlabel(\"Max depth\")\n",
    "plt.ylabel(\"Accuracy\")\n",
    "plt.title(\"Variation Decision Tree Classifier following maximum depth\")\n",
    "plt.plot(x_acc, y_acc)"
   ],
   "id": "25d461e26483033d",
   "outputs": [
    {
     "data": {
      "text/plain": [
       "[<matplotlib.lines.Line2D at 0x7f6997e49ab0>]"
      ]
     },
     "execution_count": 94,
     "metadata": {},
     "output_type": "execute_result"
    },
    {
     "data": {
      "text/plain": [
       "<Figure size 640x480 with 1 Axes>"
      ],
      "image/png": "[encoded data removed]"
     },
     "metadata": {},
     "output_type": "display_data"
    }
   ],
   "execution_count": 94
  },
  {
   "metadata": {},
   "cell_type": "markdown",
   "source": "18. Utilisez cross_val_score pour comparer la stabilité des deux modèles.",
   "id": "e04e26e4620a7035"
  },
  {
   "metadata": {
    "ExecuteTime": {
     "end_time": "2025-06-25T09:53:07.119003Z",
     "start_time": "2025-06-25T09:53:05.977223Z"
    }
   },
   "cell_type": "code",
   "source": [
    "from sklearn.model_selection import cross_val_score\n",
    "# Random Forest\n",
    "score_random_forest = cross_val_score(random_forest, x_use, y, cv=6)"
   ],
   "id": "a16377ff8e687707",
   "outputs": [],
   "execution_count": 115
  },
  {
   "metadata": {
    "ExecuteTime": {
     "end_time": "2025-06-25T09:53:08.454618Z",
     "start_time": "2025-06-25T09:53:08.448026Z"
    }
   },
   "cell_type": "code",
   "source": "score_random_forest.mean()",
   "id": "4ee604137f131cb1",
   "outputs": [
    {
     "data": {
      "text/plain": [
       "np.float64(0.8092085373964569)"
      ]
     },
     "execution_count": 116,
     "metadata": {},
     "output_type": "execute_result"
    }
   ],
   "execution_count": 116
  },
  {
   "metadata": {
    "ExecuteTime": {
     "end_time": "2025-06-25T09:53:10.224813Z",
     "start_time": "2025-06-25T09:53:10.175808Z"
    }
   },
   "cell_type": "code",
   "source": [
    "# Tree decision\n",
    "score_decision_tree = cross_val_score(decision_tree, x_use, y, cv=6)"
   ],
   "id": "fde57f26c89599fa",
   "outputs": [],
   "execution_count": 117
  },
  {
   "metadata": {
    "ExecuteTime": {
     "end_time": "2025-06-25T09:53:12.595936Z",
     "start_time": "2025-06-25T09:53:12.590101Z"
    }
   },
   "cell_type": "code",
   "source": "score_decision_tree.mean()",
   "id": "b903c2b991be6da9",
   "outputs": [
    {
     "data": {
      "text/plain": [
       "np.float64(0.8338623858758086)"
      ]
     },
     "execution_count": 118,
     "metadata": {},
     "output_type": "execute_result"
    }
   ],
   "execution_count": 118
  }
 ],
 "metadata": {
  "kernelspec": {
   "display_name": "Python 3",
   "language": "python",
   "name": "python3"
  },
  "language_info": {
   "codemirror_mode": {
    "name": "ipython",
    "version": 2
   },
   "file_extension": ".py",
   "mimetype": "text/x-python",
   "name": "python",
   "nbconvert_exporter": "python",
   "pygments_lexer": "ipython2",
   "version": "2.7.6"
  }
 },
 "nbformat": 4,
 "nbformat_minor": 5
}
