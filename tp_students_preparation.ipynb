{
 "cells": [
  {
   "cell_type": "markdown",
   "id": "24d8c82a",
   "metadata": {},
   "source": [
    "# 🧪 TP – Analyse des performances d’étudiants\n",
    "\n",
    "🎯 **Objectif :** Préparer ce dataset pour un prochain cours qui prédira la note finale d’un étudiant."
   ]
  },
  {
   "cell_type": "markdown",
   "id": "3cd53ce4",
   "metadata": {},
   "source": [
    "### Jeu de données : StudentsPerformance.csv\n",
    "### Réponder aux questions dans la cellule suivant la question\n",
    "### Modules autorisés : pandas, mathplotlib, numpy, seaborn, scikit-learn"
   ]
  },
  {
   "cell_type": "markdown",
   "id": "c526404b",
   "metadata": {},
   "source": [
    "## 📋 Questions"
   ]
  },
  {
   "cell_type": "markdown",
   "id": "c44c110a-ca89-408a-8bd3-ffb15f7c96e5",
   "metadata": {},
   "source": [
    "### 🔹 0. charger le jeu de données et ajout de colonne average_score"
   ]
  },
  {
   "cell_type": "markdown",
   "id": "a7fa23b5-d6d4-4b61-af8d-3d0e77ac0196",
   "metadata": {},
   "source": [
    "a. Charger le jeu de données et puis ajouter une colonne 'average_score' (moyenne des trois notes \"math score\",\"reading score\",\"writing score\" dans le jeu de données"
   ]
  },
  {
   "cell_type": "code",
   "execution_count": null,
   "id": "80377eef-7f49-4f0d-aa77-63f01ec06d65",
   "metadata": {},
   "outputs": [],
   "source": []
  },
  {
   "cell_type": "markdown",
   "id": "d701b67c",
   "metadata": {},
   "source": [
    "### 🔹 1. Exploration de base"
   ]
  },
  {
   "cell_type": "markdown",
   "id": "20bac6d5-1a5d-4b18-b032-cc29b5f11671",
   "metadata": {},
   "source": [
    "a. Charger le jeu de données et Afficher les 10 premières lignes du dataset"
   ]
  },
  {
   "cell_type": "code",
   "execution_count": null,
   "id": "a7dcf5df-469a-4e16-9665-dcf5764deb58",
   "metadata": {},
   "outputs": [],
   "source": []
  },
  {
   "cell_type": "markdown",
   "id": "8afa19ce-bc1c-43ac-a271-3855cfba9412",
   "metadata": {},
   "source": [
    "b. Combien d’étudiants ont participé à l’étude ?"
   ]
  },
  {
   "cell_type": "code",
   "execution_count": null,
   "id": "5b9f0248-322e-4fe6-a13f-1e679e5a7990",
   "metadata": {},
   "outputs": [],
   "source": []
  },
  {
   "cell_type": "markdown",
   "id": "c00dc797-a17e-41cd-8d84-0a6387b32842",
   "metadata": {},
   "source": [
    "c. Existe-t-il des doublons (étudiants) ?"
   ]
  },
  {
   "cell_type": "code",
   "execution_count": null,
   "id": "857c6629-db2b-4a2c-a094-167a71c4743d",
   "metadata": {},
   "outputs": [],
   "source": []
  },
  {
   "cell_type": "markdown",
   "id": "61fcba82-d2fe-4503-8072-d7952f67e6d4",
   "metadata": {},
   "source": [
    "d. Donner les statistiques de base des scores (max, min, moyenne, mediane)"
   ]
  },
  {
   "cell_type": "code",
   "execution_count": null,
   "id": "65da43df-432f-40e5-94fd-61670a0533b0",
   "metadata": {},
   "outputs": [],
   "source": []
  },
  {
   "cell_type": "markdown",
   "id": "f005579c",
   "metadata": {},
   "source": [
    "### 🔹 2. Détection de valeurs manquantes ou incohérentes"
   ]
  },
  {
   "cell_type": "markdown",
   "id": "f187126b-820e-45a0-b19c-6a425b9bed50",
   "metadata": {},
   "source": [
    "a. Nombre de valeurs manquantes par cellule?"
   ]
  },
  {
   "cell_type": "code",
   "execution_count": null,
   "id": "8a00b955-9b7f-49ca-a93c-e481beaa4f41",
   "metadata": {},
   "outputs": [],
   "source": []
  },
  {
   "cell_type": "markdown",
   "id": "2aa19a2f-f8ea-4942-bdaf-c099bcfff841",
   "metadata": {},
   "source": [
    "b. Combien d'étudiants ont un score moyen < 40 ?"
   ]
  },
  {
   "cell_type": "code",
   "execution_count": null,
   "id": "c1700484-9122-43a0-91a5-dd669e5ecdf6",
   "metadata": {},
   "outputs": [],
   "source": []
  },
  {
   "cell_type": "markdown",
   "id": "d251f34a-88cc-4555-8f9d-ffcf6c8d4229",
   "metadata": {},
   "source": [
    "c. Valeurs aberrantes pour le score moyen ? (utiliser visualisation et la Méthode de l’écart interquartile [à lire])"
   ]
  },
  {
   "cell_type": "code",
   "execution_count": null,
   "id": "f9fd62bb-2825-44be-bd8e-d9a5457f867d",
   "metadata": {},
   "outputs": [],
   "source": []
  },
  {
   "cell_type": "markdown",
   "id": "a94155c6",
   "metadata": {},
   "source": [
    "### 🔹 3. Visualisation des données"
   ]
  },
  {
   "cell_type": "markdown",
   "id": "a77e022c-c5ab-4c5c-872f-304bf7423548",
   "metadata": {},
   "source": [
    "a. Histogramme des notes moyennes"
   ]
  },
  {
   "cell_type": "code",
   "execution_count": null,
   "id": "e26fd12e-eaac-4d76-afd5-0e02bb1f7362",
   "metadata": {},
   "outputs": [],
   "source": []
  },
  {
   "cell_type": "markdown",
   "id": "6250b94b-b79d-4be7-ac57-036773e69a3b",
   "metadata": {},
   "source": [
    "b. Peut-on voir sur cet histogramme des valeurs abérrantes?"
   ]
  },
  {
   "cell_type": "code",
   "execution_count": null,
   "id": "3e0c93eb-d3e6-4bdd-b316-eb0c764612b9",
   "metadata": {},
   "outputs": [],
   "source": []
  },
  {
   "cell_type": "markdown",
   "id": "70988a94-9077-44c6-b868-514de4d782bb",
   "metadata": {},
   "source": [
    "c. Faire une boxplot des moyennes par genre."
   ]
  },
  {
   "cell_type": "code",
   "execution_count": null,
   "id": "ad70b902-cdfe-4a05-a8b4-907446c854dd",
   "metadata": {},
   "outputs": [],
   "source": []
  },
  {
   "cell_type": "markdown",
   "id": "92e0f668-9bc1-4630-8cf8-918b55f535e2",
   "metadata": {},
   "source": [
    "d. Est-ce qu'il y a une différence nette des moyennes de genre sur ce boxplot? "
   ]
  },
  {
   "cell_type": "code",
   "execution_count": null,
   "id": "449d79c8-495b-41b2-b1ab-11920145f13d",
   "metadata": {},
   "outputs": [],
   "source": []
  },
  {
   "cell_type": "markdown",
   "id": "394c530d-fc9a-4e5e-b2d0-b9afd6f6502c",
   "metadata": {},
   "source": [
    "e. Barplot moyenne par niveau d'éducation des parents? Peut-on avoir des conclusions sur cette variable?"
   ]
  },
  {
   "cell_type": "code",
   "execution_count": null,
   "id": "705a3fab-9db7-4cec-87a9-05794f78d3b4",
   "metadata": {},
   "outputs": [],
   "source": []
  },
  {
   "cell_type": "markdown",
   "id": "6cb70788-9522-46a8-8d33-240c4be19e54",
   "metadata": {},
   "source": [
    "d. Faire le Heatmap de corrélation. Quelle est la variable la plus correlée avec la note moyenne?"
   ]
  },
  {
   "cell_type": "code",
   "execution_count": null,
   "id": "a6edb87c-d20b-4dc6-b664-3f7eadbd8a66",
   "metadata": {},
   "outputs": [],
   "source": []
  },
  {
   "cell_type": "markdown",
   "id": "ea48613f",
   "metadata": {},
   "source": [
    "### 🔹 4. Nettoyage des données"
   ]
  },
  {
   "cell_type": "markdown",
   "id": "e5c61e36-7185-467b-b057-6b3ecc46262b",
   "metadata": {},
   "source": [
    "a. Imputation des NaN (remplacer les NaN par la moyenne de la variable correspondante)"
   ]
  },
  {
   "cell_type": "code",
   "execution_count": null,
   "id": "b1861830-d069-4790-9470-b74c88da54af",
   "metadata": {},
   "outputs": [],
   "source": []
  },
  {
   "cell_type": "markdown",
   "id": "97e2fa5d-d425-4864-80f5-d2dd447bd009",
   "metadata": {},
   "source": [
    "b. Suppression des colonnes inutiles ( Identifiez les colonnes qui sont redondantes, constantes ou sans valeur explicative[aucune corrélation] )"
   ]
  },
  {
   "cell_type": "code",
   "execution_count": null,
   "id": "339da701-d1be-4c76-883b-a14b6ab6d057",
   "metadata": {},
   "outputs": [],
   "source": []
  },
  {
   "cell_type": "markdown",
   "id": "6b98bddd-e203-4045-be1a-cedaf624a573",
   "metadata": {},
   "source": [
    "c. Sélection des colonnes utiles"
   ]
  },
  {
   "cell_type": "code",
   "execution_count": null,
   "id": "7663ece0-c467-4db8-a154-8e33c1cdf93a",
   "metadata": {},
   "outputs": [],
   "source": []
  },
  {
   "cell_type": "markdown",
   "id": "d69fb340",
   "metadata": {},
   "source": [
    "### 🔹 5. Encodage"
   ]
  },
  {
   "cell_type": "markdown",
   "id": "078f99de-9267-427c-80c9-ff9e0165bd66",
   "metadata": {},
   "source": [
    "a. Encodage de `gender` ( rendre en numérqieu de façon catégorielle )"
   ]
  },
  {
   "cell_type": "code",
   "execution_count": null,
   "id": "ac87cfba-7378-4883-81a6-e0494359f5ab",
   "metadata": {},
   "outputs": [],
   "source": []
  },
  {
   "cell_type": "markdown",
   "id": "f0b75d42-6695-444f-82ba-37d873bae587",
   "metadata": {},
   "source": [
    "b. Encodage one-hot de `parental_level_of_education`"
   ]
  },
  {
   "cell_type": "code",
   "execution_count": null,
   "id": "258f268d-f130-4e04-af6c-907c70b49dc8",
   "metadata": {},
   "outputs": [],
   "source": []
  },
  {
   "cell_type": "markdown",
   "id": "f0acc438-11ae-41b4-895a-ee861307e312",
   "metadata": {},
   "source": [
    "c. Est-il utilise pour l'encodage de `parental_level_of_education` de faire un Regroupement des modalités ? "
   ]
  },
  {
   "cell_type": "code",
   "execution_count": null,
   "id": "42804ca4-38aa-488e-b16c-65a96d6570ac",
   "metadata": {},
   "outputs": [],
   "source": []
  },
  {
   "cell_type": "markdown",
   "id": "fc06c457",
   "metadata": {},
   "source": [
    "### 🔹 6. Préparation finale"
   ]
  },
  {
   "cell_type": "markdown",
   "id": "ad1d55d7-38a4-431e-8747-9527557e60b3",
   "metadata": {},
   "source": [
    "a. Créer X (features) et y (cible: average_score)"
   ]
  },
  {
   "cell_type": "code",
   "execution_count": null,
   "id": "66f4a7a2-6f3a-4d68-8992-fd4e2d2f92c7",
   "metadata": {},
   "outputs": [],
   "source": []
  },
  {
   "cell_type": "markdown",
   "id": "4ba1a502-e030-4d4d-8d5d-2a4485358c4e",
   "metadata": {},
   "source": [
    "b. Vérifier que X est bien numérique"
   ]
  },
  {
   "cell_type": "code",
   "execution_count": null,
   "id": "57f5d0d3-275f-488c-bc4d-06e39d9bae11",
   "metadata": {},
   "outputs": [],
   "source": []
  },
  {
   "cell_type": "markdown",
   "id": "fa4e66cd-fdcd-44c6-ab96-afeb00d0577e",
   "metadata": {},
   "source": [
    "c. Sauvegarder X et y"
   ]
  },
  {
   "cell_type": "code",
   "execution_count": null,
   "id": "040f61de-e572-424e-92c7-c80cca29466c",
   "metadata": {},
   "outputs": [],
   "source": []
  },
  {
   "cell_type": "markdown",
   "id": "fbdcc075",
   "metadata": {},
   "source": [
    "## 💡 Bonus"
   ]
  },
  {
   "cell_type": "code",
   "execution_count": null,
   "id": "a714cead",
   "metadata": {},
   "outputs": [],
   "source": [
    "# Fonction preprocess_students_data(df)"
   ]
  },
  {
   "cell_type": "markdown",
   "id": "b7bdfc15-8dc7-4c09-93ae-5f0804882a84",
   "metadata": {},
   "source": [
    "a. Visualisation libre d'une tendance surprenante"
   ]
  },
  {
   "cell_type": "code",
   "execution_count": null,
   "id": "10678def-6044-4774-95f1-96de4440f3de",
   "metadata": {},
   "outputs": [],
   "source": []
  }
 ],
 "metadata": {
  "kernelspec": {
   "display_name": "Python 3 (ipykernel)",
   "language": "python",
   "name": "python3"
  },
  "language_info": {
   "codemirror_mode": {
    "name": "ipython",
    "version": 3
   },
   "file_extension": ".py",
   "mimetype": "text/x-python",
   "name": "python",
   "nbconvert_exporter": "python",
   "pygments_lexer": "ipython3",
   "version": "3.12.3"
  }
 },
 "nbformat": 4,
 "nbformat_minor": 5
}
