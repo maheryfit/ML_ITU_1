{
 "cells": [
  {
   "cell_type": "markdown",
   "id": "8edde7d4-b81f-4f82-9d4e-c44588af484f",
   "metadata": {},
   "source": [
    "\n",
    "# TP : Prédire le prix de location de logements à Antananarivo avec une régression linéaire multiple\n",
    "\n",
    "## 🎯 Objectifs pédagogiques\n",
    "\n",
    "- Appliquer un pipeline de prétraitement complet sur un jeu de données semi-structuré.\n",
    "- Gérer les variables qualitatives, les valeurs manquantes, la multicolinéarité et la scalabilité.\n",
    "- Construire, tester et évaluer un modèle de régression linéaire multiple.\n",
    "- Déployer le modèle dans une application Python Streamlit avec interface utilisateur.\n",
    "\n",
    "## 🗂️ Jeu de données\n",
    "\n",
    "Le jeu de données doit être collecté ou scrappé dans les pages comme Facebook. Il doit comporter les colonnes suivantes :\n",
    "\n",
    "- `quartier` (catégorielle)\n",
    "- `superficie` (numérique)\n",
    "- `nombre_chambres` (numérique)\n",
    "- `douche_wc`(interieur ou exterieur)\n",
    "- `type_d_acces` (sans, moto, voiture, voiture_avec_par_parking)\n",
    "- `meublé` (booléen:  oui ou non)\n",
    "- `état_général` (catégorielle : bon, moyen, mauvais)\n",
    "- `loyer_mensuel` (target)\n",
    "\n",
    "## 🧪 Étapes du TP\n",
    "\n",
    "### 📌 Partie 1 : Préparation des données\n",
    "- Lecture du dataset brut\n",
    "- Gestion des valeurs manquantes\n",
    "- Encodage des variables catégorielles\n",
    "- Création de variables dérivées\n",
    "- Détection et suppression des variables fortement corrélées\n",
    "- Standardisation et normalisation\n",
    "\n",
    "### 📌 Partie 2 : Modélisation\n",
    "\n",
    "- Séparation train/test\n",
    "- Implémentation de la régression linéaire multiple\n",
    "- Évaluation : R², RMSE\n",
    "- Vérification des hypothèses d'élligibilité de la régression linéaire multiple (surtout sur les erreurs)\n",
    "\n",
    "### 📌 Partie 3 : Optimisation du modèle\n",
    "\n",
    "- Sélection de variables : backward elimination, RFE (à documenter)\n",
    "\n",
    "### 📌 Partie 4 : Déploiement d’une application Streamlit\n",
    "\n",
    "- Interface de saisie utilisateur\n",
    "- Affichage du loyer prédit\n",
    "- Visualisation des poids des variables\n",
    "- Affichage sur la carte interactive\n",
    "\n",
    "## 🧭 Carte interactive (option avancée)\n",
    "\n",
    "Utiliser `streamlit-folium` pour permettre à l’utilisateur de cliquer sur une carte et de récupérer les coordonnées GPS. À partir de ces coordonnées, déterminer automatiquement le quartier en utilisant un fichier GeoJSON ou un système de polygones avec `geopandas`.\n",
    "\n",
    "## 🔧 Technologies à utiliser\n",
    "\n",
    "- `pandas`, `numpy`, `scikit-learn`, `matplotlib`, `seaborn`, `joblib`\n",
    "- `streamlit`, `folium`, `streamlit-folium`\n",
    "- Optionnel : `geopandas`, `shapely`\n",
    "\n",
    "## 💡 Bonus\n",
    "\n",
    "- Carte interactive avec folium\n",
    "- Simuler des données additionnelles (pollution, sécurité)\n",
    "- Tri automatique des caractéristiques influentes\n",
    "\n",
    "\n"
   ]
  },
  {
   "metadata": {},
   "cell_type": "markdown",
   "source": "## 📌 Partie 1 : Préparation des données",
   "id": "90429ecd50b7fa32"
  },
  {
   "metadata": {},
   "cell_type": "code",
   "source": [
    "import math\n",
    "\n",
    "# Lecture du dataset brut\n",
    "import pandas as pd\n",
    "import numpy as np\n",
    "from sklearn.preprocessing import StandardScaler\n",
    "\n",
    "maison = pd.read_csv(\"Location de maison Antananarivo  - Données finales - 1.csv\")\n",
    "\n",
    "maison_2 = pd.read_csv(\"Location de maison Antananarivo  - Données finales - 1.csv\")\n"
   ],
   "id": "12f46e44-95aa-4abf-a3ea-3ded816f0ee6",
   "outputs": [],
   "execution_count": null
  },
  {
   "metadata": {},
   "cell_type": "code",
   "source": "maison",
   "id": "dd09f3dae3821151",
   "outputs": [],
   "execution_count": null
  },
  {
   "metadata": {},
   "cell_type": "code",
   "source": "maison.dtypes",
   "id": "64134fc3ecfc404b",
   "outputs": [],
   "execution_count": null
  },
  {
   "metadata": {},
   "cell_type": "code",
   "source": [
    "# Transform superficie into float\n",
    "maison['superficie'] = maison['superficie'].apply(lambda x: x.replace(\",\", \".\") if type(x) == str else x).astype(float)"
   ],
   "id": "3980593347372bac",
   "outputs": [],
   "execution_count": null
  },
  {
   "metadata": {},
   "cell_type": "code",
   "source": "maison.dtypes",
   "id": "4672679e56ca1d33",
   "outputs": [],
   "execution_count": null
  },
  {
   "metadata": {},
   "cell_type": "code",
   "source": "maison['meublé'] = maison['meublé'].apply(lambda x: \"oui\" if x == \"True\" else (\"non\" if x == \"False\" else x))",
   "id": "b362faedd8391810",
   "outputs": [],
   "execution_count": null
  },
  {
   "metadata": {},
   "cell_type": "code",
   "source": "maison",
   "id": "44b13896a99232aa",
   "outputs": [],
   "execution_count": null
  },
  {
   "metadata": {},
   "cell_type": "code",
   "source": [
    "range_etat_general = [\n",
    "    (\"mauvais\", 0, 300000),\n",
    "    (\"moyen\", 300000, 800000),\n",
    "    (\"bon\", 800000, math.inf)\n",
    "]\n",
    "maison['état_général'] = maison['loyer_mensuel'].apply(lambda x: range_etat_general[0][0] if range_etat_general[0][1] <= x < range_etat_general[0][2] else (range_etat_general[1][0] if range_etat_general[1][1] <= x < range_etat_general[1][2] else range_etat_general[2][0]))"
   ],
   "id": "8835cb68af9e1763",
   "outputs": [],
   "execution_count": null
  },
  {
   "metadata": {},
   "cell_type": "code",
   "source": "maison",
   "id": "5d52f3b8c3100f19",
   "outputs": [],
   "execution_count": null
  },
  {
   "metadata": {},
   "cell_type": "code",
   "source": [
    "# Encoding One-hot douche_wc\n",
    "one_hot = pd.get_dummies(maison['douche_wc'])\n",
    "maison = one_hot.join(maison)\n",
    "maison = maison.drop('douche_wc',axis = 1)"
   ],
   "id": "2dc8afb503908bd8",
   "outputs": [],
   "execution_count": null
  },
  {
   "metadata": {},
   "cell_type": "code",
   "source": "maison",
   "id": "f2daf78a3ddc9d32",
   "outputs": [],
   "execution_count": null
  },
  {
   "metadata": {},
   "cell_type": "code",
   "source": "quantile = maison['superficie'].quantile([0.25,0.5,0.75])",
   "id": "1d9fd81b611d9177",
   "outputs": [],
   "execution_count": null
  },
  {
   "metadata": {},
   "cell_type": "code",
   "source": "quantile",
   "id": "eea2dcd1621b8556",
   "outputs": [],
   "execution_count": null
  },
  {
   "metadata": {},
   "cell_type": "code",
   "source": [
    "# Remplir les valeurs manquantes superficie\n",
    "maison['superficie'] = maison['superficie'].fillna(maison.apply(lambda x: quantile[0.25] if x['état_général'] == \"mauvais\" else (quantile[0.5] if x['état_général'] == \"moyen\" else quantile[0.75]), axis = 1))"
   ],
   "id": "aa9e48276f66c08",
   "outputs": [],
   "execution_count": null
  },
  {
   "metadata": {},
   "cell_type": "code",
   "source": [
    "# Remplir les valeurs manquantes loyer_mensuel\n",
    "maison['loyer_mensuel'] = maison['loyer_mensuel'].fillna(maison['loyer_mensuel'].mean())"
   ],
   "id": "8e667a593abf5323",
   "outputs": [],
   "execution_count": null
  },
  {
   "metadata": {},
   "cell_type": "code",
   "source": [
    "Q1 = quantile[0.25]\n",
    "Q3 = quantile[0.75]\n",
    "IQR_superficie = Q3 - Q1\n",
    "# Define the lower and upper thresholds\n",
    "lower_bound = Q1 - 1.5 * IQR_superficie\n",
    "upper_bound = Q3 + 1.5 * IQR_superficie\n",
    "\n",
    "maison = maison[(maison['superficie'] > lower_bound) & (maison['superficie'] < upper_bound)]"
   ],
   "id": "aba375f9bd833625",
   "outputs": [],
   "execution_count": null
  },
  {
   "metadata": {},
   "cell_type": "code",
   "source": "maison",
   "id": "8642ebf954dc0000",
   "outputs": [],
   "execution_count": null
  },
  {
   "metadata": {},
   "cell_type": "code",
   "source": "quantile_loyer_mensuel = maison['loyer_mensuel'].quantile([0.25,0.5,0.75])",
   "id": "6a06bb16edb5f45d",
   "outputs": [],
   "execution_count": null
  },
  {
   "metadata": {},
   "cell_type": "code",
   "source": "quantile_loyer_mensuel",
   "id": "e5bfa47c850f2210",
   "outputs": [],
   "execution_count": null
  },
  {
   "metadata": {},
   "cell_type": "code",
   "source": [
    "Q1_loyer = quantile_loyer_mensuel[0.25]\n",
    "Q3_loyer = quantile_loyer_mensuel[0.75]\n",
    "IQR_loyer = Q3_loyer - Q1_loyer\n",
    "# Define the lower and upper thresholds\n",
    "lower_bound = Q1_loyer - 1.5 * IQR_loyer\n",
    "upper_bound = Q3_loyer + 1.5 * IQR_loyer\n",
    "\n",
    "maison = maison[(maison['loyer_mensuel'] > lower_bound) & (maison['loyer_mensuel'] < upper_bound)]"
   ],
   "id": "88fa16064fe641ba",
   "outputs": [],
   "execution_count": null
  },
  {
   "metadata": {},
   "cell_type": "code",
   "source": "maison",
   "id": "50a80feb79e589c7",
   "outputs": [],
   "execution_count": null
  },
  {
   "metadata": {},
   "cell_type": "code",
   "source": [
    "# Encoding Ondinal état_général\n",
    "mapping = {\n",
    "    \"bon\": 3,\n",
    "    \"moyen\": 2,\n",
    "    \"mauvais\": 1\n",
    "}\n",
    "pd.set_option('future.no_silent_downcasting', True)\n",
    "maison['état_général'] = maison['état_général'].replace(mapping)"
   ],
   "id": "d34e60d6a7c00c9b",
   "outputs": [],
   "execution_count": null
  },
  {
   "metadata": {},
   "cell_type": "code",
   "source": "maison",
   "id": "5f1c78efa5629b6",
   "outputs": [],
   "execution_count": null
  },
  {
   "metadata": {},
   "cell_type": "code",
   "source": [
    "# Encoding One-hot type_d_acces\n",
    "one_hot = pd.get_dummies(maison['type_d_acces'])\n",
    "maison = one_hot.join(maison)\n",
    "maison = maison.drop('type_d_acces',axis = 1)"
   ],
   "id": "baaa605875889ced",
   "outputs": [],
   "execution_count": null
  },
  {
   "metadata": {},
   "cell_type": "code",
   "source": "maison",
   "id": "f6798ed6ab076e80",
   "outputs": [],
   "execution_count": null
  },
  {
   "metadata": {},
   "cell_type": "code",
   "source": [
    "# Encoding One-hot type_d_acces\n",
    "maison['meublé'] = maison['meublé'].fillna(\"non\")\n",
    "mapping = {\n",
    "    \"oui\": 2,\n",
    "    \"non\": 1\n",
    "}\n",
    "maison['meublé'] = maison['meublé'].replace(mapping)"
   ],
   "id": "4312ef5ffd2ce919",
   "outputs": [],
   "execution_count": null
  },
  {
   "metadata": {},
   "cell_type": "code",
   "source": "maison",
   "id": "a135acdef4ccdcd3",
   "outputs": [],
   "execution_count": null
  },
  {
   "metadata": {},
   "cell_type": "code",
   "source": "maison_without_quartier = maison.loc[:, maison.columns != 'quartier']",
   "id": "d6a46a3d500cdd88",
   "outputs": [],
   "execution_count": null
  },
  {
   "metadata": {},
   "cell_type": "code",
   "source": "maison_without_quartier",
   "id": "560e36907a89f22c",
   "outputs": [],
   "execution_count": null
  },
  {
   "metadata": {},
   "cell_type": "code",
   "source": "correlation = maison_without_quartier.corr()",
   "id": "ad15677bb2781574",
   "outputs": [],
   "execution_count": null
  },
  {
   "metadata": {},
   "cell_type": "code",
   "source": "correlation = correlation['loyer_mensuel'].abs().sort_values()",
   "id": "8b3bf767a5c1f85d",
   "outputs": [],
   "execution_count": null
  },
  {
   "metadata": {},
   "cell_type": "code",
   "source": "correlation",
   "id": "9ef8da84776b9ddc",
   "outputs": [],
   "execution_count": null
  },
  {
   "metadata": {},
   "cell_type": "code",
   "source": [
    "def superficie_into_float(df):\n",
    "    df['superficie'] = df['superficie'].apply(lambda x: x.replace(\",\", \".\") if type(x) == str else x).astype(float)\n",
    "    return df\n",
    "\n",
    "def meuble_into_oui_non(df):\n",
    "    df['meublé'] = df['meublé'].apply(lambda x: \"oui\" if x == \"True\" else (\"non\" if x == \"False\" else x))\n",
    "    return df\n",
    "\n",
    "def loyer_mensuel_fillna(df):\n",
    "    df['loyer_mensuel'] = df['loyer_mensuel'].fillna(df['loyer_mensuel'].mean())\n",
    "    return df\n",
    "\n",
    "def etat_general_into_bon_mauvais_moyen(df):\n",
    "    etat_general = [\n",
    "        (\"mauvais\", 0, 300000),\n",
    "        (\"moyen\", 300000, 800000),\n",
    "        (\"bon\", 800000, math.inf)\n",
    "    ]\n",
    "    df['état_général'] = df['loyer_mensuel'].apply(lambda x: etat_general[0][0] if etat_general[0][1] <= x < etat_general[0][2] else (etat_general[1][0] if etat_general[1][1] <= x < etat_general[1][2] else etat_general[2][0]))\n",
    "    return df\n",
    "\n",
    "def douche_wc_separate(df):\n",
    "    one_hot_douche_wc = pd.get_dummies(df['douche_wc'])\n",
    "    df = one_hot_douche_wc.join(df)\n",
    "    return df.drop('douche_wc',axis = 1)\n",
    "\n",
    "def superficie_fillna(df):\n",
    "    quantile_superficie = df['superficie'].quantile([0.25,0.5,0.75])\n",
    "    df['superficie'] = df['superficie'].fillna(df.apply(lambda x: quantile_superficie[0.25] if x['état_général'] == \"mauvais\" else (quantile_superficie[0.5] if x['état_général'] == \"moyen\" else quantile_superficie[0.75]), axis = 1))\n",
    "    return df\n",
    "\n",
    "def aberrante_value_superficie(df):\n",
    "    quantile_superficie = df['superficie'].quantile([0.25,0.5,0.75])\n",
    "    Q1_superficie = quantile_superficie[0.25]\n",
    "    Q3_superficie = quantile_superficie[0.75]\n",
    "    IQR_super = Q3_superficie - Q1_superficie\n",
    "    # Define the lower and upper thresholds\n",
    "    lower_bound_superficie = Q1 - 1.5 * IQR_super\n",
    "    upper_bound_superficie = Q3 + 1.5 * IQR_super\n",
    "    return df[(df['superficie'] > lower_bound_superficie) & (df['superficie'] < upper_bound_superficie)]\n",
    "\n",
    "def aberrante_value_loyer_mensuel(df):\n",
    "    quantile_loyer = df['loyer_mensuel'].quantile([0.25,0.5,0.75])\n",
    "    Q1_loyer_mensuel = quantile_loyer[0.25]\n",
    "    Q3_loyer_mensuel = quantile_loyer[0.75]\n",
    "    IQR_loyer_mensuel = Q3_loyer_mensuel - Q1_loyer_mensuel\n",
    "    # Define the lower and upper thresholds\n",
    "    lower_bound_loyer_mensuel = Q1_loyer_mensuel - 1.5 * IQR_loyer_mensuel\n",
    "    upper_bound_loyer_mensuel = Q3_loyer_mensuel + 1.5 * IQR_loyer_mensuel\n",
    "    return df[(df['loyer_mensuel'] > lower_bound_loyer_mensuel) & (df['loyer_mensuel'] < upper_bound_loyer_mensuel)]\n",
    "\n",
    "def etat_general_into_numerical(df):\n",
    "    mapping_etat_general = {\n",
    "        \"bon\": 3,\n",
    "        \"moyen\": 2,\n",
    "        \"mauvais\": 1\n",
    "    }\n",
    "    pd.set_option('future.no_silent_downcasting', True)\n",
    "    df['état_général'] = df['état_général'].replace(mapping_etat_general)\n",
    "    return df\n",
    "\n",
    "\n",
    "def type_d_acces_separate(df):\n",
    "    one_hot_type_acces = pd.get_dummies(df['type_d_acces'])\n",
    "    df = one_hot_type_acces.join(df)\n",
    "    return df.drop('type_d_acces',axis = 1)\n",
    "\n",
    "def meuble_into_numerical(df):\n",
    "    df['meublé'] = df['meublé'].fillna(\"non\")\n",
    "    mapping_meuble = {\n",
    "        \"oui\": 2,\n",
    "        \"non\": 1\n",
    "    }\n",
    "    df['meublé'] = df['meublé'].replace(mapping_meuble)\n",
    "    return df\n",
    "\n",
    "def quartier_remove(df):\n",
    "    return df.loc[:, df.columns != 'quartier']\n",
    "\n",
    "def normalisation(df):\n",
    "    correlation_norm = df.corr()\n",
    "    correlation_norm = correlation_norm[target].abs().sort_values()\n",
    "    strong_corr_norm = correlation_norm[(correlation_norm > 0.3)]\n",
    "    corr_math_norm = df[strong_corr_norm.index].corr()\n",
    "    features_normalisation = corr_math_norm.index\n",
    "    print(features_normalisation)\n",
    "    return (df[features_normalisation].astype(float) - df[features_normalisation].min().astype(float)) / (df[features_normalisation].max().astype(float) - df[features_normalisation].min().astype(float))\n",
    "\n",
    "def normalisation_with_great_var(df):\n",
    "    last_variance_sorted = df.var().sort_values()\n",
    "    last_columns = last_variance_sorted[(last_variance_sorted > 0.05)].index\n",
    "    print(last_columns)\n",
    "    return df[last_columns]\n",
    "\n",
    "def get_features(df):\n",
    "    return df.iloc[:, df.columns != target]\n",
    "\n",
    "def pre_treatment(df):\n",
    "    df_pre_trait = superficie_into_float(df)\n",
    "    df_pre_trait = meuble_into_oui_non(df_pre_trait)\n",
    "    df_pre_trait = loyer_mensuel_fillna(df_pre_trait)\n",
    "    df_pre_trait = etat_general_into_bon_mauvais_moyen(df_pre_trait)\n",
    "    df_pre_trait = douche_wc_separate(df_pre_trait)\n",
    "    df_pre_trait = superficie_fillna(df_pre_trait)\n",
    "    df_pre_trait = aberrante_value_superficie(df_pre_trait)\n",
    "    df_pre_trait = aberrante_value_loyer_mensuel(df_pre_trait)\n",
    "    df_pre_trait = etat_general_into_numerical(df_pre_trait)\n",
    "    df_pre_trait = type_d_acces_separate(df_pre_trait)\n",
    "    df_pre_trait = meuble_into_numerical(df_pre_trait)\n",
    "    y_targ = df_pre_trait[target]\n",
    "    df_pre_trait = quartier_remove(df_pre_trait)\n",
    "    df_pre_trait = normalisation(df_pre_trait)\n",
    "    df_pre_trait = get_features(df_pre_trait)\n",
    "    return normalisation_with_great_var(df_pre_trait), y_targ"
   ],
   "id": "7b6089fc36087d6f",
   "outputs": [],
   "execution_count": null
  },
  {
   "metadata": {},
   "cell_type": "code",
   "source": [
    "import seaborn as sns\n",
    "strong_corr = correlation[(correlation > 0.3)]\n",
    "corrmat = maison_without_quartier[strong_corr.index].corr()\n",
    "sns.heatmap(corrmat)"
   ],
   "id": "41f2d48441ebe19b",
   "outputs": [],
   "execution_count": null
  },
  {
   "metadata": {},
   "cell_type": "code",
   "source": [
    "# Normalisation\n",
    "target = \"loyer_mensuel\"\n",
    "features = corrmat.drop([target]).index\n",
    "maison_normalisation = (maison_without_quartier[features].astype(float) - maison_without_quartier[features].min().astype(float)) / (maison_without_quartier[features].max().astype(float) - maison_without_quartier[features].min().astype(float))"
   ],
   "id": "32f2255889d797f0",
   "outputs": [],
   "execution_count": null
  },
  {
   "metadata": {},
   "cell_type": "code",
   "source": "maison_normalisation.var().sort_values()",
   "id": "8e0d204d0b26bd17",
   "outputs": [],
   "execution_count": null
  },
  {
   "metadata": {},
   "cell_type": "code",
   "source": "variance_sorted = maison_normalisation.var().sort_values()",
   "id": "68af7bf5c76b3d2a",
   "outputs": [],
   "execution_count": null
  },
  {
   "metadata": {},
   "cell_type": "code",
   "source": "variance_sorted",
   "id": "cb6ad2b2fd9ac4ef",
   "outputs": [],
   "execution_count": null
  },
  {
   "metadata": {},
   "cell_type": "code",
   "source": [
    "columns = variance_sorted[(variance_sorted > 0.05)].index\n",
    "maison_normalisation = maison_normalisation[columns]"
   ],
   "id": "21c2cc4083e76a34",
   "outputs": [],
   "execution_count": null
  },
  {
   "metadata": {},
   "cell_type": "code",
   "source": "columns",
   "id": "64d81e37868a5fa5",
   "outputs": [],
   "execution_count": null
  },
  {
   "metadata": {},
   "cell_type": "code",
   "source": "maison_normalisation",
   "id": "e523789562567cf1",
   "outputs": [],
   "execution_count": null
  },
  {
   "metadata": {},
   "cell_type": "code",
   "source": "sns.heatmap(maison_normalisation.corr())",
   "id": "1c364ff68c5513c8",
   "outputs": [],
   "execution_count": null
  },
  {
   "metadata": {},
   "cell_type": "code",
   "source": "columns",
   "id": "6fc2b8cc05df49ca",
   "outputs": [],
   "execution_count": null
  },
  {
   "metadata": {},
   "cell_type": "code",
   "source": [
    "scaler = StandardScaler()\n",
    "maison_features = maison_without_quartier.loc[:, maison_without_quartier.columns != target]\n",
    "maison_standardization = scaler.fit_transform(maison_features)"
   ],
   "id": "9615c3a7c5b74e4e",
   "outputs": [],
   "execution_count": null
  },
  {
   "metadata": {},
   "cell_type": "code",
   "source": "maison_standardization",
   "id": "4f732a95131222d2",
   "outputs": [],
   "execution_count": null
  },
  {
   "metadata": {},
   "cell_type": "code",
   "source": [
    "# Valeur expliquée\n",
    "from sklearn.linear_model import LinearRegression\n",
    "from sklearn.metrics import mean_squared_error\n",
    "from sklearn.model_selection import train_test_split\n",
    "\n",
    "y = maison[target]\n",
    "X_standard = maison_standardization"
   ],
   "id": "ccb5a5f48c0f194",
   "outputs": [],
   "execution_count": null
  },
  {
   "metadata": {},
   "cell_type": "code",
   "source": "y",
   "id": "33bf836d0ad00f36",
   "outputs": [],
   "execution_count": null
  },
  {
   "metadata": {},
   "cell_type": "code",
   "source": [
    "lr = LinearRegression()\n",
    "predict_standard = lr.fit(X_standard, y)\n",
    "y_pred = lr.predict(X_standard)"
   ],
   "id": "d6e847ac11dcbbd6",
   "outputs": [],
   "execution_count": null
  },
  {
   "metadata": {},
   "cell_type": "code",
   "source": "lr.predict(X_standard)",
   "id": "bac5b29e11cf703b",
   "outputs": [],
   "execution_count": null
  },
  {
   "metadata": {},
   "cell_type": "code",
   "source": "predict_standard.score(X_standard, y)",
   "id": "b51c076eaaee1d81",
   "outputs": [],
   "execution_count": null
  },
  {
   "metadata": {},
   "cell_type": "code",
   "source": "np.sqrt(mean_squared_error(y, y_pred))",
   "id": "9970e50712941ee7",
   "outputs": [],
   "execution_count": null
  },
  {
   "metadata": {},
   "cell_type": "markdown",
   "source": "## 📌 Partie 2 : Modélisation",
   "id": "7f6bc2420bed7db3"
  },
  {
   "metadata": {},
   "cell_type": "code",
   "source": [
    "class MyLinearRegression:\n",
    "    def __init__(self):\n",
    "        self.theta_n = None\n",
    "        self.theta_0 = None\n",
    "\n",
    "    def fit(self, x_var, y_real):\n",
    "        # Add bias term (column of 1s) to X\n",
    "        X_b = np.c_[np.ones((x_var.shape[0], 1)), x_var]  # Add x0 = 1 to each instance\n",
    "        # Normal Equation: theta = (X^T X)^(-1) X^T y\n",
    "\n",
    "        theta = np.linalg.inv(X_b.T.dot(X_b)).dot(X_b.T).dot(y_real)\n",
    "        self.theta_0 = theta[0]\n",
    "        self.theta_n = theta[1:]\n",
    "\n",
    "    def predict(self, x_var):\n",
    "        # Add bias term (column of 1s) to X\n",
    "        X_b = np.c_[np.ones((x_var.shape[0], 1)), x_var] # Add x0 = 1 to each instance\n",
    "        # np.r_ (Merge the first Vector [0] with the Vector [1])\n",
    "        return X_b.dot(np.r_[self.theta_0, self.theta_n])\n",
    "\n",
    "    def get_r2_score(self, x_var, y_real):\n",
    "        \"\"\"\n",
    "        Formule: 1 - [sum((y[i] - y_predicted[i]) ^ 2) - sum((y[i] - y_mean) ^ 2)]\n",
    "        \"\"\"\n",
    "        y_predicted = self.predict(x_var)\n",
    "        ss_reg = np.sum((y_real - y_predicted) ** 2)\n",
    "        ss_tot = np.sum((y_real - np.mean(y_real)) ** 2)\n",
    "        return 1 - (ss_reg / ss_tot)\n",
    "\n",
    "    def get_rmse(self, x_var, y_real):\n",
    "        \"\"\"\n",
    "        Formule: np.sqrt((1 / n) * sum((y[i] - y_predicted[i]) ^ 2))\n",
    "        \"\"\"\n",
    "        y_predicted = self.predict(x_var)\n",
    "        return np.sqrt(np.sum((y_real - y_predicted) ** 2) / y_real.shape[0])"
   ],
   "id": "6237311db316625e",
   "outputs": [],
   "execution_count": null
  },
  {
   "metadata": {},
   "cell_type": "code",
   "source": "X = maison_normalisation.iloc[:, maison_normalisation.columns != target]",
   "id": "7eddedb052461a32",
   "outputs": [],
   "execution_count": null
  },
  {
   "metadata": {},
   "cell_type": "code",
   "source": [
    "# Split train, test\n",
    "X_train, X_test, y_train, y_test = train_test_split(X, y, test_size=0.1, random_state=1)"
   ],
   "id": "bd0a4a6b788fa0cf",
   "outputs": [],
   "execution_count": null
  },
  {
   "metadata": {},
   "cell_type": "code",
   "source": [
    "lr_2 = MyLinearRegression()\n",
    "lr_2.fit(X_train, y_train)"
   ],
   "id": "e905b7db27ae80cd",
   "outputs": [],
   "execution_count": null
  },
  {
   "metadata": {},
   "cell_type": "code",
   "source": "lr_2.predict(X_test)",
   "id": "4649172ad2b73a6e",
   "outputs": [],
   "execution_count": null
  },
  {
   "metadata": {},
   "cell_type": "code",
   "source": "lr_2.get_rmse(X_test, y_test)",
   "id": "85abbc410e17e5ed",
   "outputs": [],
   "execution_count": null
  },
  {
   "metadata": {},
   "cell_type": "code",
   "source": "lr_2.get_r2_score(X_test, y_test)",
   "id": "45b6eaf7d3578146",
   "outputs": [],
   "execution_count": null
  },
  {
   "metadata": {},
   "cell_type": "code",
   "source": "X_2, y_2 = pre_treatment(maison_2)",
   "id": "f93f2faa8820bf01",
   "outputs": [],
   "execution_count": null
  },
  {
   "metadata": {},
   "cell_type": "code",
   "source": "X_2",
   "id": "1e0a44b2d3e2f53e",
   "outputs": [],
   "execution_count": null
  },
  {
   "metadata": {},
   "cell_type": "code",
   "source": "y_2",
   "id": "47f31919a2629662",
   "outputs": [],
   "execution_count": null
  },
  {
   "metadata": {},
   "cell_type": "code",
   "source": [
    "X_2_train, X_2_test, y_2_train, y_2_test = train_test_split(X_2, y_2, test_size=0.1, random_state=1)\n",
    "lr_3 = MyLinearRegression()\n",
    "lr_3.fit(X_2_train, y_2_train)"
   ],
   "id": "9f1c0ac71fed3b0e",
   "outputs": [],
   "execution_count": null
  },
  {
   "metadata": {},
   "cell_type": "code",
   "source": "lr_3.predict(X_2_test)",
   "id": "7e59585b6172b9d4",
   "outputs": [],
   "execution_count": null
  },
  {
   "metadata": {},
   "cell_type": "code",
   "source": "lr_3.get_rmse(X_2_test, y_2_test)",
   "id": "a27c49ec819310d",
   "outputs": [],
   "execution_count": null
  },
  {
   "metadata": {},
   "cell_type": "code",
   "source": "lr_3.get_r2_score(X_2_test, y_2_test)",
   "id": "b644ba96b217a04f",
   "outputs": [],
   "execution_count": null
  }
 ],
 "metadata": {
  "kernelspec": {
   "display_name": "Python 3 (ipykernel)",
   "language": "python",
   "name": "python3"
  },
  "language_info": {
   "codemirror_mode": {
    "name": "ipython",
    "version": 3
   },
   "file_extension": ".py",
   "mimetype": "text/x-python",
   "name": "python",
   "nbconvert_exporter": "python",
   "pygments_lexer": "ipython3",
   "version": "3.12.3"
  }
 },
 "nbformat": 4,
 "nbformat_minor": 5
}
