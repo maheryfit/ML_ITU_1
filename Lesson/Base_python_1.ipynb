{
 "cells": [
  {
   "cell_type": "markdown",
   "metadata": {
    "id": "pY8iWjayaC22"
   },
   "source": [
    "<h1> Python </h1>\n",
    "\n",
    "On va voir les bases du langage Python"
   ]
  },
  {
   "cell_type": "markdown",
   "metadata": {
    "id": "VoMq0eFRvugb"
   },
   "source": [
    "#  Variables"
   ]
  },
  {
   "cell_type": "code",
   "metadata": {
    "ExecuteTime": {
     "end_time": "2025-05-19T11:24:30.850654Z",
     "start_time": "2025-05-19T11:24:30.842106Z"
    }
   },
   "source": [
    "from mpmath.matrices.matrices import rowsep\n",
    "\n",
    "# Nombres\n",
    "x = 10        # int\n",
    "y = 3.14      # float\n",
    "z = 1 + 2j    # complex\n",
    "\n",
    "# Chaînes de caractères(non mutable)\n",
    "name = \"Alice\"\n",
    "greeting = 'Hello, world!'\n",
    "print(name,greeting)\n",
    "\n",
    "# Booléens\n",
    "is_student = True\n",
    "is_teacher = False\n",
    "\n",
    "# Listes (mutable)\n",
    "fruits = [\"apple\", \"banana\", \"cherry\"]\n",
    "numbers = [1, 2, 3, 4, 5]\n",
    "\n",
    "\n",
    "# Tuples (non mutable)\n",
    "#non mutable veut dire non modifiable donc l'affectation point[0] = 1 est interdit\n",
    "point = (2.5, 3.6)\n",
    "colors = (\"red\", \"green\", \"blue\")\n",
    "\n",
    "# Ensembles\n",
    "#particularité : sans doublon, les opérations ensemblistes y sont integrées\n",
    "unique_numbers = {1, 2, 3, 4, 5}\n",
    "unique_fruits = {\"apple\", \"banana\", \"cherry\"}\n",
    "unions = unique_numbers.union(unique_fruits)\n",
    "\n",
    "# Dictionnaires :  principe de clé => valeur\n",
    "student = {\"name\": \"Alice\", \"age\": 25, \"is_student\": True}\n",
    "translations = {1: \"one\", 2: \"two\", 3: \"three\"}\n",
    "print(student[\"name\"])\n",
    "\n",
    "#la fonction len pour avoir les longueurs des sequences, ensemble ou dictionnaire\n",
    "print(len(unions))\n"
   ],
   "outputs": [
    {
     "name": "stdout",
     "output_type": "stream",
     "text": [
      "Alice Hello, world!\n",
      "Alice\n",
      "8\n"
     ]
    }
   ],
   "execution_count": 16
  },
  {
   "cell_type": "markdown",
   "metadata": {
    "id": "wJqJM2Q13TwE"
   },
   "source": [
    "## Indexing et Slicing"
   ]
  },
  {
   "cell_type": "code",
   "metadata": {
    "colab": {
     "base_uri": "https://localhost:8080/"
    },
    "id": "W0xpIryJWCN9",
    "outputId": "3ec8df64-a373-49bd-8e55-f280409ba913",
    "ExecuteTime": {
     "end_time": "2025-05-19T11:24:30.902999Z",
     "start_time": "2025-05-19T11:24:30.897572Z"
    }
   },
   "source": [
    "# Indexing pour l'accès\n",
    "x = [3, \"hello\", 1.2,4]\n",
    "print (\"x[0]: \", x[0])\n",
    "print (\"x[1]: \", x[1])\n",
    "print (\"x[-1]: \", x[-1]) # le dernier\n",
    "print (\"x[-2]: \", x[-2]) # deuxième à partir de l'arrière\n",
    "#indexing pour la modification\n",
    "x[0] = 18\n",
    "print(x)"
   ],
   "outputs": [
    {
     "name": "stdout",
     "output_type": "stream",
     "text": [
      "x[0]:  3\n",
      "x[1]:  hello\n",
      "x[-1]:  4\n",
      "x[-2]:  1.2\n",
      "[18, 'hello', 1.2, 4]\n"
     ]
    }
   ],
   "execution_count": 17
  },
  {
   "cell_type": "code",
   "metadata": {
    "colab": {
     "base_uri": "https://localhost:8080/"
    },
    "id": "VSu_HNrnc1WK",
    "outputId": "d3c3525f-3ef6-40a5-abd7-a1d22c7d183d",
    "ExecuteTime": {
     "end_time": "2025-05-19T11:24:30.961715Z",
     "start_time": "2025-05-19T11:24:30.955144Z"
    }
   },
   "source": [
    "# Slicing\n",
    "#la forme generale est sequence[debut:fin:pas] : on prend tous les éléments de sequence sur les index debut jusqu'à fin -1 en sautant de pas\n",
    "#si debut non spécifié alors ça devient 0 par défaut\n",
    "#si fin non spécifié alors ça devient len(sequence) par défaut\n",
    "#slicing pour l'accès\n",
    "x = [3, \"hello\", 1.2,4]\n",
    "print (\"x[:]: \", x[:]) # tout\n",
    "print (\"x[1:]: \", x[1:]) # de 1 à la fin\n",
    "print (\"x[1:2]: \", x[1:2]) # seulement l'index 1\n",
    "print (\"x[:-1]: \", x[:-1]) # index 0 à la fin non inclu\n",
    "print(\"x[::2]\", x[::2]) #depuis le début pas de 2\n",
    "#slicing pour la modification/affectation\n",
    "x[0:2] = [8,9]\n",
    "print(x)"
   ],
   "outputs": [
    {
     "name": "stdout",
     "output_type": "stream",
     "text": [
      "x[:]:  [3, 'hello', 1.2, 4]\n",
      "x[1:]:  ['hello', 1.2, 4]\n",
      "x[1:2]:  ['hello']\n",
      "x[:-1]:  [3, 'hello', 1.2]\n",
      "x[::2] [3, 1.2]\n",
      "[8, 9, 1.2, 4]\n"
     ]
    }
   ],
   "execution_count": 18
  },
  {
   "cell_type": "markdown",
   "metadata": {
    "id": "B-DInx_Xo2vJ"
   },
   "source": [
    "# Les blocs if"
   ]
  },
  {
   "cell_type": "markdown",
   "metadata": {
    "id": "ZG_ICGRGo4tY"
   },
   "source": [
    "La seule particularité est qu'on utilise l'indetation pour montrer l'imbrication des lignes de codes"
   ]
  },
  {
   "cell_type": "code",
   "metadata": {
    "colab": {
     "base_uri": "https://localhost:8080/"
    },
    "id": "vwsQaZqIpfJ3",
    "outputId": "ee7a5e68-648d-4a41-8105-4c27c8eab172",
    "ExecuteTime": {
     "end_time": "2025-05-19T11:24:31.046548Z",
     "start_time": "2025-05-19T11:24:31.043104Z"
    }
   },
   "source": [
    "# If statement with a boolean\n",
    "x = True\n",
    "if x:\n",
    "    print (\"it worked\")"
   ],
   "outputs": [
    {
     "name": "stdout",
     "output_type": "stream",
     "text": [
      "it worked\n"
     ]
    }
   ],
   "execution_count": 19
  },
  {
   "cell_type": "markdown",
   "metadata": {
    "id": "sJ7NPGEKV6Ik"
   },
   "source": [
    "# Boucle"
   ]
  },
  {
   "cell_type": "markdown",
   "metadata": {
    "id": "cRgqRyfITuEC"
   },
   "source": [
    "### Boucle For"
   ]
  },
  {
   "cell_type": "raw",
   "metadata": {
    "id": "YRVxhVCkn0vc"
   },
   "source": [
    "La boucle for marche seulement sur les itérables"
   ]
  },
  {
   "cell_type": "code",
   "metadata": {
    "colab": {
     "base_uri": "https://localhost:8080/"
    },
    "id": "OB5PtyqAn8mj",
    "outputId": "28ba0561-9d78-401a-8c35-ee1329a47d43",
    "ExecuteTime": {
     "end_time": "2025-05-19T11:24:31.108912Z",
     "start_time": "2025-05-19T11:24:31.104344Z"
    }
   },
   "source": [
    "# For loop\n",
    "veggies = [\"carrots\", \"broccoli\", \"beans\"]\n",
    "for veggie in veggies:\n",
    "    print (veggie)"
   ],
   "outputs": [
    {
     "name": "stdout",
     "output_type": "stream",
     "text": [
      "carrots\n",
      "broccoli\n",
      "beans\n"
     ]
    }
   ],
   "execution_count": 20
  },
  {
   "cell_type": "markdown",
   "metadata": {},
   "source": [
    "En utilisant les index"
   ]
  },
  {
   "cell_type": "code",
   "metadata": {
    "ExecuteTime": {
     "end_time": "2025-05-19T11:24:31.170711Z",
     "start_time": "2025-05-19T11:24:31.167335Z"
    }
   },
   "source": [
    "for i in range(len(veggies)):\n",
    "    print(veggies[i])"
   ],
   "outputs": [
    {
     "name": "stdout",
     "output_type": "stream",
     "text": [
      "carrots\n",
      "broccoli\n",
      "beans\n"
     ]
    }
   ],
   "execution_count": 21
  },
  {
   "cell_type": "markdown",
   "metadata": {
    "id": "VAbnASi2TwZ9"
   },
   "source": [
    "### Boucle While"
   ]
  },
  {
   "cell_type": "code",
   "metadata": {
    "colab": {
     "base_uri": "https://localhost:8080/"
    },
    "id": "5Tf2x4okp3fH",
    "outputId": "b54b0092-190f-4e02-d5f4-2dc9fb6e7d2c",
    "ExecuteTime": {
     "end_time": "2025-05-19T11:24:31.229794Z",
     "start_time": "2025-05-19T11:24:31.225855Z"
    }
   },
   "source": [
    "# While loop\n",
    "x = 3\n",
    "while x > 0:\n",
    "    x -= 1 # same as x = x - 1\n",
    "    print (x)"
   ],
   "outputs": [
    {
     "name": "stdout",
     "output_type": "stream",
     "text": [
      "2\n",
      "1\n",
      "0\n"
     ]
    }
   ],
   "execution_count": 22
  },
  {
   "cell_type": "markdown",
   "metadata": {
    "id": "4Ku6BGnnoXxW"
   },
   "source": [
    "# List comprehension"
   ]
  },
  {
   "cell_type": "markdown",
   "metadata": {
    "id": "VebDucj8oZae"
   },
   "source": [
    "La \"List comprehension\" est une forme contracté pour la création des listes"
   ]
  },
  {
   "cell_type": "code",
   "metadata": {
    "colab": {
     "base_uri": "https://localhost:8080/"
    },
    "id": "5wZY1Pt_orEu",
    "outputId": "9ed6531d-321d-4c0b-f639-ecfe61b031e1",
    "ExecuteTime": {
     "end_time": "2025-05-19T11:24:31.299488Z",
     "start_time": "2025-05-19T11:24:31.295537Z"
    }
   },
   "source": [
    "# La forme longue\n",
    "x = [1, 2, 3, 4, 5]\n",
    "y = []\n",
    "for item in x:\n",
    "    if item > 2:\n",
    "        y.append(item)\n",
    "print (y)"
   ],
   "outputs": [
    {
     "name": "stdout",
     "output_type": "stream",
     "text": [
      "[3, 4, 5]\n"
     ]
    }
   ],
   "execution_count": 23
  },
  {
   "cell_type": "code",
   "metadata": {
    "colab": {
     "base_uri": "https://localhost:8080/"
    },
    "id": "TuRUDixEo1Z4",
    "outputId": "5d79bd11-87ff-42a7-9641-8bf1833a4775",
    "ExecuteTime": {
     "end_time": "2025-05-19T11:24:31.356940Z",
     "start_time": "2025-05-19T11:24:31.353383Z"
    }
   },
   "source": [
    "# La forme courte en utilisant la List comprehension\n",
    "y = [item for item in x if item > 2]\n",
    "print (y)"
   ],
   "outputs": [
    {
     "name": "stdout",
     "output_type": "stream",
     "text": [
      "[3, 4, 5]\n"
     ]
    }
   ],
   "execution_count": 24
  },
  {
   "cell_type": "code",
   "metadata": {
    "colab": {
     "base_uri": "https://localhost:8080/"
    },
    "id": "V_E59A9Io1cz",
    "outputId": "2b319220-e56d-4aec-b514-6b554b046abd",
    "ExecuteTime": {
     "end_time": "2025-05-19T11:24:31.415903Z",
     "start_time": "2025-05-19T11:24:31.411020Z"
    }
   },
   "source": [
    "# Boucle imbriqué la forme longue\n",
    "words = [[\"Am\", \"ate\", \"ATOM\", \"apple\"], [\"bE\", \"boy\", \"ball\", \"bloom\"]]\n",
    "small_words = []\n",
    "for letter_list in words:\n",
    "    for word in letter_list:\n",
    "        if len(word) < 3:\n",
    "            small_words.append(word.lower())\n",
    "print (small_words)"
   ],
   "outputs": [
    {
     "name": "stdout",
     "output_type": "stream",
     "text": [
      "['am', 'be']\n"
     ]
    }
   ],
   "execution_count": 25
  },
  {
   "cell_type": "markdown",
   "metadata": {
    "id": "SHcly_8zwyCW"
   },
   "source": [
    "La forme de cette boucle imbriquée en utilisant la \"List comprehension\""
   ]
  },
  {
   "cell_type": "code",
   "metadata": {
    "colab": {
     "base_uri": "https://localhost:8080/"
    },
    "id": "YyKnHhiso1fg",
    "outputId": "66bbdf90-69f6-4390-ff42-50b0ad7f822e",
    "ExecuteTime": {
     "end_time": "2025-05-19T11:24:31.472812Z",
     "start_time": "2025-05-19T11:24:31.468376Z"
    }
   },
   "source": [
    "# List comprehension\n",
    "small_words = [word.lower() for letter_list in words for word in letter_list if len(word) < 3]\n",
    "print (small_words)"
   ],
   "outputs": [
    {
     "name": "stdout",
     "output_type": "stream",
     "text": [
      "['am', 'be']\n"
     ]
    }
   ],
   "execution_count": 26
  },
  {
   "cell_type": "markdown",
   "metadata": {
    "id": "gJw-EDO9WBL_"
   },
   "source": [
    "# Fonction"
   ]
  },
  {
   "cell_type": "code",
   "metadata": {
    "id": "iin1ZXmMqA0y",
    "ExecuteTime": {
     "end_time": "2025-05-19T11:24:31.544719Z",
     "start_time": "2025-05-19T11:24:31.541147Z"
    }
   },
   "source": [
    "# définition d'une fonction\n",
    "def add_two(x):\n",
    "    \"\"\"Increase x by 2.\"\"\" # explication de ce que la fonction fait\n",
    "    x += 2\n",
    "    return x"
   ],
   "outputs": [],
   "execution_count": 27
  },
  {
   "cell_type": "code",
   "metadata": {
    "colab": {
     "base_uri": "https://localhost:8080/"
    },
    "id": "4ye1A5FobAUd",
    "outputId": "126a0919-d25b-4df5-e29d-dffc988e4dba",
    "ExecuteTime": {
     "end_time": "2025-05-19T11:24:31.599066Z",
     "start_time": "2025-05-19T11:24:31.594909Z"
    }
   },
   "source": [
    "# Utilisation de la fonction\n",
    "score = 0\n",
    "new_score = add_two(x=score)\n",
    "print (new_score)"
   ],
   "outputs": [
    {
     "name": "stdout",
     "output_type": "stream",
     "text": [
      "2\n"
     ]
    }
   ],
   "execution_count": 28
  },
  {
   "cell_type": "markdown",
   "metadata": {},
   "source": [
    "## Classes"
   ]
  },
  {
   "cell_type": "markdown",
   "metadata": {
    "id": "mGua8QnArAZh"
   },
   "source": [
    "Pour la programmation orientée objet en Python nous avons besoin de connaîtres les points suivants"
   ]
  },
  {
   "cell_type": "markdown",
   "metadata": {
    "id": "CypuBBQyRv8s"
   },
   "source": [
    "### `__init__` function"
   ]
  },
  {
   "cell_type": "markdown",
   "metadata": {
    "id": "Hrx2bKTXR4E3"
   },
   "source": [
    "La méthode `__init__` est le constructeur "
   ]
  },
  {
   "cell_type": "code",
   "metadata": {
    "id": "DXmPwI1frAAd",
    "ExecuteTime": {
     "end_time": "2025-05-19T11:24:31.656393Z",
     "start_time": "2025-05-19T11:24:31.652607Z"
    }
   },
   "source": [
    "# Creating the class\n",
    "class Pet(object):\n",
    "    \"\"\"Class object for a pet.\"\"\"\n",
    "    \n",
    "    def __init__(self, species, name):\n",
    "        \"\"\"Initialize a Pet.\"\"\"\n",
    "        self.species = species\n",
    "        self.name = name"
   ],
   "outputs": [],
   "execution_count": 29
  },
  {
   "cell_type": "code",
   "metadata": {
    "colab": {
     "base_uri": "https://localhost:8080/"
    },
    "id": "j5F4XmFQSfVr",
    "outputId": "6e7b3799-9f0c-4bb0-b6fb-09592602beae",
    "ExecuteTime": {
     "end_time": "2025-05-19T11:24:31.712893Z",
     "start_time": "2025-05-19T11:24:31.708404Z"
    }
   },
   "source": [
    "# Creating an instance of a class\n",
    "my_dog = Pet(species=\"dog\", \n",
    "             name=\"Scooby\")\n",
    "print (my_dog)\n",
    "print (my_dog.name)"
   ],
   "outputs": [
    {
     "name": "stdout",
     "output_type": "stream",
     "text": [
      "<__main__.Pet object at 0x79df980378e0>\n",
      "Scooby\n"
     ]
    }
   ],
   "execution_count": 30
  },
  {
   "cell_type": "markdown",
   "metadata": {
    "id": "6ZVfBXNISUBR"
   },
   "source": [
    "### `__str__` function"
   ]
  },
  {
   "cell_type": "markdown",
   "metadata": {
    "id": "8q6oiWHQSqOo"
   },
   "source": [
    "La méthode `__str__` est la fonction appelée lorsqu'on affiche l'objet"
   ]
  },
  {
   "cell_type": "code",
   "metadata": {
    "id": "N1_RDVo9Ruhf",
    "ExecuteTime": {
     "end_time": "2025-05-19T11:24:31.772921Z",
     "start_time": "2025-05-19T11:24:31.767447Z"
    }
   },
   "source": [
    "# Creating the class\n",
    "class Pet(object):\n",
    "    \"\"\"Class object for a pet.\"\"\"\n",
    "  \n",
    "    def __init__(self, species, name):\n",
    "        \"\"\"Initialize a Pet.\"\"\"\n",
    "        self.species = species\n",
    "        self.name = name\n",
    " \n",
    "    def __str__(self):\n",
    "        \"\"\"Output when printing an instance of a Pet.\"\"\"\n",
    "        return f\"{self.species} named {self.name}\""
   ],
   "outputs": [],
   "execution_count": 31
  },
  {
   "cell_type": "code",
   "metadata": {
    "colab": {
     "base_uri": "https://localhost:8080/"
    },
    "id": "vQeU2yScSkW7",
    "outputId": "3c59f98f-d8c8-4de6-d885-3ad46cd7920f",
    "ExecuteTime": {
     "end_time": "2025-05-19T11:24:31.830434Z",
     "start_time": "2025-05-19T11:24:31.826346Z"
    }
   },
   "source": [
    "# Creating an instance of a class\n",
    "my_dog = Pet(species=\"dog\", \n",
    "             name=\"Scooby\")\n",
    "print (my_dog)\n",
    "print (my_dog.name)"
   ],
   "outputs": [
    {
     "name": "stdout",
     "output_type": "stream",
     "text": [
      "dog named Scooby\n",
      "Scooby\n"
     ]
    }
   ],
   "execution_count": 32
  },
  {
   "cell_type": "markdown",
   "metadata": {
    "id": "LaTaBd8jSYuy"
   },
   "source": [
    "### Les autres methodes"
   ]
  },
  {
   "cell_type": "code",
   "metadata": {
    "id": "Vz95DOFjSY3s",
    "ExecuteTime": {
     "end_time": "2025-05-19T11:24:31.886221Z",
     "start_time": "2025-05-19T11:24:31.882313Z"
    }
   },
   "source": [
    "# Creating the class\n",
    "#on passe self en paramètres pour les méthodes\n",
    "class Pet(object):\n",
    "    \"\"\"Class object for a pet.\"\"\"\n",
    "  \n",
    "    def __init__(self, species, name):\n",
    "        \"\"\"Initialize a Pet.\"\"\"\n",
    "        self.species = species\n",
    "        self.name = name\n",
    " \n",
    "    def __str__(self):\n",
    "        \"\"\"Output when printing an instance of a Pet.\"\"\"\n",
    "        return f\"{self.species} named {self.name}\"\n",
    "        \n",
    "    def change_name(self, new_name):\n",
    "        \"\"\"Change the name of your Pet.\"\"\"\n",
    "        self.name = new_name"
   ],
   "outputs": [],
   "execution_count": 33
  },
  {
   "cell_type": "code",
   "metadata": {
    "colab": {
     "base_uri": "https://localhost:8080/"
    },
    "id": "ezQq_Fhhrqrv",
    "outputId": "26d3815b-902d-4f27-9eae-b01e58f4bb90",
    "ExecuteTime": {
     "end_time": "2025-05-19T11:24:31.948725Z",
     "start_time": "2025-05-19T11:24:31.944636Z"
    }
   },
   "source": [
    "# Creating an instance of a class\n",
    "my_dog = Pet(species=\"dog\", name=\"Scooby\")\n",
    "print (my_dog)\n",
    "print (my_dog.name)"
   ],
   "outputs": [
    {
     "name": "stdout",
     "output_type": "stream",
     "text": [
      "dog named Scooby\n",
      "Scooby\n"
     ]
    }
   ],
   "execution_count": 34
  },
  {
   "cell_type": "code",
   "metadata": {
    "colab": {
     "base_uri": "https://localhost:8080/"
    },
    "id": "qTinlRj1szc5",
    "outputId": "5b667950-7a03-461d-9df6-35757394cac3",
    "ExecuteTime": {
     "end_time": "2025-05-19T11:24:32.007147Z",
     "start_time": "2025-05-19T11:24:32.002846Z"
    }
   },
   "source": [
    "# Using a class's function\n",
    "my_dog.change_name(new_name=\"Scrappy\")\n",
    "print (my_dog)\n",
    "print (my_dog.name)"
   ],
   "outputs": [
    {
     "name": "stdout",
     "output_type": "stream",
     "text": [
      "dog named Scrappy\n",
      "Scrappy\n"
     ]
    }
   ],
   "execution_count": 35
  },
  {
   "cell_type": "markdown",
   "metadata": {
    "id": "wRcOLRK3TlEO"
   },
   "source": [
    "### Héritage"
   ]
  },
  {
   "cell_type": "code",
   "metadata": {
    "id": "TaDN2qwBTm7_",
    "ExecuteTime": {
     "end_time": "2025-05-19T11:24:32.064446Z",
     "start_time": "2025-05-19T11:24:32.060833Z"
    }
   },
   "source": [
    "#l'héritage se fait en utilisant la parenthèse\n",
    "class Dog(Pet):\n",
    "    def __init__(self, name, breed):\n",
    "        super().__init__(species=\"dog\", name=name)\n",
    "        self.breed = breed\n",
    "    \n",
    "    def __str__(self):\n",
    "        return f\"{self.breed} named {self.name}\""
   ],
   "outputs": [],
   "execution_count": 36
  },
  {
   "cell_type": "code",
   "metadata": {
    "colab": {
     "base_uri": "https://localhost:8080/"
    },
    "id": "tKxWHokkT-RI",
    "outputId": "ff03655c-4b26-478e-ab06-52e38fdedd3c",
    "ExecuteTime": {
     "end_time": "2025-05-19T11:24:32.127895Z",
     "start_time": "2025-05-19T11:24:32.123907Z"
    }
   },
   "source": [
    "scooby = Dog(breed=\"Great Dane\", name=\"Scooby\")\n",
    "print (scooby)"
   ],
   "outputs": [
    {
     "name": "stdout",
     "output_type": "stream",
     "text": [
      "Great Dane named Scooby\n"
     ]
    }
   ],
   "execution_count": 37
  },
  {
   "cell_type": "code",
   "metadata": {
    "colab": {
     "base_uri": "https://localhost:8080/"
    },
    "id": "YLF_tw5mVFO9",
    "outputId": "dd4f4fee-f082-4777-f98f-bdcc2839a2b6",
    "ExecuteTime": {
     "end_time": "2025-05-19T11:24:32.185489Z",
     "start_time": "2025-05-19T11:24:32.181482Z"
    }
   },
   "source": [
    "scooby.change_name(\"Scooby Doo\")\n",
    "print (scooby)"
   ],
   "outputs": [
    {
     "name": "stdout",
     "output_type": "stream",
     "text": [
      "Great Dane named Scooby Doo\n"
     ]
    }
   ],
   "execution_count": 38
  },
  {
   "cell_type": "markdown",
   "metadata": {
    "id": "B-XNM5_37842"
   },
   "source": [
    "### Methodes de classe et les méthodes statiques"
   ]
  },
  {
   "cell_type": "markdown",
   "metadata": {
    "id": "pvqSxZn57_2-"
   },
   "source": [
    "Pour spécifier ces méthodes on doit utiliser les décorateurs `@classmethod` and `@staticmethod`"
   ]
  },
  {
   "cell_type": "code",
   "metadata": {
    "id": "fdoi3R7z8QJw",
    "ExecuteTime": {
     "end_time": "2025-05-19T11:24:32.244557Z",
     "start_time": "2025-05-19T11:24:32.239258Z"
    }
   },
   "source": [
    "class Dog(Pet):\n",
    "    def __init__(self, name, breed):\n",
    "        super().__init__(species=\"dog\", name=name)\n",
    "        self.breed = breed\n",
    "    \n",
    "    def __str__(self):\n",
    "        return f\"{self.breed} named {self.name}\"\n",
    "\n",
    "    @classmethod\n",
    "    def from_dict(cls, d):\n",
    "        #cls est la classe elle-même\n",
    "        return cls(name=d[\"name\"], breed=d[\"breed\"])\n",
    "\n",
    "    @staticmethod\n",
    "    def is_cute(breed):\n",
    "        #n'accepte ni self ni cls\n",
    "        return True  # all animaals are cute!"
   ],
   "outputs": [],
   "execution_count": 39
  },
  {
   "cell_type": "markdown",
   "metadata": {
    "id": "6lXOkrAI-IuJ"
   },
   "source": [
    "A `@classmethod` nours permet de créer des intances de la classes à partir de `cls`.\n"
   ]
  },
  {
   "cell_type": "code",
   "metadata": {
    "colab": {
     "base_uri": "https://localhost:8080/"
    },
    "id": "kPgWwVBu8_ro",
    "outputId": "6bd1a6de-39ca-4b43-e0b3-9e272923b95d",
    "ExecuteTime": {
     "end_time": "2025-05-19T11:24:32.295432Z",
     "start_time": "2025-05-19T11:24:32.291718Z"
    }
   },
   "source": [
    "# Create instance\n",
    "d = {\"name\": \"Cassie\", \"breed\": \"Border Collie\"}\n",
    "cassie = Dog.from_dict(d=d)\n",
    "print(cassie)"
   ],
   "outputs": [
    {
     "name": "stdout",
     "output_type": "stream",
     "text": [
      "Border Collie named Cassie\n"
     ]
    }
   ],
   "execution_count": 40
  },
  {
   "cell_type": "markdown",
   "metadata": {
    "id": "LEhGQqU79-MO"
   },
   "source": [
    "Les méthodes `@staticmethod` sont des méthodes associées à des services. "
   ]
  },
  {
   "cell_type": "code",
   "metadata": {
    "colab": {
     "base_uri": "https://localhost:8080/"
    },
    "id": "9PdglAwa8_uG",
    "outputId": "69b75e60-cc18-479d-e540-2e8b4bcd96eb",
    "ExecuteTime": {
     "end_time": "2025-05-19T11:24:32.364270Z",
     "start_time": "2025-05-19T11:24:32.351502Z"
    }
   },
   "source": [
    "# Static method\n",
    "Dog.is_cute(breed=\"Border Collie\")"
   ],
   "outputs": [
    {
     "data": {
      "text/plain": [
       "True"
      ]
     },
     "execution_count": 41,
     "metadata": {},
     "output_type": "execute_result"
    }
   ],
   "execution_count": 41
  },
  {
   "cell_type": "markdown",
   "metadata": {},
   "source": [
    "# Exercices pour s'échauffer"
   ]
  },
  {
   "cell_type": "markdown",
   "metadata": {},
   "source": [
    "1) écrire une fonction qui prend un nombre et qui le convertit en binaire (fonction à faire à la main) (à comparer avec la fonction bin() )"
   ]
  },
  {
   "cell_type": "code",
   "metadata": {
    "ExecuteTime": {
     "end_time": "2025-05-19T11:24:32.421024Z",
     "start_time": "2025-05-19T11:24:32.416922Z"
    }
   },
   "source": [
    "help(bin)"
   ],
   "outputs": [
    {
     "name": "stdout",
     "output_type": "stream",
     "text": [
      "Help on built-in function bin in module builtins:\n",
      "\n",
      "bin(number, /)\n",
      "    Return the binary representation of an integer.\n",
      "    \n",
      "    >>> bin(2796202)\n",
      "    '0b1010101010101010101010'\n",
      "\n"
     ]
    }
   ],
   "execution_count": 42
  },
  {
   "cell_type": "code",
   "metadata": {
    "ExecuteTime": {
     "end_time": "2025-05-19T11:24:32.476183Z",
     "start_time": "2025-05-19T11:24:32.473312Z"
    }
   },
   "source": [
    "#le code à mettre ici"
   ],
   "outputs": [],
   "execution_count": 43
  },
  {
   "cell_type": "markdown",
   "metadata": {},
   "source": [
    "2) Écrire une fonction qui prend en paramètre une liste de mots et retourne un dictionnaire qui compte combien chaque mot de la liste apparait\n",
    "\n",
    "Exemple: \n",
    "\n",
    "Entrée : lst = [\"mot\",\"bonjour\",\"test\",\"mot\",\"test\"]\n",
    "\n",
    "Sortie: un dictionnaire d tel que:\n",
    "\n",
    "        d[\"mot\"]=2\n",
    "\n",
    "        d[\"bonjour\"]=1\n",
    "\n",
    "        d[\"test\"] =2"
   ]
  },
  {
   "cell_type": "code",
   "metadata": {
    "ExecuteTime": {
     "end_time": "2025-05-19T11:24:32.529539Z",
     "start_time": "2025-05-19T11:24:32.526657Z"
    }
   },
   "source": [
    "#le code à mettre ici"
   ],
   "outputs": [],
   "execution_count": 44
  },
  {
   "cell_type": "markdown",
   "metadata": {},
   "source": [
    "3) Soit `lst` une liste de mots. Par exemple prenons `lst = [\"rouge\",\"vert\",\"rouge\",\"vert\",\"jaune\"]`. On veut faire une fonction qui prend de telle liste en paramètre et qui retourne deux nouvelles listes:\n",
    "- une liste appelée `unique` des mots sans doublon\n",
    "- une liste `position` de même taille que `lst` mais `position[i]=j` avec `j` soit la position du mots `lst[i]` dans `unique`\n",
    "\n",
    "Écrire cette fonction"
   ]
  },
  {
   "cell_type": "code",
   "metadata": {
    "ExecuteTime": {
     "end_time": "2025-05-19T11:24:32.581601Z",
     "start_time": "2025-05-19T11:24:32.578762Z"
    }
   },
   "source": [
    "#ici la réponse"
   ],
   "outputs": [],
   "execution_count": 45
  },
  {
   "cell_type": "markdown",
   "metadata": {},
   "source": [
    "4) Soit `s` un chaine de caractère stockant un mot de passe, écrire une fonction booléene qui dit que `s` est un mot de passe sécurisé ou pas en sachant qu'un mot de passe sécurisé vérifie les critères suivants:\n",
    "- sa longueur est supérieure à 8 caractères\n",
    "- il y a au moins un caractère spécial\n",
    "- il y a au moins un chiffre\n",
    "- il y a au moins un majuscule\n",
    "\n",
    "(utilisé les fonctions char() et ord() )"
   ]
  },
  {
   "cell_type": "code",
   "metadata": {
    "ExecuteTime": {
     "end_time": "2025-05-19T11:24:32.633142Z",
     "start_time": "2025-05-19T11:24:32.630741Z"
    }
   },
   "source": [
    "#ici la réponse"
   ],
   "outputs": [],
   "execution_count": 46
  },
  {
   "cell_type": "markdown",
   "metadata": {},
   "source": [
    "5) Un palindrome est un mot ou une phrase dont l’ordre des lettres reste le même si on le lit de gauche à droite ou de droite à gauche. Par exemple, « ressasser » et « engage le jeu que je le gagne » sont des palindromes. Créez la fonction test_palindrome() qui prend en argument une chaîne de caractères et qui affiche xxx est un palindrome si la chaîne de caractères xxx passée en argument est un palindrome ou xxx n'est pas un palindrome sinon. Pensez à vous débarrasser au préalable des majuscules et des espaces.Testez ensuite si les expressions suivantes sont des palindromes : radar,never odd or even,karine alla en Iran,un roc si biscornu"
   ]
  },
  {
   "cell_type": "code",
   "metadata": {
    "ExecuteTime": {
     "end_time": "2025-05-19T11:24:32.686724Z",
     "start_time": "2025-05-19T11:24:32.684126Z"
    }
   },
   "source": [
    "#ici la réponse"
   ],
   "outputs": [],
   "execution_count": 47
  },
  {
   "cell_type": "markdown",
   "metadata": {},
   "source": [
    "# Exercice pratique: Web scrapping avec BeautifulSoup"
   ]
  },
  {
   "cell_type": "markdown",
   "metadata": {},
   "source": [
    "Voici un exemple de script simple utilisant BeautifulSoup pour extraire des données d'une page Wikipedia :"
   ]
  },
  {
   "cell_type": "code",
   "metadata": {
    "ExecuteTime": {
     "end_time": "2025-05-19T11:24:37.715891Z",
     "start_time": "2025-05-19T11:24:32.735216Z"
    }
   },
   "source": [
    "import requests\n",
    "from bs4 import BeautifulSoup\n",
    "\n",
    "#on fait une requete pour avoir le contenu de la page\n",
    "url = \"https://fr.wikipedia.org/wiki/Liste_des_pays_par_population\"\n",
    "response = requests.get(url)\n",
    "#on utilise un parser HTML pour lire le contenu facilement\n",
    "soup = BeautifulSoup(response.content, 'html.parser')\n",
    "\n",
    "# Extraire le tableau des pays par population\n",
    "title = soup.find('title')\n",
    "print(title)"
   ],
   "outputs": [
    {
     "name": "stdout",
     "output_type": "stream",
     "text": [
      "<title>Liste des pays par population — Wikipédia</title>\n"
     ]
    }
   ],
   "execution_count": 48
  },
  {
   "cell_type": "markdown",
   "metadata": {},
   "source": [
    "Cette exercice consiste à créer un fichier csv qui contient les informations suivantes en faisant des web scrapping dans les pages wikipédia:\n",
    "\n",
    "**Nom du pays;nombre_de_la_population;superficie;langueOfficielle;nom_de_la_capitale;habitant_dans_la_capitale;latitude_capitale;longitude_capitale**\n",
    "\n",
    "Vous pouvez par exemple utiliser les pages suivantes pour le Japon\n",
    "\n",
    "* https://fr.wikipedia.org/wiki/Liste_des_pays_par_population\n",
    "* https://fr.wikipedia.org/wiki/Japon\n",
    "* https://fr.wikipedia.org/wiki/Tokyo\n",
    "\n",
    "S'il y des informations manquantes,mettez juste des vides"
   ]
  },
  {
   "metadata": {},
   "cell_type": "markdown",
   "source": "# Solution scrapper la liste des pays par population"
  },
  {
   "metadata": {
    "ExecuteTime": {
     "end_time": "2025-05-19T12:54:05.640485Z",
     "start_time": "2025-05-19T12:54:04.551812Z"
    }
   },
   "cell_type": "code",
   "source": [
    "import requests\n",
    "from bs4 import BeautifulSoup\n",
    "\n",
    "URL_WIKIPEDIA = \"https://fr.wikipedia.org\"\n",
    "URL = f\"{URL_WIKIPEDIA}/wiki/Liste_des_pays_par_population\"\n",
    "TABLE_CLASS = [\"sticky-header-multi\" ,\"wikitable\" ,\"sortable\" ,\"alternance\" ,\"jquery-tablesorter\"]\n",
    "response = requests.get(URL)\n",
    "\n",
    "soup = BeautifulSoup(response.content, 'html.parser')\n",
    "\n",
    "table = soup.find('table', class_=TABLE_CLASS)\n",
    "tbody = table.find('tbody')\n",
    "\n"
   ],
   "outputs": [],
   "execution_count": 16
  },
  {
   "metadata": {
    "ExecuteTime": {
     "end_time": "2025-05-19T13:03:04.616437Z",
     "start_time": "2025-05-19T13:03:04.611509Z"
    }
   },
   "cell_type": "code",
   "source": [
    "from bs4 import NavigableString\n",
    "\n",
    "\n",
    "def get_all_row(body_table: BeautifulSoup | NavigableString):\n",
    "    all_rows = body_table.find_all('tr')\n",
    "    return [row for row in all_rows if row.find('th') is None]\n",
    "\n",
    "def get_col_value(row: BeautifulSoup | NavigableString) ->  BeautifulSoup | NavigableString | None:\n",
    "    print(row.find_all('td'))\n",
    "    rank = row.find_all('td')[0]\n",
    "    try:\n",
    "        int(rank)\n",
    "        return rank\n",
    "    except ValueError:\n",
    "        return None\n",
    "\n",
    "def print_all(body_table: BeautifulSoup | NavigableString):\n",
    "    rows = get_all_row(body_table)\n",
    "    print()\n",
    "    for row in rows:\n",
    "        #print(row.prettify())\n",
    "        print(get_col_value(row).prettify())"
   ],
   "outputs": [],
   "execution_count": 27
  },
  {
   "metadata": {
    "ExecuteTime": {
     "end_time": "2025-05-19T13:03:07.960220Z",
     "start_time": "2025-05-19T13:03:07.932441Z"
    }
   },
   "cell_type": "code",
   "source": "print_all(tbody)",
   "outputs": [
    {
     "name": "stdout",
     "output_type": "stream",
     "text": [
      "\n",
      "[<td><b>-</b>\n",
      "</td>, <td><span typeof=\"mw:File\"><a class=\"mw-file-description\" href=\"/wiki/Fichier:Circle-icons-globe.svg\" title=\"Monde\"><img alt=\"Monde\" class=\"mw-file-element\" data-file-height=\"512\" data-file-width=\"512\" decoding=\"async\" height=\"21\" src=\"//upload.wikimedia.org/wikipedia/commons/thumb/e/e0/Circle-icons-globe.svg/40px-Circle-icons-globe.svg.png\" srcset=\"//upload.wikimedia.org/wikipedia/commons/thumb/e/e0/Circle-icons-globe.svg/60px-Circle-icons-globe.svg.png 2x\" width=\"21\"/></a></span> <b><a href=\"/wiki/Terre\" title=\"Terre\">Monde</a></b>\n",
      "</td>, <td align=\"right\"><b>8 091 734 930</b>\n",
      "</td>, <td align=\"right\"><b>8 231 613 070</b>\n",
      "</td>]\n"
     ]
    },
    {
     "ename": "AttributeError",
     "evalue": "'NoneType' object has no attribute 'prettify'",
     "output_type": "error",
     "traceback": [
      "\u001B[0;31m---------------------------------------------------------------------------\u001B[0m",
      "\u001B[0;31mAttributeError\u001B[0m                            Traceback (most recent call last)",
      "\u001B[0;32m/tmp/ipykernel_15465/1442277816.py\u001B[0m in \u001B[0;36m<module>\u001B[0;34m\u001B[0m\n\u001B[0;32m----> 1\u001B[0;31m \u001B[0mprint_all\u001B[0m\u001B[0;34m(\u001B[0m\u001B[0mtbody\u001B[0m\u001B[0;34m)\u001B[0m\u001B[0;34m\u001B[0m\u001B[0;34m\u001B[0m\u001B[0m\n\u001B[0m",
      "\u001B[0;32m/tmp/ipykernel_15465/2817494014.py\u001B[0m in \u001B[0;36mprint_all\u001B[0;34m(body_table)\u001B[0m\n\u001B[1;32m     20\u001B[0m     \u001B[0;32mfor\u001B[0m \u001B[0mrow\u001B[0m \u001B[0;32min\u001B[0m \u001B[0mrows\u001B[0m\u001B[0;34m:\u001B[0m\u001B[0;34m\u001B[0m\u001B[0;34m\u001B[0m\u001B[0m\n\u001B[1;32m     21\u001B[0m         \u001B[0;31m#print(row.prettify())\u001B[0m\u001B[0;34m\u001B[0m\u001B[0;34m\u001B[0m\u001B[0m\n\u001B[0;32m---> 22\u001B[0;31m         \u001B[0mprint\u001B[0m\u001B[0;34m(\u001B[0m\u001B[0mget_col_value\u001B[0m\u001B[0;34m(\u001B[0m\u001B[0mrow\u001B[0m\u001B[0;34m)\u001B[0m\u001B[0;34m.\u001B[0m\u001B[0mprettify\u001B[0m\u001B[0;34m(\u001B[0m\u001B[0;34m)\u001B[0m\u001B[0;34m)\u001B[0m\u001B[0;34m\u001B[0m\u001B[0;34m\u001B[0m\u001B[0m\n\u001B[0m",
      "\u001B[0;31mAttributeError\u001B[0m: 'NoneType' object has no attribute 'prettify'"
     ]
    }
   ],
   "execution_count": 28
  }
 ],
 "metadata": {
  "colab": {
   "collapsed_sections": [],
   "name": "02_Python.ipynb",
   "provenance": [],
   "toc_visible": true
  },
  "kernelspec": {
   "display_name": "Python 3 (ipykernel)",
   "language": "python",
   "name": "python3"
  },
  "language_info": {
   "codemirror_mode": {
    "name": "ipython",
    "version": 3
   },
   "file_extension": ".py",
   "mimetype": "text/x-python",
   "name": "python",
   "nbconvert_exporter": "python",
   "pygments_lexer": "ipython3",
   "version": "3.12.3"
  }
 },
 "nbformat": 4,
 "nbformat_minor": 4
}
