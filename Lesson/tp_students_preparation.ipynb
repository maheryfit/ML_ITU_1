{
 "cells": [
  {
   "cell_type": "markdown",
   "id": "24d8c82a",
   "metadata": {},
   "source": [
    "# 🧪 TP – Analyse des performances d’étudiants\n",
    "\n",
    "🎯 **Objectif :** Préparer ce dataset pour un prochain cours qui prédira la note finale d’un étudiant."
   ]
  },
  {
   "cell_type": "markdown",
   "id": "3cd53ce4",
   "metadata": {},
   "source": [
    "### Jeu de données : StudentsPerformance.csv\n",
    "### Réponder aux questions dans la cellule suivant la question\n",
    "### Modules autorisés : pandas, mathplotlib, numpy, seaborn, scikit-learn"
   ]
  },
  {
   "cell_type": "markdown",
   "id": "c526404b",
   "metadata": {},
   "source": [
    "## 📋 Questions"
   ]
  },
  {
   "cell_type": "markdown",
   "id": "c44c110a-ca89-408a-8bd3-ffb15f7c96e5",
   "metadata": {},
   "source": [
    "### 🔹 0. charger le jeu de données et ajout de colonne average_score"
   ]
  },
  {
   "cell_type": "markdown",
   "id": "a7fa23b5-d6d4-4b61-af8d-3d0e77ac0196",
   "metadata": {},
   "source": [
    "a. Charger le jeu de données et puis ajouter une colonne 'average_score' (moyenne des trois notes \"math score\",\"reading score\",\"writing score\" dans le jeu de données"
   ]
  },
  {
   "cell_type": "code",
   "id": "80377eef-7f49-4f0d-aa77-63f01ec06d65",
   "metadata": {
    "ExecuteTime": {
     "end_time": "2025-05-21T19:18:16.968733Z",
     "start_time": "2025-05-21T19:18:16.926305Z"
    }
   },
   "source": [
    "import pandas as pd\n",
    "from pandas.core.interchange.dataframe_protocol import DataFrame\n",
    "\n",
    "df = pd.read_csv(\"StudentsPerformance.csv\")"
   ],
   "outputs": [],
   "execution_count": 15
  },
  {
   "metadata": {
    "ExecuteTime": {
     "end_time": "2025-05-21T19:18:17.356607Z",
     "start_time": "2025-05-21T19:18:17.282803Z"
    }
   },
   "cell_type": "code",
   "source": "df",
   "id": "3ac2f76a985acde4",
   "outputs": [
    {
     "data": {
      "text/plain": [
       "     gender race/ethnicity parental level of education         lunch  \\\n",
       "0    female        group B           bachelor's degree      standard   \n",
       "1    female        group C                some college      standard   \n",
       "2    female        group B             master's degree      standard   \n",
       "3      male        group A          associate's degree  free/reduced   \n",
       "4      male        group C                some college      standard   \n",
       "..      ...            ...                         ...           ...   \n",
       "995  female        group E             master's degree      standard   \n",
       "996    male        group C                 high school  free/reduced   \n",
       "997  female        group C                 high school  free/reduced   \n",
       "998  female        group D                some college      standard   \n",
       "999  female        group D                some college  free/reduced   \n",
       "\n",
       "    test preparation course  math score  reading score  writing score  \n",
       "0                      none          72             72             74  \n",
       "1                 completed          69             90             88  \n",
       "2                      none          90             95             93  \n",
       "3                      none          47             57             44  \n",
       "4                      none          76             78             75  \n",
       "..                      ...         ...            ...            ...  \n",
       "995               completed          88             99             95  \n",
       "996                    none          62             55             55  \n",
       "997               completed          59             71             65  \n",
       "998               completed          68             78             77  \n",
       "999                    none          77             86             86  \n",
       "\n",
       "[1000 rows x 8 columns]"
      ],
      "text/html": [
       "<div>\n",
       "<style scoped>\n",
       "    .dataframe tbody tr th:only-of-type {\n",
       "        vertical-align: middle;\n",
       "    }\n",
       "\n",
       "    .dataframe tbody tr th {\n",
       "        vertical-align: top;\n",
       "    }\n",
       "\n",
       "    .dataframe thead th {\n",
       "        text-align: right;\n",
       "    }\n",
       "</style>\n",
       "<table border=\"1\" class=\"dataframe\">\n",
       "  <thead>\n",
       "    <tr style=\"text-align: right;\">\n",
       "      <th></th>\n",
       "      <th>gender</th>\n",
       "      <th>race/ethnicity</th>\n",
       "      <th>parental level of education</th>\n",
       "      <th>lunch</th>\n",
       "      <th>test preparation course</th>\n",
       "      <th>math score</th>\n",
       "      <th>reading score</th>\n",
       "      <th>writing score</th>\n",
       "    </tr>\n",
       "  </thead>\n",
       "  <tbody>\n",
       "    <tr>\n",
       "      <th>0</th>\n",
       "      <td>female</td>\n",
       "      <td>group B</td>\n",
       "      <td>bachelor's degree</td>\n",
       "      <td>standard</td>\n",
       "      <td>none</td>\n",
       "      <td>72</td>\n",
       "      <td>72</td>\n",
       "      <td>74</td>\n",
       "    </tr>\n",
       "    <tr>\n",
       "      <th>1</th>\n",
       "      <td>female</td>\n",
       "      <td>group C</td>\n",
       "      <td>some college</td>\n",
       "      <td>standard</td>\n",
       "      <td>completed</td>\n",
       "      <td>69</td>\n",
       "      <td>90</td>\n",
       "      <td>88</td>\n",
       "    </tr>\n",
       "    <tr>\n",
       "      <th>2</th>\n",
       "      <td>female</td>\n",
       "      <td>group B</td>\n",
       "      <td>master's degree</td>\n",
       "      <td>standard</td>\n",
       "      <td>none</td>\n",
       "      <td>90</td>\n",
       "      <td>95</td>\n",
       "      <td>93</td>\n",
       "    </tr>\n",
       "    <tr>\n",
       "      <th>3</th>\n",
       "      <td>male</td>\n",
       "      <td>group A</td>\n",
       "      <td>associate's degree</td>\n",
       "      <td>free/reduced</td>\n",
       "      <td>none</td>\n",
       "      <td>47</td>\n",
       "      <td>57</td>\n",
       "      <td>44</td>\n",
       "    </tr>\n",
       "    <tr>\n",
       "      <th>4</th>\n",
       "      <td>male</td>\n",
       "      <td>group C</td>\n",
       "      <td>some college</td>\n",
       "      <td>standard</td>\n",
       "      <td>none</td>\n",
       "      <td>76</td>\n",
       "      <td>78</td>\n",
       "      <td>75</td>\n",
       "    </tr>\n",
       "    <tr>\n",
       "      <th>...</th>\n",
       "      <td>...</td>\n",
       "      <td>...</td>\n",
       "      <td>...</td>\n",
       "      <td>...</td>\n",
       "      <td>...</td>\n",
       "      <td>...</td>\n",
       "      <td>...</td>\n",
       "      <td>...</td>\n",
       "    </tr>\n",
       "    <tr>\n",
       "      <th>995</th>\n",
       "      <td>female</td>\n",
       "      <td>group E</td>\n",
       "      <td>master's degree</td>\n",
       "      <td>standard</td>\n",
       "      <td>completed</td>\n",
       "      <td>88</td>\n",
       "      <td>99</td>\n",
       "      <td>95</td>\n",
       "    </tr>\n",
       "    <tr>\n",
       "      <th>996</th>\n",
       "      <td>male</td>\n",
       "      <td>group C</td>\n",
       "      <td>high school</td>\n",
       "      <td>free/reduced</td>\n",
       "      <td>none</td>\n",
       "      <td>62</td>\n",
       "      <td>55</td>\n",
       "      <td>55</td>\n",
       "    </tr>\n",
       "    <tr>\n",
       "      <th>997</th>\n",
       "      <td>female</td>\n",
       "      <td>group C</td>\n",
       "      <td>high school</td>\n",
       "      <td>free/reduced</td>\n",
       "      <td>completed</td>\n",
       "      <td>59</td>\n",
       "      <td>71</td>\n",
       "      <td>65</td>\n",
       "    </tr>\n",
       "    <tr>\n",
       "      <th>998</th>\n",
       "      <td>female</td>\n",
       "      <td>group D</td>\n",
       "      <td>some college</td>\n",
       "      <td>standard</td>\n",
       "      <td>completed</td>\n",
       "      <td>68</td>\n",
       "      <td>78</td>\n",
       "      <td>77</td>\n",
       "    </tr>\n",
       "    <tr>\n",
       "      <th>999</th>\n",
       "      <td>female</td>\n",
       "      <td>group D</td>\n",
       "      <td>some college</td>\n",
       "      <td>free/reduced</td>\n",
       "      <td>none</td>\n",
       "      <td>77</td>\n",
       "      <td>86</td>\n",
       "      <td>86</td>\n",
       "    </tr>\n",
       "  </tbody>\n",
       "</table>\n",
       "<p>1000 rows × 8 columns</p>\n",
       "</div>"
      ]
     },
     "execution_count": 16,
     "metadata": {},
     "output_type": "execute_result"
    }
   ],
   "execution_count": 16
  },
  {
   "metadata": {
    "ExecuteTime": {
     "end_time": "2025-05-21T19:18:18.256036Z",
     "start_time": "2025-05-21T19:18:18.231017Z"
    }
   },
   "cell_type": "code",
   "source": [
    "import numpy as np\n",
    "df[\"average_score\"] = (df[\"math score\"] + df[\"reading score\"] + df[\"writing score\"]) / 3"
   ],
   "id": "177dd3f6051c165d",
   "outputs": [],
   "execution_count": 17
  },
  {
   "metadata": {
    "ExecuteTime": {
     "end_time": "2025-05-21T19:18:19.264309Z",
     "start_time": "2025-05-21T19:18:19.191428Z"
    }
   },
   "cell_type": "code",
   "source": "df",
   "id": "69693ea736cf94e0",
   "outputs": [
    {
     "data": {
      "text/plain": [
       "     gender race/ethnicity parental level of education         lunch  \\\n",
       "0    female        group B           bachelor's degree      standard   \n",
       "1    female        group C                some college      standard   \n",
       "2    female        group B             master's degree      standard   \n",
       "3      male        group A          associate's degree  free/reduced   \n",
       "4      male        group C                some college      standard   \n",
       "..      ...            ...                         ...           ...   \n",
       "995  female        group E             master's degree      standard   \n",
       "996    male        group C                 high school  free/reduced   \n",
       "997  female        group C                 high school  free/reduced   \n",
       "998  female        group D                some college      standard   \n",
       "999  female        group D                some college  free/reduced   \n",
       "\n",
       "    test preparation course  math score  reading score  writing score  \\\n",
       "0                      none          72             72             74   \n",
       "1                 completed          69             90             88   \n",
       "2                      none          90             95             93   \n",
       "3                      none          47             57             44   \n",
       "4                      none          76             78             75   \n",
       "..                      ...         ...            ...            ...   \n",
       "995               completed          88             99             95   \n",
       "996                    none          62             55             55   \n",
       "997               completed          59             71             65   \n",
       "998               completed          68             78             77   \n",
       "999                    none          77             86             86   \n",
       "\n",
       "     average_score  \n",
       "0        72.666667  \n",
       "1        82.333333  \n",
       "2        92.666667  \n",
       "3        49.333333  \n",
       "4        76.333333  \n",
       "..             ...  \n",
       "995      94.000000  \n",
       "996      57.333333  \n",
       "997      65.000000  \n",
       "998      74.333333  \n",
       "999      83.000000  \n",
       "\n",
       "[1000 rows x 9 columns]"
      ],
      "text/html": [
       "<div>\n",
       "<style scoped>\n",
       "    .dataframe tbody tr th:only-of-type {\n",
       "        vertical-align: middle;\n",
       "    }\n",
       "\n",
       "    .dataframe tbody tr th {\n",
       "        vertical-align: top;\n",
       "    }\n",
       "\n",
       "    .dataframe thead th {\n",
       "        text-align: right;\n",
       "    }\n",
       "</style>\n",
       "<table border=\"1\" class=\"dataframe\">\n",
       "  <thead>\n",
       "    <tr style=\"text-align: right;\">\n",
       "      <th></th>\n",
       "      <th>gender</th>\n",
       "      <th>race/ethnicity</th>\n",
       "      <th>parental level of education</th>\n",
       "      <th>lunch</th>\n",
       "      <th>test preparation course</th>\n",
       "      <th>math score</th>\n",
       "      <th>reading score</th>\n",
       "      <th>writing score</th>\n",
       "      <th>average_score</th>\n",
       "    </tr>\n",
       "  </thead>\n",
       "  <tbody>\n",
       "    <tr>\n",
       "      <th>0</th>\n",
       "      <td>female</td>\n",
       "      <td>group B</td>\n",
       "      <td>bachelor's degree</td>\n",
       "      <td>standard</td>\n",
       "      <td>none</td>\n",
       "      <td>72</td>\n",
       "      <td>72</td>\n",
       "      <td>74</td>\n",
       "      <td>72.666667</td>\n",
       "    </tr>\n",
       "    <tr>\n",
       "      <th>1</th>\n",
       "      <td>female</td>\n",
       "      <td>group C</td>\n",
       "      <td>some college</td>\n",
       "      <td>standard</td>\n",
       "      <td>completed</td>\n",
       "      <td>69</td>\n",
       "      <td>90</td>\n",
       "      <td>88</td>\n",
       "      <td>82.333333</td>\n",
       "    </tr>\n",
       "    <tr>\n",
       "      <th>2</th>\n",
       "      <td>female</td>\n",
       "      <td>group B</td>\n",
       "      <td>master's degree</td>\n",
       "      <td>standard</td>\n",
       "      <td>none</td>\n",
       "      <td>90</td>\n",
       "      <td>95</td>\n",
       "      <td>93</td>\n",
       "      <td>92.666667</td>\n",
       "    </tr>\n",
       "    <tr>\n",
       "      <th>3</th>\n",
       "      <td>male</td>\n",
       "      <td>group A</td>\n",
       "      <td>associate's degree</td>\n",
       "      <td>free/reduced</td>\n",
       "      <td>none</td>\n",
       "      <td>47</td>\n",
       "      <td>57</td>\n",
       "      <td>44</td>\n",
       "      <td>49.333333</td>\n",
       "    </tr>\n",
       "    <tr>\n",
       "      <th>4</th>\n",
       "      <td>male</td>\n",
       "      <td>group C</td>\n",
       "      <td>some college</td>\n",
       "      <td>standard</td>\n",
       "      <td>none</td>\n",
       "      <td>76</td>\n",
       "      <td>78</td>\n",
       "      <td>75</td>\n",
       "      <td>76.333333</td>\n",
       "    </tr>\n",
       "    <tr>\n",
       "      <th>...</th>\n",
       "      <td>...</td>\n",
       "      <td>...</td>\n",
       "      <td>...</td>\n",
       "      <td>...</td>\n",
       "      <td>...</td>\n",
       "      <td>...</td>\n",
       "      <td>...</td>\n",
       "      <td>...</td>\n",
       "      <td>...</td>\n",
       "    </tr>\n",
       "    <tr>\n",
       "      <th>995</th>\n",
       "      <td>female</td>\n",
       "      <td>group E</td>\n",
       "      <td>master's degree</td>\n",
       "      <td>standard</td>\n",
       "      <td>completed</td>\n",
       "      <td>88</td>\n",
       "      <td>99</td>\n",
       "      <td>95</td>\n",
       "      <td>94.000000</td>\n",
       "    </tr>\n",
       "    <tr>\n",
       "      <th>996</th>\n",
       "      <td>male</td>\n",
       "      <td>group C</td>\n",
       "      <td>high school</td>\n",
       "      <td>free/reduced</td>\n",
       "      <td>none</td>\n",
       "      <td>62</td>\n",
       "      <td>55</td>\n",
       "      <td>55</td>\n",
       "      <td>57.333333</td>\n",
       "    </tr>\n",
       "    <tr>\n",
       "      <th>997</th>\n",
       "      <td>female</td>\n",
       "      <td>group C</td>\n",
       "      <td>high school</td>\n",
       "      <td>free/reduced</td>\n",
       "      <td>completed</td>\n",
       "      <td>59</td>\n",
       "      <td>71</td>\n",
       "      <td>65</td>\n",
       "      <td>65.000000</td>\n",
       "    </tr>\n",
       "    <tr>\n",
       "      <th>998</th>\n",
       "      <td>female</td>\n",
       "      <td>group D</td>\n",
       "      <td>some college</td>\n",
       "      <td>standard</td>\n",
       "      <td>completed</td>\n",
       "      <td>68</td>\n",
       "      <td>78</td>\n",
       "      <td>77</td>\n",
       "      <td>74.333333</td>\n",
       "    </tr>\n",
       "    <tr>\n",
       "      <th>999</th>\n",
       "      <td>female</td>\n",
       "      <td>group D</td>\n",
       "      <td>some college</td>\n",
       "      <td>free/reduced</td>\n",
       "      <td>none</td>\n",
       "      <td>77</td>\n",
       "      <td>86</td>\n",
       "      <td>86</td>\n",
       "      <td>83.000000</td>\n",
       "    </tr>\n",
       "  </tbody>\n",
       "</table>\n",
       "<p>1000 rows × 9 columns</p>\n",
       "</div>"
      ]
     },
     "execution_count": 18,
     "metadata": {},
     "output_type": "execute_result"
    }
   ],
   "execution_count": 18
  },
  {
   "cell_type": "markdown",
   "id": "d701b67c",
   "metadata": {},
   "source": [
    "### 🔹 1. Exploration de base"
   ]
  },
  {
   "cell_type": "markdown",
   "id": "20bac6d5-1a5d-4b18-b032-cc29b5f11671",
   "metadata": {},
   "source": [
    "a. Charger le jeu de données et Afficher les 10 premières lignes du dataset"
   ]
  },
  {
   "cell_type": "code",
   "id": "a7dcf5df-469a-4e16-9665-dcf5764deb58",
   "metadata": {
    "ExecuteTime": {
     "end_time": "2025-05-21T19:18:20.573961Z",
     "start_time": "2025-05-21T19:18:20.475171Z"
    }
   },
   "source": "df[0:10]",
   "outputs": [
    {
     "data": {
      "text/plain": [
       "   gender race/ethnicity parental level of education         lunch  \\\n",
       "0  female        group B           bachelor's degree      standard   \n",
       "1  female        group C                some college      standard   \n",
       "2  female        group B             master's degree      standard   \n",
       "3    male        group A          associate's degree  free/reduced   \n",
       "4    male        group C                some college      standard   \n",
       "5  female        group B          associate's degree      standard   \n",
       "6  female        group B                some college      standard   \n",
       "7    male        group B                some college  free/reduced   \n",
       "8    male        group D                 high school  free/reduced   \n",
       "9  female        group B                 high school  free/reduced   \n",
       "\n",
       "  test preparation course  math score  reading score  writing score  \\\n",
       "0                    none          72             72             74   \n",
       "1               completed          69             90             88   \n",
       "2                    none          90             95             93   \n",
       "3                    none          47             57             44   \n",
       "4                    none          76             78             75   \n",
       "5                    none          71             83             78   \n",
       "6               completed          88             95             92   \n",
       "7                    none          40             43             39   \n",
       "8               completed          64             64             67   \n",
       "9                    none          38             60             50   \n",
       "\n",
       "   average_score  \n",
       "0      72.666667  \n",
       "1      82.333333  \n",
       "2      92.666667  \n",
       "3      49.333333  \n",
       "4      76.333333  \n",
       "5      77.333333  \n",
       "6      91.666667  \n",
       "7      40.666667  \n",
       "8      65.000000  \n",
       "9      49.333333  "
      ],
      "text/html": [
       "<div>\n",
       "<style scoped>\n",
       "    .dataframe tbody tr th:only-of-type {\n",
       "        vertical-align: middle;\n",
       "    }\n",
       "\n",
       "    .dataframe tbody tr th {\n",
       "        vertical-align: top;\n",
       "    }\n",
       "\n",
       "    .dataframe thead th {\n",
       "        text-align: right;\n",
       "    }\n",
       "</style>\n",
       "<table border=\"1\" class=\"dataframe\">\n",
       "  <thead>\n",
       "    <tr style=\"text-align: right;\">\n",
       "      <th></th>\n",
       "      <th>gender</th>\n",
       "      <th>race/ethnicity</th>\n",
       "      <th>parental level of education</th>\n",
       "      <th>lunch</th>\n",
       "      <th>test preparation course</th>\n",
       "      <th>math score</th>\n",
       "      <th>reading score</th>\n",
       "      <th>writing score</th>\n",
       "      <th>average_score</th>\n",
       "    </tr>\n",
       "  </thead>\n",
       "  <tbody>\n",
       "    <tr>\n",
       "      <th>0</th>\n",
       "      <td>female</td>\n",
       "      <td>group B</td>\n",
       "      <td>bachelor's degree</td>\n",
       "      <td>standard</td>\n",
       "      <td>none</td>\n",
       "      <td>72</td>\n",
       "      <td>72</td>\n",
       "      <td>74</td>\n",
       "      <td>72.666667</td>\n",
       "    </tr>\n",
       "    <tr>\n",
       "      <th>1</th>\n",
       "      <td>female</td>\n",
       "      <td>group C</td>\n",
       "      <td>some college</td>\n",
       "      <td>standard</td>\n",
       "      <td>completed</td>\n",
       "      <td>69</td>\n",
       "      <td>90</td>\n",
       "      <td>88</td>\n",
       "      <td>82.333333</td>\n",
       "    </tr>\n",
       "    <tr>\n",
       "      <th>2</th>\n",
       "      <td>female</td>\n",
       "      <td>group B</td>\n",
       "      <td>master's degree</td>\n",
       "      <td>standard</td>\n",
       "      <td>none</td>\n",
       "      <td>90</td>\n",
       "      <td>95</td>\n",
       "      <td>93</td>\n",
       "      <td>92.666667</td>\n",
       "    </tr>\n",
       "    <tr>\n",
       "      <th>3</th>\n",
       "      <td>male</td>\n",
       "      <td>group A</td>\n",
       "      <td>associate's degree</td>\n",
       "      <td>free/reduced</td>\n",
       "      <td>none</td>\n",
       "      <td>47</td>\n",
       "      <td>57</td>\n",
       "      <td>44</td>\n",
       "      <td>49.333333</td>\n",
       "    </tr>\n",
       "    <tr>\n",
       "      <th>4</th>\n",
       "      <td>male</td>\n",
       "      <td>group C</td>\n",
       "      <td>some college</td>\n",
       "      <td>standard</td>\n",
       "      <td>none</td>\n",
       "      <td>76</td>\n",
       "      <td>78</td>\n",
       "      <td>75</td>\n",
       "      <td>76.333333</td>\n",
       "    </tr>\n",
       "    <tr>\n",
       "      <th>5</th>\n",
       "      <td>female</td>\n",
       "      <td>group B</td>\n",
       "      <td>associate's degree</td>\n",
       "      <td>standard</td>\n",
       "      <td>none</td>\n",
       "      <td>71</td>\n",
       "      <td>83</td>\n",
       "      <td>78</td>\n",
       "      <td>77.333333</td>\n",
       "    </tr>\n",
       "    <tr>\n",
       "      <th>6</th>\n",
       "      <td>female</td>\n",
       "      <td>group B</td>\n",
       "      <td>some college</td>\n",
       "      <td>standard</td>\n",
       "      <td>completed</td>\n",
       "      <td>88</td>\n",
       "      <td>95</td>\n",
       "      <td>92</td>\n",
       "      <td>91.666667</td>\n",
       "    </tr>\n",
       "    <tr>\n",
       "      <th>7</th>\n",
       "      <td>male</td>\n",
       "      <td>group B</td>\n",
       "      <td>some college</td>\n",
       "      <td>free/reduced</td>\n",
       "      <td>none</td>\n",
       "      <td>40</td>\n",
       "      <td>43</td>\n",
       "      <td>39</td>\n",
       "      <td>40.666667</td>\n",
       "    </tr>\n",
       "    <tr>\n",
       "      <th>8</th>\n",
       "      <td>male</td>\n",
       "      <td>group D</td>\n",
       "      <td>high school</td>\n",
       "      <td>free/reduced</td>\n",
       "      <td>completed</td>\n",
       "      <td>64</td>\n",
       "      <td>64</td>\n",
       "      <td>67</td>\n",
       "      <td>65.000000</td>\n",
       "    </tr>\n",
       "    <tr>\n",
       "      <th>9</th>\n",
       "      <td>female</td>\n",
       "      <td>group B</td>\n",
       "      <td>high school</td>\n",
       "      <td>free/reduced</td>\n",
       "      <td>none</td>\n",
       "      <td>38</td>\n",
       "      <td>60</td>\n",
       "      <td>50</td>\n",
       "      <td>49.333333</td>\n",
       "    </tr>\n",
       "  </tbody>\n",
       "</table>\n",
       "</div>"
      ]
     },
     "execution_count": 19,
     "metadata": {},
     "output_type": "execute_result"
    }
   ],
   "execution_count": 19
  },
  {
   "cell_type": "markdown",
   "id": "8afa19ce-bc1c-43ac-a271-3855cfba9412",
   "metadata": {},
   "source": [
    "b. Combien d’étudiants ont participé à l’étude ?"
   ]
  },
  {
   "cell_type": "code",
   "id": "5b9f0248-322e-4fe6-a13f-1e679e5a7990",
   "metadata": {
    "ExecuteTime": {
     "end_time": "2025-05-21T19:18:22.210851Z",
     "start_time": "2025-05-21T19:18:22.193514Z"
    }
   },
   "source": "len(df)",
   "outputs": [
    {
     "data": {
      "text/plain": [
       "1000"
      ]
     },
     "execution_count": 20,
     "metadata": {},
     "output_type": "execute_result"
    }
   ],
   "execution_count": 20
  },
  {
   "cell_type": "markdown",
   "id": "c00dc797-a17e-41cd-8d84-0a6387b32842",
   "metadata": {},
   "source": [
    "c. Existe-t-il des doublons (étudiants) ?"
   ]
  },
  {
   "cell_type": "code",
   "id": "857c6629-db2b-4a2c-a094-167a71c4743d",
   "metadata": {
    "ExecuteTime": {
     "end_time": "2025-05-21T19:18:25.147268Z",
     "start_time": "2025-05-21T19:18:25.100021Z"
    }
   },
   "source": " df[\"duplicated\"] = df.duplicated()",
   "outputs": [],
   "execution_count": 21
  },
  {
   "metadata": {
    "ExecuteTime": {
     "end_time": "2025-05-21T19:18:26.554077Z",
     "start_time": "2025-05-21T19:18:26.470304Z"
    }
   },
   "cell_type": "code",
   "source": "df",
   "id": "fabf21467375a40c",
   "outputs": [
    {
     "data": {
      "text/plain": [
       "     gender race/ethnicity parental level of education         lunch  \\\n",
       "0    female        group B           bachelor's degree      standard   \n",
       "1    female        group C                some college      standard   \n",
       "2    female        group B             master's degree      standard   \n",
       "3      male        group A          associate's degree  free/reduced   \n",
       "4      male        group C                some college      standard   \n",
       "..      ...            ...                         ...           ...   \n",
       "995  female        group E             master's degree      standard   \n",
       "996    male        group C                 high school  free/reduced   \n",
       "997  female        group C                 high school  free/reduced   \n",
       "998  female        group D                some college      standard   \n",
       "999  female        group D                some college  free/reduced   \n",
       "\n",
       "    test preparation course  math score  reading score  writing score  \\\n",
       "0                      none          72             72             74   \n",
       "1                 completed          69             90             88   \n",
       "2                      none          90             95             93   \n",
       "3                      none          47             57             44   \n",
       "4                      none          76             78             75   \n",
       "..                      ...         ...            ...            ...   \n",
       "995               completed          88             99             95   \n",
       "996                    none          62             55             55   \n",
       "997               completed          59             71             65   \n",
       "998               completed          68             78             77   \n",
       "999                    none          77             86             86   \n",
       "\n",
       "     average_score  duplicated  \n",
       "0        72.666667       False  \n",
       "1        82.333333       False  \n",
       "2        92.666667       False  \n",
       "3        49.333333       False  \n",
       "4        76.333333       False  \n",
       "..             ...         ...  \n",
       "995      94.000000       False  \n",
       "996      57.333333       False  \n",
       "997      65.000000       False  \n",
       "998      74.333333       False  \n",
       "999      83.000000       False  \n",
       "\n",
       "[1000 rows x 10 columns]"
      ],
      "text/html": [
       "<div>\n",
       "<style scoped>\n",
       "    .dataframe tbody tr th:only-of-type {\n",
       "        vertical-align: middle;\n",
       "    }\n",
       "\n",
       "    .dataframe tbody tr th {\n",
       "        vertical-align: top;\n",
       "    }\n",
       "\n",
       "    .dataframe thead th {\n",
       "        text-align: right;\n",
       "    }\n",
       "</style>\n",
       "<table border=\"1\" class=\"dataframe\">\n",
       "  <thead>\n",
       "    <tr style=\"text-align: right;\">\n",
       "      <th></th>\n",
       "      <th>gender</th>\n",
       "      <th>race/ethnicity</th>\n",
       "      <th>parental level of education</th>\n",
       "      <th>lunch</th>\n",
       "      <th>test preparation course</th>\n",
       "      <th>math score</th>\n",
       "      <th>reading score</th>\n",
       "      <th>writing score</th>\n",
       "      <th>average_score</th>\n",
       "      <th>duplicated</th>\n",
       "    </tr>\n",
       "  </thead>\n",
       "  <tbody>\n",
       "    <tr>\n",
       "      <th>0</th>\n",
       "      <td>female</td>\n",
       "      <td>group B</td>\n",
       "      <td>bachelor's degree</td>\n",
       "      <td>standard</td>\n",
       "      <td>none</td>\n",
       "      <td>72</td>\n",
       "      <td>72</td>\n",
       "      <td>74</td>\n",
       "      <td>72.666667</td>\n",
       "      <td>False</td>\n",
       "    </tr>\n",
       "    <tr>\n",
       "      <th>1</th>\n",
       "      <td>female</td>\n",
       "      <td>group C</td>\n",
       "      <td>some college</td>\n",
       "      <td>standard</td>\n",
       "      <td>completed</td>\n",
       "      <td>69</td>\n",
       "      <td>90</td>\n",
       "      <td>88</td>\n",
       "      <td>82.333333</td>\n",
       "      <td>False</td>\n",
       "    </tr>\n",
       "    <tr>\n",
       "      <th>2</th>\n",
       "      <td>female</td>\n",
       "      <td>group B</td>\n",
       "      <td>master's degree</td>\n",
       "      <td>standard</td>\n",
       "      <td>none</td>\n",
       "      <td>90</td>\n",
       "      <td>95</td>\n",
       "      <td>93</td>\n",
       "      <td>92.666667</td>\n",
       "      <td>False</td>\n",
       "    </tr>\n",
       "    <tr>\n",
       "      <th>3</th>\n",
       "      <td>male</td>\n",
       "      <td>group A</td>\n",
       "      <td>associate's degree</td>\n",
       "      <td>free/reduced</td>\n",
       "      <td>none</td>\n",
       "      <td>47</td>\n",
       "      <td>57</td>\n",
       "      <td>44</td>\n",
       "      <td>49.333333</td>\n",
       "      <td>False</td>\n",
       "    </tr>\n",
       "    <tr>\n",
       "      <th>4</th>\n",
       "      <td>male</td>\n",
       "      <td>group C</td>\n",
       "      <td>some college</td>\n",
       "      <td>standard</td>\n",
       "      <td>none</td>\n",
       "      <td>76</td>\n",
       "      <td>78</td>\n",
       "      <td>75</td>\n",
       "      <td>76.333333</td>\n",
       "      <td>False</td>\n",
       "    </tr>\n",
       "    <tr>\n",
       "      <th>...</th>\n",
       "      <td>...</td>\n",
       "      <td>...</td>\n",
       "      <td>...</td>\n",
       "      <td>...</td>\n",
       "      <td>...</td>\n",
       "      <td>...</td>\n",
       "      <td>...</td>\n",
       "      <td>...</td>\n",
       "      <td>...</td>\n",
       "      <td>...</td>\n",
       "    </tr>\n",
       "    <tr>\n",
       "      <th>995</th>\n",
       "      <td>female</td>\n",
       "      <td>group E</td>\n",
       "      <td>master's degree</td>\n",
       "      <td>standard</td>\n",
       "      <td>completed</td>\n",
       "      <td>88</td>\n",
       "      <td>99</td>\n",
       "      <td>95</td>\n",
       "      <td>94.000000</td>\n",
       "      <td>False</td>\n",
       "    </tr>\n",
       "    <tr>\n",
       "      <th>996</th>\n",
       "      <td>male</td>\n",
       "      <td>group C</td>\n",
       "      <td>high school</td>\n",
       "      <td>free/reduced</td>\n",
       "      <td>none</td>\n",
       "      <td>62</td>\n",
       "      <td>55</td>\n",
       "      <td>55</td>\n",
       "      <td>57.333333</td>\n",
       "      <td>False</td>\n",
       "    </tr>\n",
       "    <tr>\n",
       "      <th>997</th>\n",
       "      <td>female</td>\n",
       "      <td>group C</td>\n",
       "      <td>high school</td>\n",
       "      <td>free/reduced</td>\n",
       "      <td>completed</td>\n",
       "      <td>59</td>\n",
       "      <td>71</td>\n",
       "      <td>65</td>\n",
       "      <td>65.000000</td>\n",
       "      <td>False</td>\n",
       "    </tr>\n",
       "    <tr>\n",
       "      <th>998</th>\n",
       "      <td>female</td>\n",
       "      <td>group D</td>\n",
       "      <td>some college</td>\n",
       "      <td>standard</td>\n",
       "      <td>completed</td>\n",
       "      <td>68</td>\n",
       "      <td>78</td>\n",
       "      <td>77</td>\n",
       "      <td>74.333333</td>\n",
       "      <td>False</td>\n",
       "    </tr>\n",
       "    <tr>\n",
       "      <th>999</th>\n",
       "      <td>female</td>\n",
       "      <td>group D</td>\n",
       "      <td>some college</td>\n",
       "      <td>free/reduced</td>\n",
       "      <td>none</td>\n",
       "      <td>77</td>\n",
       "      <td>86</td>\n",
       "      <td>86</td>\n",
       "      <td>83.000000</td>\n",
       "      <td>False</td>\n",
       "    </tr>\n",
       "  </tbody>\n",
       "</table>\n",
       "<p>1000 rows × 10 columns</p>\n",
       "</div>"
      ]
     },
     "execution_count": 22,
     "metadata": {},
     "output_type": "execute_result"
    }
   ],
   "execution_count": 22
  },
  {
   "cell_type": "markdown",
   "id": "61fcba82-d2fe-4503-8072-d7952f67e6d4",
   "metadata": {},
   "source": [
    "d. Donner les statistiques de base des scores (max, min, moyenne, mediane)"
   ]
  },
  {
   "cell_type": "code",
   "id": "65da43df-432f-40e5-94fd-61670a0533b0",
   "metadata": {
    "ExecuteTime": {
     "end_time": "2025-05-21T19:18:27.322716Z",
     "start_time": "2025-05-21T19:18:27.256952Z"
    }
   },
   "source": "df.groupby(\"duplicated\").count()",
   "outputs": [
    {
     "data": {
      "text/plain": [
       "            gender  race/ethnicity  parental level of education  lunch  \\\n",
       "duplicated                                                               \n",
       "False         1000            1000                         1000   1000   \n",
       "\n",
       "            test preparation course  math score  reading score  writing score  \\\n",
       "duplicated                                                                      \n",
       "False                          1000        1000           1000           1000   \n",
       "\n",
       "            average_score  \n",
       "duplicated                 \n",
       "False                1000  "
      ],
      "text/html": [
       "<div>\n",
       "<style scoped>\n",
       "    .dataframe tbody tr th:only-of-type {\n",
       "        vertical-align: middle;\n",
       "    }\n",
       "\n",
       "    .dataframe tbody tr th {\n",
       "        vertical-align: top;\n",
       "    }\n",
       "\n",
       "    .dataframe thead th {\n",
       "        text-align: right;\n",
       "    }\n",
       "</style>\n",
       "<table border=\"1\" class=\"dataframe\">\n",
       "  <thead>\n",
       "    <tr style=\"text-align: right;\">\n",
       "      <th></th>\n",
       "      <th>gender</th>\n",
       "      <th>race/ethnicity</th>\n",
       "      <th>parental level of education</th>\n",
       "      <th>lunch</th>\n",
       "      <th>test preparation course</th>\n",
       "      <th>math score</th>\n",
       "      <th>reading score</th>\n",
       "      <th>writing score</th>\n",
       "      <th>average_score</th>\n",
       "    </tr>\n",
       "    <tr>\n",
       "      <th>duplicated</th>\n",
       "      <th></th>\n",
       "      <th></th>\n",
       "      <th></th>\n",
       "      <th></th>\n",
       "      <th></th>\n",
       "      <th></th>\n",
       "      <th></th>\n",
       "      <th></th>\n",
       "      <th></th>\n",
       "    </tr>\n",
       "  </thead>\n",
       "  <tbody>\n",
       "    <tr>\n",
       "      <th>False</th>\n",
       "      <td>1000</td>\n",
       "      <td>1000</td>\n",
       "      <td>1000</td>\n",
       "      <td>1000</td>\n",
       "      <td>1000</td>\n",
       "      <td>1000</td>\n",
       "      <td>1000</td>\n",
       "      <td>1000</td>\n",
       "      <td>1000</td>\n",
       "    </tr>\n",
       "  </tbody>\n",
       "</table>\n",
       "</div>"
      ]
     },
     "execution_count": 23,
     "metadata": {},
     "output_type": "execute_result"
    }
   ],
   "execution_count": 23
  },
  {
   "cell_type": "markdown",
   "id": "f005579c",
   "metadata": {},
   "source": [
    "### 🔹 2. Détection de valeurs manquantes ou incohérentes"
   ]
  },
  {
   "cell_type": "markdown",
   "id": "f187126b-820e-45a0-b19c-6a425b9bed50",
   "metadata": {},
   "source": [
    "a. Nombre de valeurs manquantes par cellule?"
   ]
  },
  {
   "cell_type": "code",
   "id": "8a00b955-9b7f-49ca-a93c-e481beaa4f41",
   "metadata": {},
   "source": [],
   "outputs": [],
   "execution_count": null
  },
  {
   "cell_type": "markdown",
   "id": "2aa19a2f-f8ea-4942-bdaf-c099bcfff841",
   "metadata": {},
   "source": [
    "b. Combien d'étudiants ont un score moyen < 40 ?"
   ]
  },
  {
   "cell_type": "code",
   "id": "c1700484-9122-43a0-91a5-dd669e5ecdf6",
   "metadata": {
    "ExecuteTime": {
     "end_time": "2025-05-21T19:18:29.828591Z",
     "start_time": "2025-05-21T19:18:29.817136Z"
    }
   },
   "source": [],
   "outputs": [],
   "execution_count": null
  },
  {
   "cell_type": "markdown",
   "id": "d251f34a-88cc-4555-8f9d-ffcf6c8d4229",
   "metadata": {},
   "source": [
    "c. Valeurs aberrantes pour le score moyen ? (utiliser visualisation et la Méthode de l’écart interquartile [à lire])"
   ]
  },
  {
   "cell_type": "code",
   "id": "f9fd62bb-2825-44be-bd8e-d9a5457f867d",
   "metadata": {
    "ExecuteTime": {
     "end_time": "2025-05-21T19:18:31.281303Z",
     "start_time": "2025-05-21T19:18:31.269152Z"
    }
   },
   "source": [],
   "outputs": [],
   "execution_count": null
  },
  {
   "cell_type": "markdown",
   "id": "a94155c6",
   "metadata": {},
   "source": [
    "### 🔹 3. Visualisation des données"
   ]
  },
  {
   "cell_type": "markdown",
   "id": "a77e022c-c5ab-4c5c-872f-304bf7423548",
   "metadata": {},
   "source": [
    "a. Histogramme des notes moyennes"
   ]
  },
  {
   "cell_type": "code",
   "id": "e26fd12e-eaac-4d76-afd5-0e02bb1f7362",
   "metadata": {
    "ExecuteTime": {
     "end_time": "2025-05-21T19:18:32.709518Z",
     "start_time": "2025-05-21T19:18:32.683647Z"
    }
   },
   "source": [],
   "outputs": [],
   "execution_count": null
  },
  {
   "cell_type": "markdown",
   "id": "6250b94b-b79d-4be7-ac57-036773e69a3b",
   "metadata": {},
   "source": [
    "b. Peut-on voir sur cet histogramme des valeurs abérrantes?"
   ]
  },
  {
   "cell_type": "code",
   "id": "3e0c93eb-d3e6-4bdd-b316-eb0c764612b9",
   "metadata": {
    "ExecuteTime": {
     "end_time": "2025-05-21T19:18:33.586167Z",
     "start_time": "2025-05-21T19:18:33.572945Z"
    }
   },
   "source": [],
   "outputs": [],
   "execution_count": null
  },
  {
   "cell_type": "markdown",
   "id": "70988a94-9077-44c6-b868-514de4d782bb",
   "metadata": {},
   "source": [
    "c. Faire une boxplot des moyennes par genre."
   ]
  },
  {
   "cell_type": "code",
   "id": "ad70b902-cdfe-4a05-a8b4-907446c854dd",
   "metadata": {
    "ExecuteTime": {
     "end_time": "2025-05-21T19:18:34.309199Z",
     "start_time": "2025-05-21T19:18:34.302293Z"
    }
   },
   "source": [],
   "outputs": [],
   "execution_count": null
  },
  {
   "cell_type": "markdown",
   "id": "92e0f668-9bc1-4630-8cf8-918b55f535e2",
   "metadata": {},
   "source": [
    "d. Est-ce qu'il y a une différence nette des moyennes de genre sur ce boxplot? "
   ]
  },
  {
   "cell_type": "code",
   "id": "449d79c8-495b-41b2-b1ab-11920145f13d",
   "metadata": {
    "ExecuteTime": {
     "end_time": "2025-05-21T19:18:35.244744Z",
     "start_time": "2025-05-21T19:18:35.233973Z"
    }
   },
   "source": [],
   "outputs": [],
   "execution_count": null
  },
  {
   "cell_type": "markdown",
   "id": "394c530d-fc9a-4e5e-b2d0-b9afd6f6502c",
   "metadata": {},
   "source": [
    "e. Barplot moyenne par niveau d'éducation des parents? Peut-on avoir des conclusions sur cette variable?"
   ]
  },
  {
   "cell_type": "code",
   "id": "705a3fab-9db7-4cec-87a9-05794f78d3b4",
   "metadata": {
    "ExecuteTime": {
     "end_time": "2025-05-21T19:18:35.981859Z",
     "start_time": "2025-05-21T19:18:35.966332Z"
    }
   },
   "source": [],
   "outputs": [],
   "execution_count": null
  },
  {
   "cell_type": "markdown",
   "id": "6cb70788-9522-46a8-8d33-240c4be19e54",
   "metadata": {},
   "source": [
    "d. Faire le Heatmap de corrélation. Quelle est la variable la plus correlée avec la note moyenne?"
   ]
  },
  {
   "cell_type": "code",
   "id": "a6edb87c-d20b-4dc6-b664-3f7eadbd8a66",
   "metadata": {
    "ExecuteTime": {
     "end_time": "2025-05-21T19:18:36.569357Z",
     "start_time": "2025-05-21T19:18:36.555793Z"
    }
   },
   "source": [],
   "outputs": [],
   "execution_count": null
  },
  {
   "cell_type": "markdown",
   "id": "ea48613f",
   "metadata": {},
   "source": [
    "### 🔹 4. Nettoyage des données"
   ]
  },
  {
   "cell_type": "markdown",
   "id": "e5c61e36-7185-467b-b057-6b3ecc46262b",
   "metadata": {},
   "source": [
    "a. Imputation des NaN (remplacer les NaN par la moyenne de la variable correspondante)"
   ]
  },
  {
   "cell_type": "code",
   "id": "b1861830-d069-4790-9470-b74c88da54af",
   "metadata": {
    "ExecuteTime": {
     "end_time": "2025-05-21T19:18:37.243530Z",
     "start_time": "2025-05-21T19:18:37.232459Z"
    }
   },
   "source": [],
   "outputs": [],
   "execution_count": null
  },
  {
   "cell_type": "markdown",
   "id": "97e2fa5d-d425-4864-80f5-d2dd447bd009",
   "metadata": {},
   "source": [
    "b. Suppression des colonnes inutiles ( Identifiez les colonnes qui sont redondantes, constantes ou sans valeur explicative[aucune corrélation] )"
   ]
  },
  {
   "cell_type": "code",
   "id": "339da701-d1be-4c76-883b-a14b6ab6d057",
   "metadata": {
    "ExecuteTime": {
     "end_time": "2025-05-21T19:18:37.930321Z",
     "start_time": "2025-05-21T19:18:37.909394Z"
    }
   },
   "source": [],
   "outputs": [],
   "execution_count": null
  },
  {
   "cell_type": "markdown",
   "id": "6b98bddd-e203-4045-be1a-cedaf624a573",
   "metadata": {},
   "source": [
    "c. Sélection des colonnes utiles"
   ]
  },
  {
   "cell_type": "code",
   "id": "7663ece0-c467-4db8-a154-8e33c1cdf93a",
   "metadata": {
    "ExecuteTime": {
     "end_time": "2025-05-21T19:18:38.755580Z",
     "start_time": "2025-05-21T19:18:38.737561Z"
    }
   },
   "source": [],
   "outputs": [],
   "execution_count": null
  },
  {
   "cell_type": "markdown",
   "id": "d69fb340",
   "metadata": {},
   "source": [
    "### 🔹 5. Encodage"
   ]
  },
  {
   "cell_type": "markdown",
   "id": "078f99de-9267-427c-80c9-ff9e0165bd66",
   "metadata": {},
   "source": "a. Encodage de `gender` ( rendre en numérique de façon catégorielle )"
  },
  {
   "cell_type": "code",
   "id": "ac87cfba-7378-4883-81a6-e0494359f5ab",
   "metadata": {
    "ExecuteTime": {
     "end_time": "2025-05-21T19:18:39.467385Z",
     "start_time": "2025-05-21T19:18:39.455762Z"
    }
   },
   "source": [],
   "outputs": [],
   "execution_count": null
  },
  {
   "cell_type": "markdown",
   "id": "f0b75d42-6695-444f-82ba-37d873bae587",
   "metadata": {},
   "source": [
    "b. Encodage one-hot de `parental_level_of_education`"
   ]
  },
  {
   "cell_type": "code",
   "id": "258f268d-f130-4e04-af6c-907c70b49dc8",
   "metadata": {
    "ExecuteTime": {
     "end_time": "2025-05-21T19:18:40.048819Z",
     "start_time": "2025-05-21T19:18:40.033432Z"
    }
   },
   "source": [],
   "outputs": [],
   "execution_count": null
  },
  {
   "cell_type": "markdown",
   "id": "f0acc438-11ae-41b4-895a-ee861307e312",
   "metadata": {},
   "source": [
    "c. Est-il utilise pour l'encodage de `parental_level_of_education` de faire un Regroupement des modalités ? "
   ]
  },
  {
   "cell_type": "code",
   "id": "42804ca4-38aa-488e-b16c-65a96d6570ac",
   "metadata": {
    "ExecuteTime": {
     "end_time": "2025-05-21T19:18:40.651845Z",
     "start_time": "2025-05-21T19:18:40.637931Z"
    }
   },
   "source": [],
   "outputs": [],
   "execution_count": null
  },
  {
   "cell_type": "markdown",
   "id": "fc06c457",
   "metadata": {},
   "source": [
    "### 🔹 6. Préparation finale"
   ]
  },
  {
   "cell_type": "markdown",
   "id": "ad1d55d7-38a4-431e-8747-9527557e60b3",
   "metadata": {},
   "source": [
    "a. Créer X (features) et y (cible: average_score)"
   ]
  },
  {
   "cell_type": "code",
   "id": "66f4a7a2-6f3a-4d68-8992-fd4e2d2f92c7",
   "metadata": {
    "ExecuteTime": {
     "end_time": "2025-05-21T19:18:41.108200Z",
     "start_time": "2025-05-21T19:18:41.099547Z"
    }
   },
   "source": [],
   "outputs": [],
   "execution_count": null
  },
  {
   "cell_type": "markdown",
   "id": "4ba1a502-e030-4d4d-8d5d-2a4485358c4e",
   "metadata": {},
   "source": [
    "b. Vérifier que X est bien numérique"
   ]
  },
  {
   "cell_type": "code",
   "id": "57f5d0d3-275f-488c-bc4d-06e39d9bae11",
   "metadata": {
    "ExecuteTime": {
     "end_time": "2025-05-21T19:18:41.549858Z",
     "start_time": "2025-05-21T19:18:41.543152Z"
    }
   },
   "source": [],
   "outputs": [],
   "execution_count": null
  },
  {
   "cell_type": "markdown",
   "id": "fa4e66cd-fdcd-44c6-ab96-afeb00d0577e",
   "metadata": {},
   "source": [
    "c. Sauvegarder X et y"
   ]
  },
  {
   "cell_type": "code",
   "id": "040f61de-e572-424e-92c7-c80cca29466c",
   "metadata": {
    "ExecuteTime": {
     "end_time": "2025-05-21T19:18:42.235953Z",
     "start_time": "2025-05-21T19:18:42.224225Z"
    }
   },
   "source": [],
   "outputs": [],
   "execution_count": null
  },
  {
   "cell_type": "markdown",
   "id": "fbdcc075",
   "metadata": {},
   "source": [
    "## 💡 Bonus"
   ]
  },
  {
   "cell_type": "code",
   "id": "a714cead",
   "metadata": {
    "ExecuteTime": {
     "end_time": "2025-05-21T19:18:42.787198Z",
     "start_time": "2025-05-21T19:18:42.771271Z"
    }
   },
   "source": [
    "# Fonction preprocess_students_data(df)"
   ],
   "outputs": [],
   "execution_count": 24
  },
  {
   "cell_type": "markdown",
   "id": "b7bdfc15-8dc7-4c09-93ae-5f0804882a84",
   "metadata": {},
   "source": [
    "a. Visualisation libre d'une tendance surprenante"
   ]
  },
  {
   "cell_type": "code",
   "id": "10678def-6044-4774-95f1-96de4440f3de",
   "metadata": {
    "ExecuteTime": {
     "end_time": "2025-05-21T19:18:43.443755Z",
     "start_time": "2025-05-21T19:18:43.434421Z"
    }
   },
   "source": [],
   "outputs": [],
   "execution_count": null
  }
 ],
 "metadata": {
  "kernelspec": {
   "display_name": "Python 3 (ipykernel)",
   "language": "python",
   "name": "python3"
  },
  "language_info": {
   "codemirror_mode": {
    "name": "ipython",
    "version": 3
   },
   "file_extension": ".py",
   "mimetype": "text/x-python",
   "name": "python",
   "nbconvert_exporter": "python",
   "pygments_lexer": "ipython3",
   "version": "3.12.3"
  }
 },
 "nbformat": 4,
 "nbformat_minor": 5
}
