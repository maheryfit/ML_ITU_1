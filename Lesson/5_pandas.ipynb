{
 "cells": [
  {
   "cell_type": "markdown",
   "metadata": {},
   "source": [
    "## Introduction à Pandas"
   ]
  },
  {
   "cell_type": "markdown",
   "metadata": {},
   "source": [
    "Pandas est une librairie Python spécialisée dans l’analyse des données. Il nous permet de faire des opérations efficaces sur des données sous forme de tableaux multidimensionnels homogènes. "
   ]
  },
  {
   "cell_type": "code",
   "metadata": {
    "ExecuteTime": {
     "end_time": "2025-05-21T18:37:19.679511Z",
     "start_time": "2025-05-21T18:37:17.274468Z"
    }
   },
   "source": [
    "import numpy as np\n",
    "import pandas as pd"
   ],
   "outputs": [],
   "execution_count": 1
  },
  {
   "cell_type": "markdown",
   "metadata": {},
   "source": [
    "### Series\n",
    "Series  de Pandas est une généralisation d'un ndarray de NumPy d'une seule dimension. Sa particularité est que les valeurs sont indexées."
   ]
  },
  {
   "cell_type": "code",
   "metadata": {
    "ExecuteTime": {
     "end_time": "2025-05-21T18:37:21.740607Z",
     "start_time": "2025-05-21T18:37:21.680482Z"
    }
   },
   "source": [
    "x = np.random.random(4)\n",
    "x"
   ],
   "outputs": [
    {
     "data": {
      "text/plain": [
       "array([0.1403011 , 0.31738778, 0.03912057, 0.95715528])"
      ]
     },
     "execution_count": 2,
     "metadata": {},
     "output_type": "execute_result"
    }
   ],
   "execution_count": 2
  },
  {
   "cell_type": "code",
   "metadata": {
    "ExecuteTime": {
     "end_time": "2025-05-21T18:37:23.001680Z",
     "start_time": "2025-05-21T18:37:22.926184Z"
    }
   },
   "source": [
    "x = pd.Series(x)\n",
    "x"
   ],
   "outputs": [
    {
     "data": {
      "text/plain": [
       "0    0.140301\n",
       "1    0.317388\n",
       "2    0.039121\n",
       "3    0.957155\n",
       "dtype: float64"
      ]
     },
     "execution_count": 3,
     "metadata": {},
     "output_type": "execute_result"
    }
   ],
   "execution_count": 3
  },
  {
   "cell_type": "code",
   "metadata": {
    "ExecuteTime": {
     "end_time": "2025-05-21T18:37:25.902289Z",
     "start_time": "2025-05-21T18:37:25.875633Z"
    }
   },
   "source": [
    "x[0]"
   ],
   "outputs": [
    {
     "data": {
      "text/plain": [
       "np.float64(0.1403011009441706)"
      ]
     },
     "execution_count": 4,
     "metadata": {},
     "output_type": "execute_result"
    }
   ],
   "execution_count": 4
  },
  {
   "cell_type": "markdown",
   "metadata": {},
   "source": [
    "Les index peuvent être non numériques."
   ]
  },
  {
   "cell_type": "code",
   "metadata": {
    "ExecuteTime": {
     "end_time": "2025-05-21T18:37:28.677721Z",
     "start_time": "2025-05-21T18:37:28.633829Z"
    }
   },
   "source": [
    "si = pd.Series([210, 31, 40, 15],index =['Porcupine','Chipmunk','Squirrel','Goat'])\n",
    "si"
   ],
   "outputs": [
    {
     "data": {
      "text/plain": [
       "Porcupine    210\n",
       "Chipmunk      31\n",
       "Squirrel      40\n",
       "Goat          15\n",
       "dtype: int64"
      ]
     },
     "execution_count": 5,
     "metadata": {},
     "output_type": "execute_result"
    }
   ],
   "execution_count": 5
  },
  {
   "cell_type": "code",
   "metadata": {
    "ExecuteTime": {
     "end_time": "2025-05-21T18:37:30.497644Z",
     "start_time": "2025-05-21T18:37:30.477491Z"
    }
   },
   "source": [
    "si['Porcupine']"
   ],
   "outputs": [
    {
     "data": {
      "text/plain": [
       "np.int64(210)"
      ]
     },
     "execution_count": 6,
     "metadata": {},
     "output_type": "execute_result"
    }
   ],
   "execution_count": 6
  },
  {
   "cell_type": "code",
   "metadata": {
    "ExecuteTime": {
     "end_time": "2025-05-21T18:37:33.524361Z",
     "start_time": "2025-05-21T18:37:33.499743Z"
    }
   },
   "source": [
    "si[0] #mais cette façon d'indexer reste toujours valide"
   ],
   "outputs": [
    {
     "name": "stderr",
     "output_type": "stream",
     "text": [
      "/tmp/ipykernel_28185/28734094.py:1: FutureWarning: Series.__getitem__ treating keys as positions is deprecated. In a future version, integer keys will always be treated as labels (consistent with DataFrame behavior). To access a value by position, use `ser.iloc[pos]`\n",
      "  si[0] #mais cette façon d'indexer reste toujours valide\n"
     ]
    },
    {
     "data": {
      "text/plain": [
       "np.int64(210)"
      ]
     },
     "execution_count": 7,
     "metadata": {},
     "output_type": "execute_result"
    }
   ],
   "execution_count": 7
  },
  {
   "cell_type": "markdown",
   "metadata": {},
   "source": [
    "Series a tous les avantages donnés par ndarray de Numpy. "
   ]
  },
  {
   "cell_type": "markdown",
   "metadata": {},
   "source": [
    "### Structure DataFrame\n",
    "DataFrame est celui qui nous intéresse le plus dans la librairie Pandas. Une matrice DataFrame correspond à une matrice individus-variables où les lignes correspondent à des observations, les\n",
    "colonnes à des attributs décrivant les individus. Chaque colonne est de type Series.\n",
    "\n",
    "On peut créer un DataFrame de plusieurs façons:\n",
    "- à partir d'un fichier ( texte, csv, excel , ...)\n",
    "- à partir d'un dictionnaire, liste ou tuples\n",
    "- à partir de Series de Pandas, array de Numpy"
   ]
  },
  {
   "cell_type": "code",
   "metadata": {
    "ExecuteTime": {
     "end_time": "2025-05-21T18:37:35.606243Z",
     "start_time": "2025-05-21T18:37:35.544908Z"
    }
   },
   "source": [
    "import numpy as np\n",
    "import pandas as pd\n",
    "#la création manuelle d'un dataframe qui passe par un dictionnaire\n",
    "data = {'city': [ 'Boston', 'Paris', 'Lagos' ],'area': [ 11700, 17174, 2706],'population': [4628910, 12405426, 21000000]}\n",
    "frame = pd.DataFrame(data)\n",
    "print(frame)\n",
    "#la creation manuelle d'un DataFrame qui passe par Numpy \n",
    "df2 = pd.DataFrame(np.array([[1, 2, 3], [4, 5, 6], [7, 8, 9]]),columns=['col1', 'col2', 'col3'])\n",
    "df2"
   ],
   "outputs": [
    {
     "name": "stdout",
     "output_type": "stream",
     "text": [
      "     city   area  population\n",
      "0  Boston  11700     4628910\n",
      "1   Paris  17174    12405426\n",
      "2   Lagos   2706    21000000\n"
     ]
    },
    {
     "data": {
      "text/plain": [
       "   col1  col2  col3\n",
       "0     1     2     3\n",
       "1     4     5     6\n",
       "2     7     8     9"
      ],
      "text/html": [
       "<div>\n",
       "<style scoped>\n",
       "    .dataframe tbody tr th:only-of-type {\n",
       "        vertical-align: middle;\n",
       "    }\n",
       "\n",
       "    .dataframe tbody tr th {\n",
       "        vertical-align: top;\n",
       "    }\n",
       "\n",
       "    .dataframe thead th {\n",
       "        text-align: right;\n",
       "    }\n",
       "</style>\n",
       "<table border=\"1\" class=\"dataframe\">\n",
       "  <thead>\n",
       "    <tr style=\"text-align: right;\">\n",
       "      <th></th>\n",
       "      <th>col1</th>\n",
       "      <th>col2</th>\n",
       "      <th>col3</th>\n",
       "    </tr>\n",
       "  </thead>\n",
       "  <tbody>\n",
       "    <tr>\n",
       "      <th>0</th>\n",
       "      <td>1</td>\n",
       "      <td>2</td>\n",
       "      <td>3</td>\n",
       "    </tr>\n",
       "    <tr>\n",
       "      <th>1</th>\n",
       "      <td>4</td>\n",
       "      <td>5</td>\n",
       "      <td>6</td>\n",
       "    </tr>\n",
       "    <tr>\n",
       "      <th>2</th>\n",
       "      <td>7</td>\n",
       "      <td>8</td>\n",
       "      <td>9</td>\n",
       "    </tr>\n",
       "  </tbody>\n",
       "</table>\n",
       "</div>"
      ]
     },
     "execution_count": 8,
     "metadata": {},
     "output_type": "execute_result"
    }
   ],
   "execution_count": 8
  },
  {
   "cell_type": "markdown",
   "metadata": {},
   "source": [
    "Quelques opérations élémentaires sur un DataFrame"
   ]
  },
  {
   "cell_type": "code",
   "metadata": {
    "ExecuteTime": {
     "end_time": "2025-05-21T18:37:37.324826Z",
     "start_time": "2025-05-21T18:37:37.272968Z"
    }
   },
   "source": [
    "print(frame.columns) #permet d'avoir les columns de frame\n",
    "type(frame.columns)"
   ],
   "outputs": [
    {
     "name": "stdout",
     "output_type": "stream",
     "text": [
      "Index(['city', 'area', 'population'], dtype='object')\n"
     ]
    },
    {
     "data": {
      "text/plain": [
       "pandas.core.indexes.base.Index"
      ]
     },
     "execution_count": 9,
     "metadata": {},
     "output_type": "execute_result"
    }
   ],
   "execution_count": 9
  },
  {
   "cell_type": "code",
   "metadata": {
    "ExecuteTime": {
     "end_time": "2025-05-21T18:37:39.097539Z",
     "start_time": "2025-05-21T18:37:39.064741Z"
    }
   },
   "source": [
    "frame.city #equivalent à frame['city'], permet de prendre la colonne entière city "
   ],
   "outputs": [
    {
     "data": {
      "text/plain": [
       "0    Boston\n",
       "1     Paris\n",
       "2     Lagos\n",
       "Name: city, dtype: object"
      ]
     },
     "execution_count": 10,
     "metadata": {},
     "output_type": "execute_result"
    }
   ],
   "execution_count": 10
  },
  {
   "cell_type": "code",
   "metadata": {
    "ExecuteTime": {
     "end_time": "2025-05-21T18:37:40.461932Z",
     "start_time": "2025-05-21T18:37:40.397785Z"
    }
   },
   "source": [
    "frame.loc[0] #get row with index 0"
   ],
   "outputs": [
    {
     "data": {
      "text/plain": [
       "city           Boston\n",
       "area            11700\n",
       "population    4628910\n",
       "Name: 0, dtype: object"
      ]
     },
     "execution_count": 11,
     "metadata": {},
     "output_type": "execute_result"
    }
   ],
   "execution_count": 11
  },
  {
   "cell_type": "code",
   "metadata": {
    "ExecuteTime": {
     "end_time": "2025-05-21T18:37:42.121906Z",
     "start_time": "2025-05-21T18:37:42.079875Z"
    }
   },
   "source": [
    "frame.loc[0:2]['city'] #combinaison des deux avec un bonus slicing"
   ],
   "outputs": [
    {
     "data": {
      "text/plain": [
       "0    Boston\n",
       "1     Paris\n",
       "2     Lagos\n",
       "Name: city, dtype: object"
      ]
     },
     "execution_count": 12,
     "metadata": {},
     "output_type": "execute_result"
    }
   ],
   "execution_count": 12
  },
  {
   "cell_type": "code",
   "metadata": {
    "ExecuteTime": {
     "end_time": "2025-05-21T18:37:44.291406Z",
     "start_time": "2025-05-21T18:37:44.238973Z"
    }
   },
   "source": [
    "frame.population.max() #population maximale\n",
    "frame[frame.population == frame.population.max()].city #le city ayant la population maximale"
   ],
   "outputs": [
    {
     "data": {
      "text/plain": [
       "2    Lagos\n",
       "Name: city, dtype: object"
      ]
     },
     "execution_count": 13,
     "metadata": {},
     "output_type": "execute_result"
    }
   ],
   "execution_count": 13
  },
  {
   "cell_type": "code",
   "metadata": {
    "ExecuteTime": {
     "end_time": "2025-05-21T18:37:46.418201Z",
     "start_time": "2025-05-21T18:37:46.346985Z"
    }
   },
   "source": [
    "frame"
   ],
   "outputs": [
    {
     "data": {
      "text/plain": [
       "     city   area  population\n",
       "0  Boston  11700     4628910\n",
       "1   Paris  17174    12405426\n",
       "2   Lagos   2706    21000000"
      ],
      "text/html": [
       "<div>\n",
       "<style scoped>\n",
       "    .dataframe tbody tr th:only-of-type {\n",
       "        vertical-align: middle;\n",
       "    }\n",
       "\n",
       "    .dataframe tbody tr th {\n",
       "        vertical-align: top;\n",
       "    }\n",
       "\n",
       "    .dataframe thead th {\n",
       "        text-align: right;\n",
       "    }\n",
       "</style>\n",
       "<table border=\"1\" class=\"dataframe\">\n",
       "  <thead>\n",
       "    <tr style=\"text-align: right;\">\n",
       "      <th></th>\n",
       "      <th>city</th>\n",
       "      <th>area</th>\n",
       "      <th>population</th>\n",
       "    </tr>\n",
       "  </thead>\n",
       "  <tbody>\n",
       "    <tr>\n",
       "      <th>0</th>\n",
       "      <td>Boston</td>\n",
       "      <td>11700</td>\n",
       "      <td>4628910</td>\n",
       "    </tr>\n",
       "    <tr>\n",
       "      <th>1</th>\n",
       "      <td>Paris</td>\n",
       "      <td>17174</td>\n",
       "      <td>12405426</td>\n",
       "    </tr>\n",
       "    <tr>\n",
       "      <th>2</th>\n",
       "      <td>Lagos</td>\n",
       "      <td>2706</td>\n",
       "      <td>21000000</td>\n",
       "    </tr>\n",
       "  </tbody>\n",
       "</table>\n",
       "</div>"
      ]
     },
     "execution_count": 14,
     "metadata": {},
     "output_type": "execute_result"
    }
   ],
   "execution_count": 14
  },
  {
   "cell_type": "code",
   "metadata": {
    "ExecuteTime": {
     "end_time": "2025-05-21T18:37:49.527191Z",
     "start_time": "2025-05-21T18:37:49.482233Z"
    }
   },
   "source": [
    "frame.loc[0,'population']=21000000 #modification de valeurs"
   ],
   "outputs": [],
   "execution_count": 15
  },
  {
   "cell_type": "code",
   "metadata": {
    "ExecuteTime": {
     "end_time": "2025-05-21T18:37:51.543720Z",
     "start_time": "2025-05-21T18:37:51.502069Z"
    }
   },
   "source": [
    "frame"
   ],
   "outputs": [
    {
     "data": {
      "text/plain": [
       "     city   area  population\n",
       "0  Boston  11700    21000000\n",
       "1   Paris  17174    12405426\n",
       "2   Lagos   2706    21000000"
      ],
      "text/html": [
       "<div>\n",
       "<style scoped>\n",
       "    .dataframe tbody tr th:only-of-type {\n",
       "        vertical-align: middle;\n",
       "    }\n",
       "\n",
       "    .dataframe tbody tr th {\n",
       "        vertical-align: top;\n",
       "    }\n",
       "\n",
       "    .dataframe thead th {\n",
       "        text-align: right;\n",
       "    }\n",
       "</style>\n",
       "<table border=\"1\" class=\"dataframe\">\n",
       "  <thead>\n",
       "    <tr style=\"text-align: right;\">\n",
       "      <th></th>\n",
       "      <th>city</th>\n",
       "      <th>area</th>\n",
       "      <th>population</th>\n",
       "    </tr>\n",
       "  </thead>\n",
       "  <tbody>\n",
       "    <tr>\n",
       "      <th>0</th>\n",
       "      <td>Boston</td>\n",
       "      <td>11700</td>\n",
       "      <td>21000000</td>\n",
       "    </tr>\n",
       "    <tr>\n",
       "      <th>1</th>\n",
       "      <td>Paris</td>\n",
       "      <td>17174</td>\n",
       "      <td>12405426</td>\n",
       "    </tr>\n",
       "    <tr>\n",
       "      <th>2</th>\n",
       "      <td>Lagos</td>\n",
       "      <td>2706</td>\n",
       "      <td>21000000</td>\n",
       "    </tr>\n",
       "  </tbody>\n",
       "</table>\n",
       "</div>"
      ]
     },
     "execution_count": 16,
     "metadata": {},
     "output_type": "execute_result"
    }
   ],
   "execution_count": 16
  },
  {
   "cell_type": "code",
   "metadata": {
    "ExecuteTime": {
     "end_time": "2025-05-21T18:37:53.126933Z",
     "start_time": "2025-05-21T18:37:53.087825Z"
    }
   },
   "source": [
    "frame[['city','area']] #pour prendre deux colonnes"
   ],
   "outputs": [
    {
     "data": {
      "text/plain": [
       "     city   area\n",
       "0  Boston  11700\n",
       "1   Paris  17174\n",
       "2   Lagos   2706"
      ],
      "text/html": [
       "<div>\n",
       "<style scoped>\n",
       "    .dataframe tbody tr th:only-of-type {\n",
       "        vertical-align: middle;\n",
       "    }\n",
       "\n",
       "    .dataframe tbody tr th {\n",
       "        vertical-align: top;\n",
       "    }\n",
       "\n",
       "    .dataframe thead th {\n",
       "        text-align: right;\n",
       "    }\n",
       "</style>\n",
       "<table border=\"1\" class=\"dataframe\">\n",
       "  <thead>\n",
       "    <tr style=\"text-align: right;\">\n",
       "      <th></th>\n",
       "      <th>city</th>\n",
       "      <th>area</th>\n",
       "    </tr>\n",
       "  </thead>\n",
       "  <tbody>\n",
       "    <tr>\n",
       "      <th>0</th>\n",
       "      <td>Boston</td>\n",
       "      <td>11700</td>\n",
       "    </tr>\n",
       "    <tr>\n",
       "      <th>1</th>\n",
       "      <td>Paris</td>\n",
       "      <td>17174</td>\n",
       "    </tr>\n",
       "    <tr>\n",
       "      <th>2</th>\n",
       "      <td>Lagos</td>\n",
       "      <td>2706</td>\n",
       "    </tr>\n",
       "  </tbody>\n",
       "</table>\n",
       "</div>"
      ]
     },
     "execution_count": 17,
     "metadata": {},
     "output_type": "execute_result"
    }
   ],
   "execution_count": 17
  },
  {
   "cell_type": "code",
   "metadata": {
    "ExecuteTime": {
     "end_time": "2025-05-21T18:37:54.990532Z",
     "start_time": "2025-05-21T18:37:54.954147Z"
    }
   },
   "source": [
    "frame.loc[0:2][['city','area']] #combinaison"
   ],
   "outputs": [
    {
     "data": {
      "text/plain": [
       "     city   area\n",
       "0  Boston  11700\n",
       "1   Paris  17174\n",
       "2   Lagos   2706"
      ],
      "text/html": [
       "<div>\n",
       "<style scoped>\n",
       "    .dataframe tbody tr th:only-of-type {\n",
       "        vertical-align: middle;\n",
       "    }\n",
       "\n",
       "    .dataframe tbody tr th {\n",
       "        vertical-align: top;\n",
       "    }\n",
       "\n",
       "    .dataframe thead th {\n",
       "        text-align: right;\n",
       "    }\n",
       "</style>\n",
       "<table border=\"1\" class=\"dataframe\">\n",
       "  <thead>\n",
       "    <tr style=\"text-align: right;\">\n",
       "      <th></th>\n",
       "      <th>city</th>\n",
       "      <th>area</th>\n",
       "    </tr>\n",
       "  </thead>\n",
       "  <tbody>\n",
       "    <tr>\n",
       "      <th>0</th>\n",
       "      <td>Boston</td>\n",
       "      <td>11700</td>\n",
       "    </tr>\n",
       "    <tr>\n",
       "      <th>1</th>\n",
       "      <td>Paris</td>\n",
       "      <td>17174</td>\n",
       "    </tr>\n",
       "    <tr>\n",
       "      <th>2</th>\n",
       "      <td>Lagos</td>\n",
       "      <td>2706</td>\n",
       "    </tr>\n",
       "  </tbody>\n",
       "</table>\n",
       "</div>"
      ]
     },
     "execution_count": 18,
     "metadata": {},
     "output_type": "execute_result"
    }
   ],
   "execution_count": 18
  },
  {
   "cell_type": "markdown",
   "metadata": {},
   "source": [
    "select city,population from frame"
   ]
  },
  {
   "cell_type": "code",
   "metadata": {
    "ExecuteTime": {
     "end_time": "2025-05-21T18:37:58.070466Z",
     "start_time": "2025-05-21T18:37:58.024322Z"
    }
   },
   "source": [
    "frame[['city','area']].loc[0:2] #même resultat que ci-dessus"
   ],
   "outputs": [
    {
     "data": {
      "text/plain": [
       "     city   area\n",
       "0  Boston  11700\n",
       "1   Paris  17174\n",
       "2   Lagos   2706"
      ],
      "text/html": [
       "<div>\n",
       "<style scoped>\n",
       "    .dataframe tbody tr th:only-of-type {\n",
       "        vertical-align: middle;\n",
       "    }\n",
       "\n",
       "    .dataframe tbody tr th {\n",
       "        vertical-align: top;\n",
       "    }\n",
       "\n",
       "    .dataframe thead th {\n",
       "        text-align: right;\n",
       "    }\n",
       "</style>\n",
       "<table border=\"1\" class=\"dataframe\">\n",
       "  <thead>\n",
       "    <tr style=\"text-align: right;\">\n",
       "      <th></th>\n",
       "      <th>city</th>\n",
       "      <th>area</th>\n",
       "    </tr>\n",
       "  </thead>\n",
       "  <tbody>\n",
       "    <tr>\n",
       "      <th>0</th>\n",
       "      <td>Boston</td>\n",
       "      <td>11700</td>\n",
       "    </tr>\n",
       "    <tr>\n",
       "      <th>1</th>\n",
       "      <td>Paris</td>\n",
       "      <td>17174</td>\n",
       "    </tr>\n",
       "    <tr>\n",
       "      <th>2</th>\n",
       "      <td>Lagos</td>\n",
       "      <td>2706</td>\n",
       "    </tr>\n",
       "  </tbody>\n",
       "</table>\n",
       "</div>"
      ]
     },
     "execution_count": 19,
     "metadata": {},
     "output_type": "execute_result"
    }
   ],
   "execution_count": 19
  },
  {
   "cell_type": "markdown",
   "metadata": {},
   "source": [
    "## Ajouter une ligne dans un DataFrame"
   ]
  },
  {
   "cell_type": "code",
   "metadata": {
    "ExecuteTime": {
     "end_time": "2025-05-21T18:38:01.135246Z",
     "start_time": "2025-05-21T18:38:01.104245Z"
    }
   },
   "source": [
    "dfTemp = pd.DataFrame({'city':['Kiev'],'area': [110000],'population':[1075000]})"
   ],
   "outputs": [],
   "execution_count": 20
  },
  {
   "cell_type": "code",
   "metadata": {
    "ExecuteTime": {
     "end_time": "2025-05-21T18:38:02.438634Z",
     "start_time": "2025-05-21T18:38:02.420038Z"
    }
   },
   "source": [
    "frame = pd.concat([frame,dfTemp],ignore_index=True)"
   ],
   "outputs": [],
   "execution_count": 21
  },
  {
   "cell_type": "code",
   "metadata": {
    "ExecuteTime": {
     "end_time": "2025-05-21T18:38:03.082356Z",
     "start_time": "2025-05-21T18:38:03.006306Z"
    }
   },
   "source": [
    "frame"
   ],
   "outputs": [
    {
     "data": {
      "text/plain": [
       "     city    area  population\n",
       "0  Boston   11700    21000000\n",
       "1   Paris   17174    12405426\n",
       "2   Lagos    2706    21000000\n",
       "3    Kiev  110000     1075000"
      ],
      "text/html": [
       "<div>\n",
       "<style scoped>\n",
       "    .dataframe tbody tr th:only-of-type {\n",
       "        vertical-align: middle;\n",
       "    }\n",
       "\n",
       "    .dataframe tbody tr th {\n",
       "        vertical-align: top;\n",
       "    }\n",
       "\n",
       "    .dataframe thead th {\n",
       "        text-align: right;\n",
       "    }\n",
       "</style>\n",
       "<table border=\"1\" class=\"dataframe\">\n",
       "  <thead>\n",
       "    <tr style=\"text-align: right;\">\n",
       "      <th></th>\n",
       "      <th>city</th>\n",
       "      <th>area</th>\n",
       "      <th>population</th>\n",
       "    </tr>\n",
       "  </thead>\n",
       "  <tbody>\n",
       "    <tr>\n",
       "      <th>0</th>\n",
       "      <td>Boston</td>\n",
       "      <td>11700</td>\n",
       "      <td>21000000</td>\n",
       "    </tr>\n",
       "    <tr>\n",
       "      <th>1</th>\n",
       "      <td>Paris</td>\n",
       "      <td>17174</td>\n",
       "      <td>12405426</td>\n",
       "    </tr>\n",
       "    <tr>\n",
       "      <th>2</th>\n",
       "      <td>Lagos</td>\n",
       "      <td>2706</td>\n",
       "      <td>21000000</td>\n",
       "    </tr>\n",
       "    <tr>\n",
       "      <th>3</th>\n",
       "      <td>Kiev</td>\n",
       "      <td>110000</td>\n",
       "      <td>1075000</td>\n",
       "    </tr>\n",
       "  </tbody>\n",
       "</table>\n",
       "</div>"
      ]
     },
     "execution_count": 22,
     "metadata": {},
     "output_type": "execute_result"
    }
   ],
   "execution_count": 22
  },
  {
   "cell_type": "markdown",
   "metadata": {},
   "source": [
    "On peut effacer un enregistrement en indiquant les lignes à effacer, on utilise la méthode drop. Attention la fonction drop ne modifie pas directement l'objet dataFrame mais elle renvoie un nouvel objet dataFrame avec l'élément éffacé. "
   ]
  },
  {
   "cell_type": "code",
   "metadata": {
    "ExecuteTime": {
     "end_time": "2025-05-21T18:38:03.523186Z",
     "start_time": "2025-05-21T18:38:03.484546Z"
    }
   },
   "source": [
    "frame"
   ],
   "outputs": [
    {
     "data": {
      "text/plain": [
       "     city    area  population\n",
       "0  Boston   11700    21000000\n",
       "1   Paris   17174    12405426\n",
       "2   Lagos    2706    21000000\n",
       "3    Kiev  110000     1075000"
      ],
      "text/html": [
       "<div>\n",
       "<style scoped>\n",
       "    .dataframe tbody tr th:only-of-type {\n",
       "        vertical-align: middle;\n",
       "    }\n",
       "\n",
       "    .dataframe tbody tr th {\n",
       "        vertical-align: top;\n",
       "    }\n",
       "\n",
       "    .dataframe thead th {\n",
       "        text-align: right;\n",
       "    }\n",
       "</style>\n",
       "<table border=\"1\" class=\"dataframe\">\n",
       "  <thead>\n",
       "    <tr style=\"text-align: right;\">\n",
       "      <th></th>\n",
       "      <th>city</th>\n",
       "      <th>area</th>\n",
       "      <th>population</th>\n",
       "    </tr>\n",
       "  </thead>\n",
       "  <tbody>\n",
       "    <tr>\n",
       "      <th>0</th>\n",
       "      <td>Boston</td>\n",
       "      <td>11700</td>\n",
       "      <td>21000000</td>\n",
       "    </tr>\n",
       "    <tr>\n",
       "      <th>1</th>\n",
       "      <td>Paris</td>\n",
       "      <td>17174</td>\n",
       "      <td>12405426</td>\n",
       "    </tr>\n",
       "    <tr>\n",
       "      <th>2</th>\n",
       "      <td>Lagos</td>\n",
       "      <td>2706</td>\n",
       "      <td>21000000</td>\n",
       "    </tr>\n",
       "    <tr>\n",
       "      <th>3</th>\n",
       "      <td>Kiev</td>\n",
       "      <td>110000</td>\n",
       "      <td>1075000</td>\n",
       "    </tr>\n",
       "  </tbody>\n",
       "</table>\n",
       "</div>"
      ]
     },
     "execution_count": 23,
     "metadata": {},
     "output_type": "execute_result"
    }
   ],
   "execution_count": 23
  },
  {
   "cell_type": "markdown",
   "metadata": {},
   "source": [
    "## Ajouter une colonne"
   ]
  },
  {
   "cell_type": "code",
   "metadata": {
    "ExecuteTime": {
     "end_time": "2025-05-21T18:38:04.052003Z",
     "start_time": "2025-05-21T18:38:04.021554Z"
    }
   },
   "source": [
    "dfTemp2 = pd.DataFrame({'country':[]})"
   ],
   "outputs": [],
   "execution_count": 24
  },
  {
   "cell_type": "code",
   "metadata": {
    "ExecuteTime": {
     "end_time": "2025-05-21T18:38:04.997618Z",
     "start_time": "2025-05-21T18:38:04.962888Z"
    }
   },
   "source": [
    "frame= pd.concat([frame,dfTemp2],ignore_index=True)"
   ],
   "outputs": [],
   "execution_count": 25
  },
  {
   "cell_type": "markdown",
   "metadata": {},
   "source": [
    "## Effacer ligne ou colonne"
   ]
  },
  {
   "cell_type": "code",
   "metadata": {
    "ExecuteTime": {
     "end_time": "2025-05-21T18:38:05.596385Z",
     "start_time": "2025-05-21T18:38:05.521357Z"
    }
   },
   "source": [
    "frame.drop([1], axis=0) #attention ceci n'affecte pas frame mais renvoie un nouveau Dataframe"
   ],
   "outputs": [
    {
     "data": {
      "text/plain": [
       "     city      area  population  country\n",
       "0  Boston   11700.0  21000000.0      NaN\n",
       "2   Lagos    2706.0  21000000.0      NaN\n",
       "3    Kiev  110000.0   1075000.0      NaN"
      ],
      "text/html": [
       "<div>\n",
       "<style scoped>\n",
       "    .dataframe tbody tr th:only-of-type {\n",
       "        vertical-align: middle;\n",
       "    }\n",
       "\n",
       "    .dataframe tbody tr th {\n",
       "        vertical-align: top;\n",
       "    }\n",
       "\n",
       "    .dataframe thead th {\n",
       "        text-align: right;\n",
       "    }\n",
       "</style>\n",
       "<table border=\"1\" class=\"dataframe\">\n",
       "  <thead>\n",
       "    <tr style=\"text-align: right;\">\n",
       "      <th></th>\n",
       "      <th>city</th>\n",
       "      <th>area</th>\n",
       "      <th>population</th>\n",
       "      <th>country</th>\n",
       "    </tr>\n",
       "  </thead>\n",
       "  <tbody>\n",
       "    <tr>\n",
       "      <th>0</th>\n",
       "      <td>Boston</td>\n",
       "      <td>11700.0</td>\n",
       "      <td>21000000.0</td>\n",
       "      <td>NaN</td>\n",
       "    </tr>\n",
       "    <tr>\n",
       "      <th>2</th>\n",
       "      <td>Lagos</td>\n",
       "      <td>2706.0</td>\n",
       "      <td>21000000.0</td>\n",
       "      <td>NaN</td>\n",
       "    </tr>\n",
       "    <tr>\n",
       "      <th>3</th>\n",
       "      <td>Kiev</td>\n",
       "      <td>110000.0</td>\n",
       "      <td>1075000.0</td>\n",
       "      <td>NaN</td>\n",
       "    </tr>\n",
       "  </tbody>\n",
       "</table>\n",
       "</div>"
      ]
     },
     "execution_count": 26,
     "metadata": {},
     "output_type": "execute_result"
    }
   ],
   "execution_count": 26
  },
  {
   "cell_type": "code",
   "metadata": {
    "ExecuteTime": {
     "end_time": "2025-05-21T18:38:05.952760Z",
     "start_time": "2025-05-21T18:38:05.888056Z"
    }
   },
   "source": [
    "frame.drop(['city'], axis=1)"
   ],
   "outputs": [
    {
     "data": {
      "text/plain": [
       "       area  population  country\n",
       "0   11700.0  21000000.0      NaN\n",
       "1   17174.0  12405426.0      NaN\n",
       "2    2706.0  21000000.0      NaN\n",
       "3  110000.0   1075000.0      NaN"
      ],
      "text/html": [
       "<div>\n",
       "<style scoped>\n",
       "    .dataframe tbody tr th:only-of-type {\n",
       "        vertical-align: middle;\n",
       "    }\n",
       "\n",
       "    .dataframe tbody tr th {\n",
       "        vertical-align: top;\n",
       "    }\n",
       "\n",
       "    .dataframe thead th {\n",
       "        text-align: right;\n",
       "    }\n",
       "</style>\n",
       "<table border=\"1\" class=\"dataframe\">\n",
       "  <thead>\n",
       "    <tr style=\"text-align: right;\">\n",
       "      <th></th>\n",
       "      <th>area</th>\n",
       "      <th>population</th>\n",
       "      <th>country</th>\n",
       "    </tr>\n",
       "  </thead>\n",
       "  <tbody>\n",
       "    <tr>\n",
       "      <th>0</th>\n",
       "      <td>11700.0</td>\n",
       "      <td>21000000.0</td>\n",
       "      <td>NaN</td>\n",
       "    </tr>\n",
       "    <tr>\n",
       "      <th>1</th>\n",
       "      <td>17174.0</td>\n",
       "      <td>12405426.0</td>\n",
       "      <td>NaN</td>\n",
       "    </tr>\n",
       "    <tr>\n",
       "      <th>2</th>\n",
       "      <td>2706.0</td>\n",
       "      <td>21000000.0</td>\n",
       "      <td>NaN</td>\n",
       "    </tr>\n",
       "    <tr>\n",
       "      <th>3</th>\n",
       "      <td>110000.0</td>\n",
       "      <td>1075000.0</td>\n",
       "      <td>NaN</td>\n",
       "    </tr>\n",
       "  </tbody>\n",
       "</table>\n",
       "</div>"
      ]
     },
     "execution_count": 27,
     "metadata": {},
     "output_type": "execute_result"
    }
   ],
   "execution_count": 27
  },
  {
   "cell_type": "markdown",
   "metadata": {},
   "source": [
    "### Equivalence SQL, DataFrame"
   ]
  },
  {
   "cell_type": "markdown",
   "metadata": {},
   "source": [
    "DataFrame est en quelques sortes un SGBD comme Mysql. Les requetes SQL ont des équivalences en DataFrame.\n",
    "Par exemple , soit la requete SQL suivant :\n",
    "\n",
    "SELECT city FROM frame where population>=4000000\n",
    "\n",
    "Son équivalence en DataFrame est "
   ]
  },
  {
   "cell_type": "code",
   "metadata": {
    "ExecuteTime": {
     "end_time": "2025-05-21T18:38:06.868022Z",
     "start_time": "2025-05-21T18:38:06.818580Z"
    }
   },
   "source": [
    "frame[frame['population']>4000000]['city']"
   ],
   "outputs": [
    {
     "data": {
      "text/plain": [
       "0    Boston\n",
       "1     Paris\n",
       "2     Lagos\n",
       "Name: city, dtype: object"
      ]
     },
     "execution_count": 28,
     "metadata": {},
     "output_type": "execute_result"
    }
   ],
   "execution_count": 28
  },
  {
   "cell_type": "markdown",
   "metadata": {},
   "source": [
    "Par exemple aussi:\n",
    "    \n",
    "SELECT city,area FROM frame where population>=4000000"
   ]
  },
  {
   "cell_type": "code",
   "metadata": {
    "ExecuteTime": {
     "end_time": "2025-05-21T18:38:08.665988Z",
     "start_time": "2025-05-21T18:38:08.585918Z"
    }
   },
   "source": [
    "frame[frame['population']>=4000000][['city','area']]"
   ],
   "outputs": [
    {
     "data": {
      "text/plain": [
       "     city     area\n",
       "0  Boston  11700.0\n",
       "1   Paris  17174.0\n",
       "2   Lagos   2706.0"
      ],
      "text/html": [
       "<div>\n",
       "<style scoped>\n",
       "    .dataframe tbody tr th:only-of-type {\n",
       "        vertical-align: middle;\n",
       "    }\n",
       "\n",
       "    .dataframe tbody tr th {\n",
       "        vertical-align: top;\n",
       "    }\n",
       "\n",
       "    .dataframe thead th {\n",
       "        text-align: right;\n",
       "    }\n",
       "</style>\n",
       "<table border=\"1\" class=\"dataframe\">\n",
       "  <thead>\n",
       "    <tr style=\"text-align: right;\">\n",
       "      <th></th>\n",
       "      <th>city</th>\n",
       "      <th>area</th>\n",
       "    </tr>\n",
       "  </thead>\n",
       "  <tbody>\n",
       "    <tr>\n",
       "      <th>0</th>\n",
       "      <td>Boston</td>\n",
       "      <td>11700.0</td>\n",
       "    </tr>\n",
       "    <tr>\n",
       "      <th>1</th>\n",
       "      <td>Paris</td>\n",
       "      <td>17174.0</td>\n",
       "    </tr>\n",
       "    <tr>\n",
       "      <th>2</th>\n",
       "      <td>Lagos</td>\n",
       "      <td>2706.0</td>\n",
       "    </tr>\n",
       "  </tbody>\n",
       "</table>\n",
       "</div>"
      ]
     },
     "execution_count": 29,
     "metadata": {},
     "output_type": "execute_result"
    }
   ],
   "execution_count": 29
  },
  {
   "cell_type": "markdown",
   "metadata": {},
   "source": [
    "Ou encore:\n",
    "\n",
    "SELECT city,area FROM frame where population>=4000000 limit 1"
   ]
  },
  {
   "cell_type": "code",
   "metadata": {
    "ExecuteTime": {
     "end_time": "2025-05-21T18:38:10.726956Z",
     "start_time": "2025-05-21T18:38:10.629864Z"
    }
   },
   "source": [
    "frame[frame['population']>=4000000][['city','area']][0:1]"
   ],
   "outputs": [
    {
     "data": {
      "text/plain": [
       "     city     area\n",
       "0  Boston  11700.0"
      ],
      "text/html": [
       "<div>\n",
       "<style scoped>\n",
       "    .dataframe tbody tr th:only-of-type {\n",
       "        vertical-align: middle;\n",
       "    }\n",
       "\n",
       "    .dataframe tbody tr th {\n",
       "        vertical-align: top;\n",
       "    }\n",
       "\n",
       "    .dataframe thead th {\n",
       "        text-align: right;\n",
       "    }\n",
       "</style>\n",
       "<table border=\"1\" class=\"dataframe\">\n",
       "  <thead>\n",
       "    <tr style=\"text-align: right;\">\n",
       "      <th></th>\n",
       "      <th>city</th>\n",
       "      <th>area</th>\n",
       "    </tr>\n",
       "  </thead>\n",
       "  <tbody>\n",
       "    <tr>\n",
       "      <th>0</th>\n",
       "      <td>Boston</td>\n",
       "      <td>11700.0</td>\n",
       "    </tr>\n",
       "  </tbody>\n",
       "</table>\n",
       "</div>"
      ]
     },
     "execution_count": 30,
     "metadata": {},
     "output_type": "execute_result"
    }
   ],
   "execution_count": 30
  },
  {
   "cell_type": "markdown",
   "metadata": {},
   "source": [
    "ou encore\n",
    "\n",
    "SELECT count(*) FROM frame"
   ]
  },
  {
   "cell_type": "code",
   "metadata": {
    "ExecuteTime": {
     "end_time": "2025-05-21T18:38:12.245775Z",
     "start_time": "2025-05-21T18:38:12.197643Z"
    }
   },
   "source": [
    "frame.shape[0]"
   ],
   "outputs": [
    {
     "data": {
      "text/plain": [
       "4"
      ]
     },
     "execution_count": 31,
     "metadata": {},
     "output_type": "execute_result"
    }
   ],
   "execution_count": 31
  },
  {
   "cell_type": "markdown",
   "metadata": {},
   "source": [
    "ou encore\n",
    "\n",
    "SELECT sum(population) FROM frame"
   ]
  },
  {
   "cell_type": "code",
   "metadata": {
    "ExecuteTime": {
     "end_time": "2025-05-21T18:38:13.998429Z",
     "start_time": "2025-05-21T18:38:13.959726Z"
    }
   },
   "source": [
    "frame['population'].sum()"
   ],
   "outputs": [
    {
     "data": {
      "text/plain": [
       "np.float64(55480426.0)"
      ]
     },
     "execution_count": 32,
     "metadata": {},
     "output_type": "execute_result"
    }
   ],
   "execution_count": 32
  },
  {
   "cell_type": "markdown",
   "metadata": {},
   "source": [
    "ou encore \n",
    "\n",
    "SELECT * from frame where country IS NULL"
   ]
  },
  {
   "cell_type": "code",
   "metadata": {
    "ExecuteTime": {
     "end_time": "2025-05-21T18:38:14.888547Z",
     "start_time": "2025-05-21T18:38:14.813819Z"
    }
   },
   "source": [
    "frame.loc[frame['country'].isna()]"
   ],
   "outputs": [
    {
     "data": {
      "text/plain": [
       "     city      area  population  country\n",
       "0  Boston   11700.0  21000000.0      NaN\n",
       "1   Paris   17174.0  12405426.0      NaN\n",
       "2   Lagos    2706.0  21000000.0      NaN\n",
       "3    Kiev  110000.0   1075000.0      NaN"
      ],
      "text/html": [
       "<div>\n",
       "<style scoped>\n",
       "    .dataframe tbody tr th:only-of-type {\n",
       "        vertical-align: middle;\n",
       "    }\n",
       "\n",
       "    .dataframe tbody tr th {\n",
       "        vertical-align: top;\n",
       "    }\n",
       "\n",
       "    .dataframe thead th {\n",
       "        text-align: right;\n",
       "    }\n",
       "</style>\n",
       "<table border=\"1\" class=\"dataframe\">\n",
       "  <thead>\n",
       "    <tr style=\"text-align: right;\">\n",
       "      <th></th>\n",
       "      <th>city</th>\n",
       "      <th>area</th>\n",
       "      <th>population</th>\n",
       "      <th>country</th>\n",
       "    </tr>\n",
       "  </thead>\n",
       "  <tbody>\n",
       "    <tr>\n",
       "      <th>0</th>\n",
       "      <td>Boston</td>\n",
       "      <td>11700.0</td>\n",
       "      <td>21000000.0</td>\n",
       "      <td>NaN</td>\n",
       "    </tr>\n",
       "    <tr>\n",
       "      <th>1</th>\n",
       "      <td>Paris</td>\n",
       "      <td>17174.0</td>\n",
       "      <td>12405426.0</td>\n",
       "      <td>NaN</td>\n",
       "    </tr>\n",
       "    <tr>\n",
       "      <th>2</th>\n",
       "      <td>Lagos</td>\n",
       "      <td>2706.0</td>\n",
       "      <td>21000000.0</td>\n",
       "      <td>NaN</td>\n",
       "    </tr>\n",
       "    <tr>\n",
       "      <th>3</th>\n",
       "      <td>Kiev</td>\n",
       "      <td>110000.0</td>\n",
       "      <td>1075000.0</td>\n",
       "      <td>NaN</td>\n",
       "    </tr>\n",
       "  </tbody>\n",
       "</table>\n",
       "</div>"
      ]
     },
     "execution_count": 33,
     "metadata": {},
     "output_type": "execute_result"
    }
   ],
   "execution_count": 33
  },
  {
   "cell_type": "markdown",
   "metadata": {},
   "source": [
    "ou encore \n",
    "\n",
    "UPDATE frame SET  country = 'mada'\n",
    "WHERE country is NULL"
   ]
  },
  {
   "cell_type": "code",
   "metadata": {
    "ExecuteTime": {
     "end_time": "2025-05-21T18:38:15.424172Z",
     "start_time": "2025-05-21T18:38:15.404511Z"
    }
   },
   "source": [
    "frame['country']= frame['country'].fillna(\"mada\")\n"
   ],
   "outputs": [],
   "execution_count": 34
  },
  {
   "cell_type": "code",
   "metadata": {
    "ExecuteTime": {
     "end_time": "2025-05-21T18:38:15.959294Z",
     "start_time": "2025-05-21T18:38:15.879271Z"
    }
   },
   "source": [
    "frame"
   ],
   "outputs": [
    {
     "data": {
      "text/plain": [
       "     city      area  population country\n",
       "0  Boston   11700.0  21000000.0    mada\n",
       "1   Paris   17174.0  12405426.0    mada\n",
       "2   Lagos    2706.0  21000000.0    mada\n",
       "3    Kiev  110000.0   1075000.0    mada"
      ],
      "text/html": [
       "<div>\n",
       "<style scoped>\n",
       "    .dataframe tbody tr th:only-of-type {\n",
       "        vertical-align: middle;\n",
       "    }\n",
       "\n",
       "    .dataframe tbody tr th {\n",
       "        vertical-align: top;\n",
       "    }\n",
       "\n",
       "    .dataframe thead th {\n",
       "        text-align: right;\n",
       "    }\n",
       "</style>\n",
       "<table border=\"1\" class=\"dataframe\">\n",
       "  <thead>\n",
       "    <tr style=\"text-align: right;\">\n",
       "      <th></th>\n",
       "      <th>city</th>\n",
       "      <th>area</th>\n",
       "      <th>population</th>\n",
       "      <th>country</th>\n",
       "    </tr>\n",
       "  </thead>\n",
       "  <tbody>\n",
       "    <tr>\n",
       "      <th>0</th>\n",
       "      <td>Boston</td>\n",
       "      <td>11700.0</td>\n",
       "      <td>21000000.0</td>\n",
       "      <td>mada</td>\n",
       "    </tr>\n",
       "    <tr>\n",
       "      <th>1</th>\n",
       "      <td>Paris</td>\n",
       "      <td>17174.0</td>\n",
       "      <td>12405426.0</td>\n",
       "      <td>mada</td>\n",
       "    </tr>\n",
       "    <tr>\n",
       "      <th>2</th>\n",
       "      <td>Lagos</td>\n",
       "      <td>2706.0</td>\n",
       "      <td>21000000.0</td>\n",
       "      <td>mada</td>\n",
       "    </tr>\n",
       "    <tr>\n",
       "      <th>3</th>\n",
       "      <td>Kiev</td>\n",
       "      <td>110000.0</td>\n",
       "      <td>1075000.0</td>\n",
       "      <td>mada</td>\n",
       "    </tr>\n",
       "  </tbody>\n",
       "</table>\n",
       "</div>"
      ]
     },
     "execution_count": 35,
     "metadata": {},
     "output_type": "execute_result"
    }
   ],
   "execution_count": 35
  },
  {
   "cell_type": "markdown",
   "metadata": {},
   "source": [
    "### Exercices\n",
    "Faire les equivalences des requetes suivantes\n",
    "\n",
    "1) `SELECT * from frame where area is not null`"
   ]
  },
  {
   "cell_type": "code",
   "metadata": {
    "ExecuteTime": {
     "end_time": "2025-05-21T18:38:17.533083Z",
     "start_time": "2025-05-21T18:38:17.503913Z"
    }
   },
   "source": [],
   "outputs": [],
   "execution_count": null
  },
  {
   "cell_type": "markdown",
   "metadata": {},
   "source": [
    "2) `SELECT city, country from frame where population>2000000`"
   ]
  },
  {
   "cell_type": "code",
   "metadata": {
    "ExecuteTime": {
     "end_time": "2025-05-21T18:38:17.960805Z",
     "start_time": "2025-05-21T18:38:17.946320Z"
    }
   },
   "source": [],
   "outputs": [],
   "execution_count": null
  },
  {
   "cell_type": "markdown",
   "metadata": {},
   "source": [
    "3) `Delete from frame where city='Lagos'`"
   ]
  },
  {
   "cell_type": "code",
   "metadata": {
    "ExecuteTime": {
     "end_time": "2025-05-21T18:38:18.789343Z",
     "start_time": "2025-05-21T18:38:18.781163Z"
    }
   },
   "source": [],
   "outputs": [],
   "execution_count": null
  },
  {
   "cell_type": "markdown",
   "metadata": {},
   "source": [
    "4) `Insert into frame(city,population,population) values('tana',5000000,'Mada')`"
   ]
  },
  {
   "cell_type": "code",
   "metadata": {
    "ExecuteTime": {
     "end_time": "2025-05-21T18:38:19.004492Z",
     "start_time": "2025-05-21T18:38:18.990510Z"
    }
   },
   "source": [],
   "outputs": [],
   "execution_count": null
  },
  {
   "cell_type": "markdown",
   "metadata": {},
   "source": [
    "5) `select city from frame where city like %o%`"
   ]
  },
  {
   "cell_type": "code",
   "metadata": {
    "ExecuteTime": {
     "end_time": "2025-05-21T18:38:19.188719Z",
     "start_time": "2025-05-21T18:38:19.172350Z"
    }
   },
   "source": [],
   "outputs": [],
   "execution_count": null
  },
  {
   "cell_type": "markdown",
   "metadata": {},
   "source": [
    "6) `select * from frame where population>10000000 and area>4000`"
   ]
  },
  {
   "cell_type": "code",
   "metadata": {
    "ExecuteTime": {
     "end_time": "2025-05-21T18:38:19.881275Z",
     "start_time": "2025-05-21T18:38:19.863250Z"
    }
   },
   "source": [],
   "outputs": [],
   "execution_count": null
  },
  {
   "cell_type": "markdown",
   "metadata": {},
   "source": [
    "7) select city from frame order by population,city"
   ]
  },
  {
   "cell_type": "code",
   "metadata": {
    "ExecuteTime": {
     "end_time": "2025-05-21T18:38:20.238352Z",
     "start_time": "2025-05-21T18:38:20.225041Z"
    }
   },
   "source": [],
   "outputs": [],
   "execution_count": null
  },
  {
   "cell_type": "markdown",
   "metadata": {},
   "source": [
    "8) select country,sum(population) from city group by country"
   ]
  },
  {
   "cell_type": "markdown",
   "metadata": {},
   "source": [
    "### Lecture de fichier avec pandas"
   ]
  },
  {
   "cell_type": "markdown",
   "metadata": {},
   "source": [
    "On peut lire un fichier texte brute, csv et excel en utilisant respectivement les fonctions\n",
    "pd.read_table, pd.read_csv, pd.read_excel."
   ]
  }
 ],
 "metadata": {
  "kernelspec": {
   "display_name": "Python 3 (ipykernel)",
   "language": "python",
   "name": "python3"
  },
  "language_info": {
   "codemirror_mode": {
    "name": "ipython",
    "version": 3
   },
   "file_extension": ".py",
   "mimetype": "text/x-python",
   "name": "python",
   "nbconvert_exporter": "python",
   "pygments_lexer": "ipython3",
   "version": "3.12.3"
  }
 },
 "nbformat": 4,
 "nbformat_minor": 4
}
